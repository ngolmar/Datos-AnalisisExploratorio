{
 "cells": [
  {
   "cell_type": "markdown",
   "metadata": {},
   "source": [
    "# Pandas I\n",
    "\n",
    "\n"
   ]
  },
  {
   "cell_type": "markdown",
   "metadata": {},
   "source": [
    "### To begin, we will be importing the libraries we will be using for this example:\n",
    "\n",
    "* **pandas**: To provide high-performance, easy-to-use data structures and data analysis tools for the Python programming\n",
    "\n",
    "* **numpy**: To add support for large, multi-dimensional arrays and matrices, along with a large collection of high-level mathematical functions to operate on these arrays.\n",
    "\n",
    "* **matplotlib**: Plotting library for the Python programming language and its numerical mathematics extension NumPy.\n",
    "\n",
    "#### We will be also using _%matplotlib inline_, to have the output of plotting commands displayed inline within frontends like the Jupyter notebook, directly below the code cell that produced it. The resulting plots will then also be stored in the notebook document. "
   ]
  },
  {
   "cell_type": "code",
   "execution_count": 75,
   "metadata": {},
   "outputs": [],
   "source": [
    "import pandas as pd\n",
    "import numpy as np\n",
    "import matplotlib.pyplot as plt\n",
    "\n",
    "%matplotlib inline"
   ]
  },
  {
   "cell_type": "markdown",
   "metadata": {},
   "source": [
    "#### Now we are ready to read the first file. As data is in csv format, we will be using the read_csv() function, which allows us to parse and load data into a dataframe (in memory) easily.\n",
    "\n",
    "#### To see what we just read, we will be using the head() function. We can indicate the number of rows as a parameter, or by default it will show 5 rows.\n",
    "####     \n"
   ]
  },
  {
   "cell_type": "code",
   "execution_count": 76,
   "metadata": {},
   "outputs": [
    {
     "data": {
      "text/html": [
       "<div>\n",
       "<style scoped>\n",
       "    .dataframe tbody tr th:only-of-type {\n",
       "        vertical-align: middle;\n",
       "    }\n",
       "\n",
       "    .dataframe tbody tr th {\n",
       "        vertical-align: top;\n",
       "    }\n",
       "\n",
       "    .dataframe thead th {\n",
       "        text-align: right;\n",
       "    }\n",
       "</style>\n",
       "<table border=\"1\" class=\"dataframe\">\n",
       "  <thead>\n",
       "    <tr style=\"text-align: right;\">\n",
       "      <th></th>\n",
       "      <th>Legajo</th>\n",
       "      <th>Apellido</th>\n",
       "      <th>Nombre</th>\n",
       "      <th>Calidad Insc.</th>\n",
       "      <th>Estado</th>\n",
       "      <th>Cod. Carrera</th>\n",
       "      <th>Carrera</th>\n",
       "      <th>Prioridad</th>\n",
       "    </tr>\n",
       "  </thead>\n",
       "  <tbody>\n",
       "    <tr>\n",
       "      <th>0</th>\n",
       "      <td>99266</td>\n",
       "      <td>ALVAREZ ALONSO</td>\n",
       "      <td>FEDERICO MATIAS</td>\n",
       "      <td>Regular</td>\n",
       "      <td>Pendiente</td>\n",
       "      <td>10.0</td>\n",
       "      <td>Ingeniería en Informática</td>\n",
       "      <td>28.0</td>\n",
       "    </tr>\n",
       "    <tr>\n",
       "      <th>1</th>\n",
       "      <td>99522</td>\n",
       "      <td>ALVAREZ JULIA</td>\n",
       "      <td>SANTIAGO</td>\n",
       "      <td>Regular</td>\n",
       "      <td>Pendiente</td>\n",
       "      <td>10.0</td>\n",
       "      <td>Ingeniería en Informática</td>\n",
       "      <td>41.0</td>\n",
       "    </tr>\n",
       "    <tr>\n",
       "      <th>2</th>\n",
       "      <td>99373</td>\n",
       "      <td>ALVAREZ</td>\n",
       "      <td>FERNANDO GABRIEL</td>\n",
       "      <td>Regular</td>\n",
       "      <td>Pendiente</td>\n",
       "      <td>10.0</td>\n",
       "      <td>Ingeniería en Informática</td>\n",
       "      <td>55.0</td>\n",
       "    </tr>\n",
       "    <tr>\n",
       "      <th>3</th>\n",
       "      <td>98359</td>\n",
       "      <td>ALVAREZ</td>\n",
       "      <td>GONZALO EZEQUIEL</td>\n",
       "      <td>Regular</td>\n",
       "      <td>Pendiente</td>\n",
       "      <td>10.0</td>\n",
       "      <td>Ingeniería en Informática</td>\n",
       "      <td>53.0</td>\n",
       "    </tr>\n",
       "    <tr>\n",
       "      <th>4</th>\n",
       "      <td>90928</td>\n",
       "      <td>ALVAREZ</td>\n",
       "      <td>NATALIA NAYLA</td>\n",
       "      <td>Regular</td>\n",
       "      <td>Pendiente</td>\n",
       "      <td>10.0</td>\n",
       "      <td>Ingeniería en Informática</td>\n",
       "      <td>93.0</td>\n",
       "    </tr>\n",
       "  </tbody>\n",
       "</table>\n",
       "</div>"
      ],
      "text/plain": [
       "   Legajo        Apellido             Nombre Calidad Insc.     Estado  \\\n",
       "0   99266  ALVAREZ ALONSO    FEDERICO MATIAS       Regular  Pendiente   \n",
       "1   99522   ALVAREZ JULIA           SANTIAGO       Regular  Pendiente   \n",
       "2   99373         ALVAREZ   FERNANDO GABRIEL       Regular  Pendiente   \n",
       "3   98359         ALVAREZ   GONZALO EZEQUIEL       Regular  Pendiente   \n",
       "4   90928         ALVAREZ      NATALIA NAYLA       Regular  Pendiente   \n",
       "\n",
       "   Cod. Carrera                    Carrera  Prioridad  \n",
       "0          10.0  Ingeniería en Informática       28.0  \n",
       "1          10.0  Ingeniería en Informática       41.0  \n",
       "2          10.0  Ingeniería en Informática       55.0  \n",
       "3          10.0  Ingeniería en Informática       53.0  \n",
       "4          10.0  Ingeniería en Informática       93.0  "
      ]
     },
     "execution_count": 76,
     "metadata": {},
     "output_type": "execute_result"
    }
   ],
   "source": [
    "Inscriptos2019 = pd.read_csv('Data/Inscriptos-Datos/Inscriptos-Datos2019-Regulares.csv', encoding='latin-1')\n",
    "Inscriptos2019.head()"
   ]
  },
  {
   "cell_type": "markdown",
   "metadata": {},
   "source": [
    "### DataFrame structure\n",
    "\n",
    "#### This is how a DataFrame is shown. We can see that both the column names and the index names are in bold. Columns and index provide labels to the columns and rows, which allow for direct and easy access to different subsets of data.\n",
    "\n",
    "#### DataFrame data (values) is always in regular font and is an entirely separate component from the columns or index.\n",
    "\n",
    "####  Each of the three DataFrame components: the index, columns, and data; may be accessed directly from a DataFrame. Each of these components is itself a Python object with its own unique attributes and methods.\n",
    "\n",
    "#### Let´s see how to access each of them:\n",
    "####     "
   ]
  },
  {
   "cell_type": "code",
   "execution_count": 77,
   "metadata": {},
   "outputs": [],
   "source": [
    "Inscriptos_index = Inscriptos2019.index\n",
    "Inscriptos_columns = Inscriptos2019.columns\n",
    "Inscriptos_data = Inscriptos2019.values"
   ]
  },
  {
   "cell_type": "code",
   "execution_count": 78,
   "metadata": {},
   "outputs": [
    {
     "data": {
      "text/plain": [
       "RangeIndex(start=0, stop=129, step=1)"
      ]
     },
     "execution_count": 78,
     "metadata": {},
     "output_type": "execute_result"
    }
   ],
   "source": [
    "Inscriptos_index"
   ]
  },
  {
   "cell_type": "code",
   "execution_count": 79,
   "metadata": {},
   "outputs": [
    {
     "data": {
      "text/plain": [
       "Index(['Legajo', 'Apellido', ' Nombre', 'Calidad Insc.', 'Estado',\n",
       "       'Cod. Carrera', 'Carrera', 'Prioridad'],\n",
       "      dtype='object')"
      ]
     },
     "execution_count": 79,
     "metadata": {},
     "output_type": "execute_result"
    }
   ],
   "source": [
    "Inscriptos_columns"
   ]
  },
  {
   "cell_type": "code",
   "execution_count": 80,
   "metadata": {},
   "outputs": [
    {
     "data": {
      "text/plain": [
       "array([[99266, 'ALVAREZ ALONSO', ' FEDERICO MATIAS', ..., 10.0,\n",
       "        'Ingeniería en Informática', 28.0],\n",
       "       [99522, 'ALVAREZ JULIA', ' SANTIAGO', ..., 10.0,\n",
       "        'Ingeniería en Informática', 41.0],\n",
       "       [99373, 'ALVAREZ', ' FERNANDO GABRIEL', ..., 10.0,\n",
       "        'Ingeniería en Informática', 55.0],\n",
       "       ...,\n",
       "       [95758, 'ZUGNA', ' FEDERICO GABRIEL', ..., 10.0,\n",
       "        'Ingeniería en Informática', 22.0],\n",
       "       [81404, 'CASTELLANOS', ' CESAR', ..., nan, nan, nan],\n",
       "       [103118, 'VINESSE', ' YORICK', ..., nan, nan, nan]], dtype=object)"
      ]
     },
     "execution_count": 80,
     "metadata": {},
     "output_type": "execute_result"
    }
   ],
   "source": [
    "Inscriptos_data"
   ]
  },
  {
   "cell_type": "code",
   "execution_count": 81,
   "metadata": {},
   "outputs": [
    {
     "data": {
      "text/plain": [
       "pandas.core.indexes.range.RangeIndex"
      ]
     },
     "execution_count": 81,
     "metadata": {},
     "output_type": "execute_result"
    }
   ],
   "source": [
    "type(Inscriptos_index)"
   ]
  },
  {
   "cell_type": "code",
   "execution_count": 82,
   "metadata": {},
   "outputs": [
    {
     "data": {
      "text/plain": [
       "pandas.core.indexes.base.Index"
      ]
     },
     "execution_count": 82,
     "metadata": {},
     "output_type": "execute_result"
    }
   ],
   "source": [
    "type(Inscriptos_columns)"
   ]
  },
  {
   "cell_type": "code",
   "execution_count": 83,
   "metadata": {},
   "outputs": [
    {
     "data": {
      "text/plain": [
       "numpy.ndarray"
      ]
     },
     "execution_count": 83,
     "metadata": {},
     "output_type": "execute_result"
    }
   ],
   "source": [
    "type(Inscriptos_data)"
   ]
  },
  {
   "cell_type": "markdown",
   "metadata": {},
   "source": [
    "### Data Types\n",
    "\n",
    "* _bool_: Boolean, stored in a single byte\n",
    "* _int_: Integer, defaulted to 64bits, also available unsigned int\n",
    "* _float_: Float, defaulted to 64bits\n",
    "* _complex_: Complex, rarely seen in data analysis\n",
    "* _object_: Object, typically a string, but is a catch-all for columns with multiple different types or other python objects\n",
    "* _datetime64_: Datetime, specific moment in time\n",
    "* _timedelta64_: Timedelta, amount of time\n",
    "* _category_: Categorical, used for columns with a few possible values\n",
    "\n",
    "#### We can use _dtype_ to display the data type associated with each column\n",
    "##   \n"
   ]
  },
  {
   "cell_type": "code",
   "execution_count": 84,
   "metadata": {},
   "outputs": [
    {
     "data": {
      "text/plain": [
       "Legajo             int64\n",
       "Apellido          object\n",
       " Nombre           object\n",
       "Calidad Insc.     object\n",
       "Estado            object\n",
       "Cod. Carrera     float64\n",
       "Carrera           object\n",
       "Prioridad        float64\n",
       "dtype: object"
      ]
     },
     "execution_count": 84,
     "metadata": {},
     "output_type": "execute_result"
    }
   ],
   "source": [
    "Inscriptos2019.dtypes"
   ]
  },
  {
   "cell_type": "code",
   "execution_count": 85,
   "metadata": {},
   "outputs": [
    {
     "data": {
      "text/plain": [
       "float64    2\n",
       "int64      1\n",
       "object     5\n",
       "dtype: int64"
      ]
     },
     "execution_count": 85,
     "metadata": {},
     "output_type": "execute_result"
    }
   ],
   "source": [
    "Inscriptos2019.get_dtype_counts()"
   ]
  },
  {
   "cell_type": "markdown",
   "metadata": {},
   "source": [
    "### Series\n",
    "\n",
    "  It is a __single dimension__ of data, composed of just an index and the data\n",
    "\n",
    "  We can select a column using the __index operator__, or using the __dot notation__. \n",
    "\n",
    "###   \n"
   ]
  },
  {
   "cell_type": "code",
   "execution_count": 280,
   "metadata": {},
   "outputs": [
    {
     "data": {
      "text/plain": [
       "0    ALVAREZ ALONSO\n",
       "1     ALVAREZ JULIA\n",
       "2           ALVAREZ\n",
       "3           ALVAREZ\n",
       "4           ALVAREZ\n",
       "Name: Apellido, dtype: object"
      ]
     },
     "execution_count": 280,
     "metadata": {},
     "output_type": "execute_result"
    }
   ],
   "source": [
    "# We can indicate a column name, using the index operator:\n",
    "\n",
    "Inscriptos2019['Apellido'].head()"
   ]
  },
  {
   "cell_type": "code",
   "execution_count": 281,
   "metadata": {},
   "outputs": [
    {
     "data": {
      "text/plain": [
       "0    ALVAREZ ALONSO\n",
       "1     ALVAREZ JULIA\n",
       "2           ALVAREZ\n",
       "3           ALVAREZ\n",
       "4           ALVAREZ\n",
       "Name: Apellido, dtype: object"
      ]
     },
     "execution_count": 281,
     "metadata": {},
     "output_type": "execute_result"
    }
   ],
   "source": [
    "# We can also use the dot notation to indicate which column to select\n",
    "\n",
    "Inscriptos2019.Apellido.head()"
   ]
  },
  {
   "cell_type": "markdown",
   "metadata": {},
   "source": [
    "### In this case, both outputs are the same, they are series. It has an index and data, the data type is the one from the column, in this case is object. \n",
    "\n",
    "Notice that this worked because the column name doesn´t include a blank. If the column was named business name instead of name, it whouldn´t have worked. \n",
    "\n",
    "Best practice is to use always the __index operator__, and avoid the use of the dot notation.\n",
    "###    "
   ]
  },
  {
   "cell_type": "code",
   "execution_count": 88,
   "metadata": {},
   "outputs": [
    {
     "data": {
      "text/plain": [
       "pandas.core.series.Series"
      ]
     },
     "execution_count": 88,
     "metadata": {},
     "output_type": "execute_result"
    }
   ],
   "source": [
    "#To verify the data type of the output:\n",
    "\n",
    "type(Inscriptos2019['Apellido'])"
   ]
  },
  {
   "cell_type": "code",
   "execution_count": 89,
   "metadata": {},
   "outputs": [
    {
     "data": {
      "text/plain": [
       "pandas.core.frame.DataFrame"
      ]
     },
     "execution_count": 89,
     "metadata": {},
     "output_type": "execute_result"
    }
   ],
   "source": [
    "type(Inscriptos2019['Apellido'].to_frame())"
   ]
  },
  {
   "cell_type": "code",
   "execution_count": 318,
   "metadata": {},
   "outputs": [
    {
     "name": "stdout",
     "output_type": "stream",
     "text": [
      "<class 'pandas.core.frame.DataFrame'>\n",
      "RangeIndex: 129 entries, 0 to 128\n",
      "Data columns (total 1 columns):\n",
      "Apellido    129 non-null object\n",
      "dtypes: object(1)\n",
      "memory usage: 1.1+ KB\n"
     ]
    }
   ],
   "source": [
    "Inscriptos2019['Apellido'].to_frame().info()"
   ]
  },
  {
   "cell_type": "markdown",
   "metadata": {},
   "source": [
    "### Series Methods\n",
    "\n",
    "#### We will start understanding what methods can be applied to a series, and some examples. Methods will depend on the data type.\n",
    "###   "
   ]
  },
  {
   "cell_type": "code",
   "execution_count": 91,
   "metadata": {},
   "outputs": [
    {
     "data": {
      "text/plain": [
       "455"
      ]
     },
     "execution_count": 91,
     "metadata": {},
     "output_type": "execute_result"
    }
   ],
   "source": [
    "s_attr_methods = set(dir(pd.Series))\n",
    "len(s_attr_methods)"
   ]
  },
  {
   "cell_type": "code",
   "execution_count": 92,
   "metadata": {},
   "outputs": [
    {
     "data": {
      "text/plain": [
       "{'T',\n",
       " '_AXIS_ALIASES',\n",
       " '_AXIS_IALIASES',\n",
       " '_AXIS_LEN',\n",
       " '_AXIS_NAMES',\n",
       " '_AXIS_NUMBERS',\n",
       " '_AXIS_ORDERS',\n",
       " '_AXIS_REVERSED',\n",
       " '_AXIS_SLICEMAP',\n",
       " '__abs__',\n",
       " '__add__',\n",
       " '__and__',\n",
       " '__array__',\n",
       " '__array_prepare__',\n",
       " '__array_priority__',\n",
       " '__array_wrap__',\n",
       " '__bool__',\n",
       " '__bytes__',\n",
       " '__class__',\n",
       " '__contains__',\n",
       " '__copy__',\n",
       " '__deepcopy__',\n",
       " '__delattr__',\n",
       " '__delitem__',\n",
       " '__dict__',\n",
       " '__dir__',\n",
       " '__div__',\n",
       " '__divmod__',\n",
       " '__doc__',\n",
       " '__eq__',\n",
       " '__finalize__',\n",
       " '__float__',\n",
       " '__floordiv__',\n",
       " '__format__',\n",
       " '__ge__',\n",
       " '__getattr__',\n",
       " '__getattribute__',\n",
       " '__getitem__',\n",
       " '__getstate__',\n",
       " '__gt__',\n",
       " '__hash__',\n",
       " '__iadd__',\n",
       " '__iand__',\n",
       " '__ifloordiv__',\n",
       " '__imod__',\n",
       " '__imul__',\n",
       " '__init__',\n",
       " '__init_subclass__',\n",
       " '__int__',\n",
       " '__invert__',\n",
       " '__ior__',\n",
       " '__ipow__',\n",
       " '__isub__',\n",
       " '__iter__',\n",
       " '__itruediv__',\n",
       " '__ixor__',\n",
       " '__le__',\n",
       " '__len__',\n",
       " '__long__',\n",
       " '__lt__',\n",
       " '__mod__',\n",
       " '__module__',\n",
       " '__mul__',\n",
       " '__ne__',\n",
       " '__neg__',\n",
       " '__new__',\n",
       " '__nonzero__',\n",
       " '__or__',\n",
       " '__pow__',\n",
       " '__radd__',\n",
       " '__rand__',\n",
       " '__rdiv__',\n",
       " '__reduce__',\n",
       " '__reduce_ex__',\n",
       " '__repr__',\n",
       " '__rfloordiv__',\n",
       " '__rmod__',\n",
       " '__rmul__',\n",
       " '__ror__',\n",
       " '__round__',\n",
       " '__rpow__',\n",
       " '__rsub__',\n",
       " '__rtruediv__',\n",
       " '__rxor__',\n",
       " '__setattr__',\n",
       " '__setitem__',\n",
       " '__setstate__',\n",
       " '__sizeof__',\n",
       " '__str__',\n",
       " '__sub__',\n",
       " '__subclasshook__',\n",
       " '__truediv__',\n",
       " '__unicode__',\n",
       " '__weakref__',\n",
       " '__xor__',\n",
       " '_accessors',\n",
       " '_add_numeric_operations',\n",
       " '_add_series_only_operations',\n",
       " '_add_series_or_dataframe_operations',\n",
       " '_agg_by_level',\n",
       " '_agg_doc',\n",
       " '_aggregate',\n",
       " '_aggregate_multiple_funcs',\n",
       " '_align_frame',\n",
       " '_align_series',\n",
       " '_allow_index_ops',\n",
       " '_at',\n",
       " '_binop',\n",
       " '_box_item_values',\n",
       " '_builtin_table',\n",
       " '_can_hold_na',\n",
       " '_check_inplace_setting',\n",
       " '_check_is_chained_assignment_possible',\n",
       " '_check_percentile',\n",
       " '_check_setitem_copy',\n",
       " '_clear_item_cache',\n",
       " '_clip_with_one_bound',\n",
       " '_clip_with_scalar',\n",
       " '_consolidate',\n",
       " '_consolidate_inplace',\n",
       " '_construct_axes_dict',\n",
       " '_construct_axes_dict_for_slice',\n",
       " '_construct_axes_dict_from',\n",
       " '_construct_axes_from_arguments',\n",
       " '_constructor',\n",
       " '_constructor_expanddim',\n",
       " '_constructor_sliced',\n",
       " '_convert',\n",
       " '_create_indexer',\n",
       " '_cython_table',\n",
       " '_deprecations',\n",
       " '_dir_additions',\n",
       " '_dir_deletions',\n",
       " '_drop_axis',\n",
       " '_expand_axes',\n",
       " '_formatting_values',\n",
       " '_from_axes',\n",
       " '_get_axis',\n",
       " '_get_axis_name',\n",
       " '_get_axis_number',\n",
       " '_get_axis_resolvers',\n",
       " '_get_block_manager_axis',\n",
       " '_get_bool_data',\n",
       " '_get_cacher',\n",
       " '_get_index_resolvers',\n",
       " '_get_item_cache',\n",
       " '_get_numeric_data',\n",
       " '_get_value',\n",
       " '_get_values',\n",
       " '_get_values_tuple',\n",
       " '_get_with',\n",
       " '_gotitem',\n",
       " '_iat',\n",
       " '_iget_item_cache',\n",
       " '_iloc',\n",
       " '_index',\n",
       " '_indexed_same',\n",
       " '_info_axis',\n",
       " '_info_axis_name',\n",
       " '_info_axis_number',\n",
       " '_init_mgr',\n",
       " '_internal_names',\n",
       " '_internal_names_set',\n",
       " '_is_builtin_func',\n",
       " '_is_cached',\n",
       " '_is_cython_func',\n",
       " '_is_datelike_mixed_type',\n",
       " '_is_mixed_type',\n",
       " '_is_numeric_mixed_type',\n",
       " '_is_view',\n",
       " '_ix',\n",
       " '_ixs',\n",
       " '_loc',\n",
       " '_maybe_cache_changed',\n",
       " '_maybe_update_cacher',\n",
       " '_metadata',\n",
       " '_needs_reindex_multi',\n",
       " '_obj_with_exclusions',\n",
       " '_protect_consolidate',\n",
       " '_reduce',\n",
       " '_reindex_axes',\n",
       " '_reindex_axis',\n",
       " '_reindex_indexer',\n",
       " '_reindex_multi',\n",
       " '_reindex_with_indexers',\n",
       " '_repr_data_resource_',\n",
       " '_repr_latex_',\n",
       " '_reset_cache',\n",
       " '_reset_cacher',\n",
       " '_selected_obj',\n",
       " '_selection',\n",
       " '_selection_list',\n",
       " '_selection_name',\n",
       " '_set_as_cached',\n",
       " '_set_axis',\n",
       " '_set_axis_name',\n",
       " '_set_is_copy',\n",
       " '_set_item',\n",
       " '_set_labels',\n",
       " '_set_name',\n",
       " '_set_subtyp',\n",
       " '_set_value',\n",
       " '_set_values',\n",
       " '_set_with',\n",
       " '_set_with_engine',\n",
       " '_setup_axes',\n",
       " '_shallow_copy',\n",
       " '_slice',\n",
       " '_stat_axis',\n",
       " '_stat_axis_name',\n",
       " '_stat_axis_number',\n",
       " '_take',\n",
       " '_to_dict_of_blocks',\n",
       " '_try_aggregate_string_function',\n",
       " '_typ',\n",
       " '_unpickle_series_compat',\n",
       " '_update_inplace',\n",
       " '_validate_dtype',\n",
       " '_values',\n",
       " '_where',\n",
       " '_xs',\n",
       " 'abs',\n",
       " 'add',\n",
       " 'add_prefix',\n",
       " 'add_suffix',\n",
       " 'agg',\n",
       " 'aggregate',\n",
       " 'align',\n",
       " 'all',\n",
       " 'any',\n",
       " 'append',\n",
       " 'apply',\n",
       " 'argmax',\n",
       " 'argmin',\n",
       " 'argsort',\n",
       " 'as_blocks',\n",
       " 'as_matrix',\n",
       " 'asfreq',\n",
       " 'asobject',\n",
       " 'asof',\n",
       " 'astype',\n",
       " 'at',\n",
       " 'at_time',\n",
       " 'autocorr',\n",
       " 'axes',\n",
       " 'base',\n",
       " 'between',\n",
       " 'between_time',\n",
       " 'bfill',\n",
       " 'blocks',\n",
       " 'bool',\n",
       " 'cat',\n",
       " 'clip',\n",
       " 'clip_lower',\n",
       " 'clip_upper',\n",
       " 'combine',\n",
       " 'combine_first',\n",
       " 'compound',\n",
       " 'compress',\n",
       " 'consolidate',\n",
       " 'convert_objects',\n",
       " 'copy',\n",
       " 'corr',\n",
       " 'count',\n",
       " 'cov',\n",
       " 'cummax',\n",
       " 'cummin',\n",
       " 'cumprod',\n",
       " 'cumsum',\n",
       " 'data',\n",
       " 'describe',\n",
       " 'diff',\n",
       " 'div',\n",
       " 'divide',\n",
       " 'dot',\n",
       " 'drop',\n",
       " 'drop_duplicates',\n",
       " 'dropna',\n",
       " 'dt',\n",
       " 'dtype',\n",
       " 'dtypes',\n",
       " 'duplicated',\n",
       " 'empty',\n",
       " 'eq',\n",
       " 'equals',\n",
       " 'ewm',\n",
       " 'expanding',\n",
       " 'factorize',\n",
       " 'ffill',\n",
       " 'fillna',\n",
       " 'filter',\n",
       " 'first',\n",
       " 'first_valid_index',\n",
       " 'flags',\n",
       " 'floordiv',\n",
       " 'from_array',\n",
       " 'from_csv',\n",
       " 'ftype',\n",
       " 'ftypes',\n",
       " 'ge',\n",
       " 'get',\n",
       " 'get_dtype_counts',\n",
       " 'get_ftype_counts',\n",
       " 'get_value',\n",
       " 'get_values',\n",
       " 'groupby',\n",
       " 'gt',\n",
       " 'hasnans',\n",
       " 'head',\n",
       " 'hist',\n",
       " 'iat',\n",
       " 'idxmax',\n",
       " 'idxmin',\n",
       " 'iloc',\n",
       " 'imag',\n",
       " 'index',\n",
       " 'infer_objects',\n",
       " 'interpolate',\n",
       " 'is_copy',\n",
       " 'is_monotonic',\n",
       " 'is_monotonic_decreasing',\n",
       " 'is_monotonic_increasing',\n",
       " 'is_unique',\n",
       " 'isin',\n",
       " 'isna',\n",
       " 'isnull',\n",
       " 'item',\n",
       " 'items',\n",
       " 'itemsize',\n",
       " 'iteritems',\n",
       " 'ix',\n",
       " 'keys',\n",
       " 'kurt',\n",
       " 'kurtosis',\n",
       " 'last',\n",
       " 'last_valid_index',\n",
       " 'le',\n",
       " 'loc',\n",
       " 'lt',\n",
       " 'mad',\n",
       " 'map',\n",
       " 'mask',\n",
       " 'max',\n",
       " 'mean',\n",
       " 'median',\n",
       " 'memory_usage',\n",
       " 'min',\n",
       " 'mod',\n",
       " 'mode',\n",
       " 'mul',\n",
       " 'multiply',\n",
       " 'name',\n",
       " 'nbytes',\n",
       " 'ndim',\n",
       " 'ne',\n",
       " 'nlargest',\n",
       " 'nonzero',\n",
       " 'notna',\n",
       " 'notnull',\n",
       " 'nsmallest',\n",
       " 'nunique',\n",
       " 'pct_change',\n",
       " 'pipe',\n",
       " 'plot',\n",
       " 'pop',\n",
       " 'pow',\n",
       " 'prod',\n",
       " 'product',\n",
       " 'ptp',\n",
       " 'put',\n",
       " 'quantile',\n",
       " 'radd',\n",
       " 'rank',\n",
       " 'ravel',\n",
       " 'rdiv',\n",
       " 'real',\n",
       " 'reindex',\n",
       " 'reindex_axis',\n",
       " 'reindex_like',\n",
       " 'rename',\n",
       " 'rename_axis',\n",
       " 'reorder_levels',\n",
       " 'repeat',\n",
       " 'replace',\n",
       " 'resample',\n",
       " 'reset_index',\n",
       " 'reshape',\n",
       " 'rfloordiv',\n",
       " 'rmod',\n",
       " 'rmul',\n",
       " 'rolling',\n",
       " 'round',\n",
       " 'rpow',\n",
       " 'rsub',\n",
       " 'rtruediv',\n",
       " 'sample',\n",
       " 'searchsorted',\n",
       " 'select',\n",
       " 'sem',\n",
       " 'set_axis',\n",
       " 'set_value',\n",
       " 'shape',\n",
       " 'shift',\n",
       " 'size',\n",
       " 'skew',\n",
       " 'slice_shift',\n",
       " 'sort_index',\n",
       " 'sort_values',\n",
       " 'sortlevel',\n",
       " 'squeeze',\n",
       " 'std',\n",
       " 'str',\n",
       " 'strides',\n",
       " 'sub',\n",
       " 'subtract',\n",
       " 'sum',\n",
       " 'swapaxes',\n",
       " 'swaplevel',\n",
       " 'tail',\n",
       " 'take',\n",
       " 'to_clipboard',\n",
       " 'to_csv',\n",
       " 'to_dense',\n",
       " 'to_dict',\n",
       " 'to_excel',\n",
       " 'to_frame',\n",
       " 'to_hdf',\n",
       " 'to_json',\n",
       " 'to_latex',\n",
       " 'to_msgpack',\n",
       " 'to_period',\n",
       " 'to_pickle',\n",
       " 'to_sparse',\n",
       " 'to_sql',\n",
       " 'to_string',\n",
       " 'to_timestamp',\n",
       " 'to_xarray',\n",
       " 'tolist',\n",
       " 'transform',\n",
       " 'transpose',\n",
       " 'truediv',\n",
       " 'truncate',\n",
       " 'tshift',\n",
       " 'tz_convert',\n",
       " 'tz_localize',\n",
       " 'unique',\n",
       " 'unstack',\n",
       " 'update',\n",
       " 'valid',\n",
       " 'value_counts',\n",
       " 'values',\n",
       " 'var',\n",
       " 'view',\n",
       " 'where',\n",
       " 'xs'}"
      ]
     },
     "execution_count": 92,
     "metadata": {},
     "output_type": "execute_result"
    }
   ],
   "source": [
    "s_attr_methods"
   ]
  },
  {
   "cell_type": "code",
   "execution_count": 93,
   "metadata": {},
   "outputs": [
    {
     "data": {
      "text/plain": [
       "462"
      ]
     },
     "execution_count": 93,
     "metadata": {},
     "output_type": "execute_result"
    }
   ],
   "source": [
    "df_attr_methods = set(dir(pd.DataFrame))\n",
    "len(df_attr_methods)\n"
   ]
  },
  {
   "cell_type": "code",
   "execution_count": 94,
   "metadata": {},
   "outputs": [
    {
     "data": {
      "text/plain": [
       "{'T',\n",
       " '_AXIS_ALIASES',\n",
       " '_AXIS_IALIASES',\n",
       " '_AXIS_LEN',\n",
       " '_AXIS_NAMES',\n",
       " '_AXIS_NUMBERS',\n",
       " '_AXIS_ORDERS',\n",
       " '_AXIS_REVERSED',\n",
       " '_AXIS_SLICEMAP',\n",
       " '__abs__',\n",
       " '__add__',\n",
       " '__and__',\n",
       " '__array__',\n",
       " '__array_wrap__',\n",
       " '__bool__',\n",
       " '__bytes__',\n",
       " '__class__',\n",
       " '__contains__',\n",
       " '__copy__',\n",
       " '__deepcopy__',\n",
       " '__delattr__',\n",
       " '__delitem__',\n",
       " '__dict__',\n",
       " '__dir__',\n",
       " '__div__',\n",
       " '__doc__',\n",
       " '__eq__',\n",
       " '__finalize__',\n",
       " '__floordiv__',\n",
       " '__format__',\n",
       " '__ge__',\n",
       " '__getattr__',\n",
       " '__getattribute__',\n",
       " '__getitem__',\n",
       " '__getstate__',\n",
       " '__gt__',\n",
       " '__hash__',\n",
       " '__iadd__',\n",
       " '__iand__',\n",
       " '__ifloordiv__',\n",
       " '__imod__',\n",
       " '__imul__',\n",
       " '__init__',\n",
       " '__init_subclass__',\n",
       " '__invert__',\n",
       " '__ior__',\n",
       " '__ipow__',\n",
       " '__isub__',\n",
       " '__iter__',\n",
       " '__itruediv__',\n",
       " '__ixor__',\n",
       " '__le__',\n",
       " '__len__',\n",
       " '__lt__',\n",
       " '__mod__',\n",
       " '__module__',\n",
       " '__mul__',\n",
       " '__ne__',\n",
       " '__neg__',\n",
       " '__new__',\n",
       " '__nonzero__',\n",
       " '__or__',\n",
       " '__pow__',\n",
       " '__radd__',\n",
       " '__rand__',\n",
       " '__rdiv__',\n",
       " '__reduce__',\n",
       " '__reduce_ex__',\n",
       " '__repr__',\n",
       " '__rfloordiv__',\n",
       " '__rmod__',\n",
       " '__rmul__',\n",
       " '__ror__',\n",
       " '__round__',\n",
       " '__rpow__',\n",
       " '__rsub__',\n",
       " '__rtruediv__',\n",
       " '__rxor__',\n",
       " '__setattr__',\n",
       " '__setitem__',\n",
       " '__setstate__',\n",
       " '__sizeof__',\n",
       " '__str__',\n",
       " '__sub__',\n",
       " '__subclasshook__',\n",
       " '__truediv__',\n",
       " '__unicode__',\n",
       " '__weakref__',\n",
       " '__xor__',\n",
       " '_accessors',\n",
       " '_add_numeric_operations',\n",
       " '_add_series_only_operations',\n",
       " '_add_series_or_dataframe_operations',\n",
       " '_agg_by_level',\n",
       " '_agg_doc',\n",
       " '_aggregate',\n",
       " '_aggregate_multiple_funcs',\n",
       " '_align_frame',\n",
       " '_align_series',\n",
       " '_apply_broadcast',\n",
       " '_apply_empty_result',\n",
       " '_apply_raw',\n",
       " '_apply_standard',\n",
       " '_at',\n",
       " '_box_col_values',\n",
       " '_box_item_values',\n",
       " '_builtin_table',\n",
       " '_check_inplace_setting',\n",
       " '_check_is_chained_assignment_possible',\n",
       " '_check_percentile',\n",
       " '_check_setitem_copy',\n",
       " '_clear_item_cache',\n",
       " '_clip_with_one_bound',\n",
       " '_clip_with_scalar',\n",
       " '_combine_const',\n",
       " '_combine_frame',\n",
       " '_combine_match_columns',\n",
       " '_combine_match_index',\n",
       " '_combine_series',\n",
       " '_combine_series_infer',\n",
       " '_compare_frame',\n",
       " '_compare_frame_evaluate',\n",
       " '_consolidate',\n",
       " '_consolidate_inplace',\n",
       " '_construct_axes_dict',\n",
       " '_construct_axes_dict_for_slice',\n",
       " '_construct_axes_dict_from',\n",
       " '_construct_axes_from_arguments',\n",
       " '_constructor',\n",
       " '_constructor_expanddim',\n",
       " '_constructor_sliced',\n",
       " '_convert',\n",
       " '_count_level',\n",
       " '_create_indexer',\n",
       " '_cython_table',\n",
       " '_deprecations',\n",
       " '_dir_additions',\n",
       " '_dir_deletions',\n",
       " '_drop_axis',\n",
       " '_ensure_valid_index',\n",
       " '_expand_axes',\n",
       " '_flex_compare_frame',\n",
       " '_from_arrays',\n",
       " '_from_axes',\n",
       " '_get_agg_axis',\n",
       " '_get_axis',\n",
       " '_get_axis_name',\n",
       " '_get_axis_number',\n",
       " '_get_axis_resolvers',\n",
       " '_get_block_manager_axis',\n",
       " '_get_bool_data',\n",
       " '_get_cacher',\n",
       " '_get_index_resolvers',\n",
       " '_get_item_cache',\n",
       " '_get_numeric_data',\n",
       " '_get_valid_indices',\n",
       " '_get_value',\n",
       " '_get_values',\n",
       " '_getitem_array',\n",
       " '_getitem_column',\n",
       " '_getitem_frame',\n",
       " '_getitem_multilevel',\n",
       " '_getitem_slice',\n",
       " '_gotitem',\n",
       " '_iat',\n",
       " '_iget_item_cache',\n",
       " '_iloc',\n",
       " '_indexed_same',\n",
       " '_info_axis',\n",
       " '_info_axis_name',\n",
       " '_info_axis_number',\n",
       " '_info_repr',\n",
       " '_init_dict',\n",
       " '_init_mgr',\n",
       " '_init_ndarray',\n",
       " '_internal_names',\n",
       " '_internal_names_set',\n",
       " '_is_builtin_func',\n",
       " '_is_cached',\n",
       " '_is_cython_func',\n",
       " '_is_datelike_mixed_type',\n",
       " '_is_mixed_type',\n",
       " '_is_numeric_mixed_type',\n",
       " '_is_view',\n",
       " '_ix',\n",
       " '_ixs',\n",
       " '_join_compat',\n",
       " '_loc',\n",
       " '_maybe_cache_changed',\n",
       " '_maybe_update_cacher',\n",
       " '_metadata',\n",
       " '_needs_reindex_multi',\n",
       " '_obj_with_exclusions',\n",
       " '_protect_consolidate',\n",
       " '_reduce',\n",
       " '_reindex_axes',\n",
       " '_reindex_axis',\n",
       " '_reindex_columns',\n",
       " '_reindex_index',\n",
       " '_reindex_multi',\n",
       " '_reindex_with_indexers',\n",
       " '_repr_data_resource_',\n",
       " '_repr_fits_horizontal_',\n",
       " '_repr_fits_vertical_',\n",
       " '_repr_html_',\n",
       " '_repr_latex_',\n",
       " '_reset_cache',\n",
       " '_reset_cacher',\n",
       " '_sanitize_column',\n",
       " '_selected_obj',\n",
       " '_selection',\n",
       " '_selection_list',\n",
       " '_selection_name',\n",
       " '_series',\n",
       " '_set_as_cached',\n",
       " '_set_axis',\n",
       " '_set_axis_name',\n",
       " '_set_is_copy',\n",
       " '_set_item',\n",
       " '_set_value',\n",
       " '_setitem_array',\n",
       " '_setitem_frame',\n",
       " '_setitem_slice',\n",
       " '_setup_axes',\n",
       " '_shallow_copy',\n",
       " '_slice',\n",
       " '_stat_axis',\n",
       " '_stat_axis_name',\n",
       " '_stat_axis_number',\n",
       " '_take',\n",
       " '_to_dict_of_blocks',\n",
       " '_try_aggregate_string_function',\n",
       " '_typ',\n",
       " '_unpickle_frame_compat',\n",
       " '_unpickle_matrix_compat',\n",
       " '_update_inplace',\n",
       " '_validate_dtype',\n",
       " '_values',\n",
       " '_where',\n",
       " '_xs',\n",
       " 'abs',\n",
       " 'add',\n",
       " 'add_prefix',\n",
       " 'add_suffix',\n",
       " 'agg',\n",
       " 'aggregate',\n",
       " 'align',\n",
       " 'all',\n",
       " 'any',\n",
       " 'append',\n",
       " 'apply',\n",
       " 'applymap',\n",
       " 'as_blocks',\n",
       " 'as_matrix',\n",
       " 'asfreq',\n",
       " 'asof',\n",
       " 'assign',\n",
       " 'astype',\n",
       " 'at',\n",
       " 'at_time',\n",
       " 'axes',\n",
       " 'between_time',\n",
       " 'bfill',\n",
       " 'blocks',\n",
       " 'bool',\n",
       " 'boxplot',\n",
       " 'clip',\n",
       " 'clip_lower',\n",
       " 'clip_upper',\n",
       " 'columns',\n",
       " 'combine',\n",
       " 'combine_first',\n",
       " 'compound',\n",
       " 'consolidate',\n",
       " 'convert_objects',\n",
       " 'copy',\n",
       " 'corr',\n",
       " 'corrwith',\n",
       " 'count',\n",
       " 'cov',\n",
       " 'cummax',\n",
       " 'cummin',\n",
       " 'cumprod',\n",
       " 'cumsum',\n",
       " 'describe',\n",
       " 'diff',\n",
       " 'div',\n",
       " 'divide',\n",
       " 'dot',\n",
       " 'drop',\n",
       " 'drop_duplicates',\n",
       " 'dropna',\n",
       " 'dtypes',\n",
       " 'duplicated',\n",
       " 'empty',\n",
       " 'eq',\n",
       " 'equals',\n",
       " 'eval',\n",
       " 'ewm',\n",
       " 'expanding',\n",
       " 'ffill',\n",
       " 'fillna',\n",
       " 'filter',\n",
       " 'first',\n",
       " 'first_valid_index',\n",
       " 'floordiv',\n",
       " 'from_csv',\n",
       " 'from_dict',\n",
       " 'from_items',\n",
       " 'from_records',\n",
       " 'ftypes',\n",
       " 'ge',\n",
       " 'get',\n",
       " 'get_dtype_counts',\n",
       " 'get_ftype_counts',\n",
       " 'get_value',\n",
       " 'get_values',\n",
       " 'groupby',\n",
       " 'gt',\n",
       " 'head',\n",
       " 'hist',\n",
       " 'iat',\n",
       " 'idxmax',\n",
       " 'idxmin',\n",
       " 'iloc',\n",
       " 'index',\n",
       " 'infer_objects',\n",
       " 'info',\n",
       " 'insert',\n",
       " 'interpolate',\n",
       " 'is_copy',\n",
       " 'isin',\n",
       " 'isna',\n",
       " 'isnull',\n",
       " 'items',\n",
       " 'iteritems',\n",
       " 'iterrows',\n",
       " 'itertuples',\n",
       " 'ix',\n",
       " 'join',\n",
       " 'keys',\n",
       " 'kurt',\n",
       " 'kurtosis',\n",
       " 'last',\n",
       " 'last_valid_index',\n",
       " 'le',\n",
       " 'loc',\n",
       " 'lookup',\n",
       " 'lt',\n",
       " 'mad',\n",
       " 'mask',\n",
       " 'max',\n",
       " 'mean',\n",
       " 'median',\n",
       " 'melt',\n",
       " 'memory_usage',\n",
       " 'merge',\n",
       " 'min',\n",
       " 'mod',\n",
       " 'mode',\n",
       " 'mul',\n",
       " 'multiply',\n",
       " 'ndim',\n",
       " 'ne',\n",
       " 'nlargest',\n",
       " 'notna',\n",
       " 'notnull',\n",
       " 'nsmallest',\n",
       " 'nunique',\n",
       " 'pct_change',\n",
       " 'pipe',\n",
       " 'pivot',\n",
       " 'pivot_table',\n",
       " 'plot',\n",
       " 'pop',\n",
       " 'pow',\n",
       " 'prod',\n",
       " 'product',\n",
       " 'quantile',\n",
       " 'query',\n",
       " 'radd',\n",
       " 'rank',\n",
       " 'rdiv',\n",
       " 'reindex',\n",
       " 'reindex_axis',\n",
       " 'reindex_like',\n",
       " 'rename',\n",
       " 'rename_axis',\n",
       " 'reorder_levels',\n",
       " 'replace',\n",
       " 'resample',\n",
       " 'reset_index',\n",
       " 'rfloordiv',\n",
       " 'rmod',\n",
       " 'rmul',\n",
       " 'rolling',\n",
       " 'round',\n",
       " 'rpow',\n",
       " 'rsub',\n",
       " 'rtruediv',\n",
       " 'sample',\n",
       " 'select',\n",
       " 'select_dtypes',\n",
       " 'sem',\n",
       " 'set_axis',\n",
       " 'set_index',\n",
       " 'set_value',\n",
       " 'shape',\n",
       " 'shift',\n",
       " 'size',\n",
       " 'skew',\n",
       " 'slice_shift',\n",
       " 'sort_index',\n",
       " 'sort_values',\n",
       " 'sortlevel',\n",
       " 'squeeze',\n",
       " 'stack',\n",
       " 'std',\n",
       " 'style',\n",
       " 'sub',\n",
       " 'subtract',\n",
       " 'sum',\n",
       " 'swapaxes',\n",
       " 'swaplevel',\n",
       " 'tail',\n",
       " 'take',\n",
       " 'to_clipboard',\n",
       " 'to_csv',\n",
       " 'to_dense',\n",
       " 'to_dict',\n",
       " 'to_excel',\n",
       " 'to_feather',\n",
       " 'to_gbq',\n",
       " 'to_hdf',\n",
       " 'to_html',\n",
       " 'to_json',\n",
       " 'to_latex',\n",
       " 'to_msgpack',\n",
       " 'to_panel',\n",
       " 'to_parquet',\n",
       " 'to_period',\n",
       " 'to_pickle',\n",
       " 'to_records',\n",
       " 'to_sparse',\n",
       " 'to_sql',\n",
       " 'to_stata',\n",
       " 'to_string',\n",
       " 'to_timestamp',\n",
       " 'to_xarray',\n",
       " 'transform',\n",
       " 'transpose',\n",
       " 'truediv',\n",
       " 'truncate',\n",
       " 'tshift',\n",
       " 'tz_convert',\n",
       " 'tz_localize',\n",
       " 'unstack',\n",
       " 'update',\n",
       " 'values',\n",
       " 'var',\n",
       " 'where',\n",
       " 'xs'}"
      ]
     },
     "execution_count": 94,
     "metadata": {},
     "output_type": "execute_result"
    }
   ],
   "source": [
    "df_attr_methods"
   ]
  },
  {
   "cell_type": "markdown",
   "metadata": {},
   "source": [
    "#### As an example, we will select columns with two different data types\n"
   ]
  },
  {
   "cell_type": "code",
   "execution_count": 95,
   "metadata": {},
   "outputs": [],
   "source": [
    "#Selecting two columns with different data types:\n",
    "Inscripciones2019_legajo = Inscriptos2019['Legajo']\n",
    "Inscripciones2019_apellido = Inscriptos2019['Apellido']"
   ]
  },
  {
   "cell_type": "code",
   "execution_count": 96,
   "metadata": {},
   "outputs": [
    {
     "data": {
      "text/plain": [
       "0    99266\n",
       "1    99522\n",
       "2    99373\n",
       "3    98359\n",
       "4    90928\n",
       "Name: Legajo, dtype: int64"
      ]
     },
     "execution_count": 96,
     "metadata": {},
     "output_type": "execute_result"
    }
   ],
   "source": [
    "Inscripciones2019_legajo.head()"
   ]
  },
  {
   "cell_type": "code",
   "execution_count": 97,
   "metadata": {},
   "outputs": [
    {
     "data": {
      "text/plain": [
       "0    ALVAREZ ALONSO\n",
       "1     ALVAREZ JULIA\n",
       "2           ALVAREZ\n",
       "3           ALVAREZ\n",
       "4           ALVAREZ\n",
       "Name: Apellido, dtype: object"
      ]
     },
     "execution_count": 97,
     "metadata": {},
     "output_type": "execute_result"
    }
   ],
   "source": [
    "Inscripciones2019_apellido.head()"
   ]
  },
  {
   "cell_type": "markdown",
   "metadata": {},
   "source": [
    "### Value_Counts()\n",
    "\n",
    "This method is usefull to understand the distribution the data on the serie contains. It´s usually more useful in object series than in numeric series "
   ]
  },
  {
   "cell_type": "code",
   "execution_count": 282,
   "metadata": {},
   "outputs": [
    {
     "data": {
      "text/plain": [
       "87039     1\n",
       "91513     1\n",
       "98872     1\n",
       "93157     1\n",
       "101694    1\n",
       "Name: Legajo, dtype: int64"
      ]
     },
     "execution_count": 282,
     "metadata": {},
     "output_type": "execute_result"
    }
   ],
   "source": [
    "Inscripciones2019_legajo.value_counts().head()"
   ]
  },
  {
   "cell_type": "code",
   "execution_count": 283,
   "metadata": {},
   "outputs": [
    {
     "data": {
      "text/plain": [
       "ALVAREZ      3\n",
       "CRUZ         2\n",
       "SILVESTRI    1\n",
       "GARCIA       1\n",
       "CATOLINO     1\n",
       "Name: Apellido, dtype: int64"
      ]
     },
     "execution_count": 283,
     "metadata": {},
     "output_type": "execute_result"
    }
   ],
   "source": [
    "Inscripciones2019_apellido.value_counts().head()"
   ]
  },
  {
   "cell_type": "code",
   "execution_count": 284,
   "metadata": {},
   "outputs": [
    {
     "data": {
      "text/plain": [
       "ALVAREZ      0.023256\n",
       "CRUZ         0.015504\n",
       "SILVESTRI    0.007752\n",
       "GARCIA       0.007752\n",
       "CATOLINO     0.007752\n",
       "Name: Apellido, dtype: float64"
      ]
     },
     "execution_count": 284,
     "metadata": {},
     "output_type": "execute_result"
    }
   ],
   "source": [
    "Inscripciones2019_apellido.value_counts(normalize=True).head()"
   ]
  },
  {
   "cell_type": "code",
   "execution_count": 285,
   "metadata": {},
   "outputs": [
    {
     "data": {
      "text/plain": [
       "ALVAREZ      0.023256\n",
       "CRUZ         0.015504\n",
       "SILVESTRI    0.007752\n",
       "GARCIA       0.007752\n",
       "CATOLINO     0.007752\n",
       "Name: Apellido, dtype: float64"
      ]
     },
     "execution_count": 285,
     "metadata": {},
     "output_type": "execute_result"
    }
   ],
   "source": [
    "Inscriptos2019['Apellido'].value_counts(normalize=True).head()"
   ]
  },
  {
   "cell_type": "markdown",
   "metadata": {},
   "source": [
    "### Value_counts() return a series, where the value is the index, and the count associated to the value is the element."
   ]
  },
  {
   "cell_type": "markdown",
   "metadata": {},
   "source": [
    "#### Counting the number of elements in a serie: size, shape, len()\n"
   ]
  },
  {
   "cell_type": "code",
   "execution_count": 103,
   "metadata": {},
   "outputs": [
    {
     "data": {
      "text/plain": [
       "1032"
      ]
     },
     "execution_count": 103,
     "metadata": {},
     "output_type": "execute_result"
    }
   ],
   "source": [
    "Inscriptos2019.size"
   ]
  },
  {
   "cell_type": "code",
   "execution_count": 104,
   "metadata": {},
   "outputs": [
    {
     "data": {
      "text/plain": [
       "(129, 8)"
      ]
     },
     "execution_count": 104,
     "metadata": {},
     "output_type": "execute_result"
    }
   ],
   "source": [
    "Inscriptos2019.shape"
   ]
  },
  {
   "cell_type": "code",
   "execution_count": 105,
   "metadata": {},
   "outputs": [
    {
     "data": {
      "text/plain": [
       "129"
      ]
     },
     "execution_count": 105,
     "metadata": {},
     "output_type": "execute_result"
    }
   ],
   "source": [
    "len(Inscriptos2019)"
   ]
  },
  {
   "cell_type": "code",
   "execution_count": 106,
   "metadata": {},
   "outputs": [
    {
     "data": {
      "text/plain": [
       "Legajo           129\n",
       "Apellido         129\n",
       " Nombre          129\n",
       "Calidad Insc.    129\n",
       "Estado           129\n",
       "Cod. Carrera     127\n",
       "Carrera          127\n",
       "Prioridad        127\n",
       "dtype: int64"
      ]
     },
     "execution_count": 106,
     "metadata": {},
     "output_type": "execute_result"
    }
   ],
   "source": [
    "Inscriptos2019.count()"
   ]
  },
  {
   "cell_type": "markdown",
   "metadata": {},
   "source": [
    "_size_, _len_ and _count_ return __scala__ values, but _shape_ returns a __one-item tuple__."
   ]
  },
  {
   "cell_type": "markdown",
   "metadata": {},
   "source": [
    "#### Difference between size, shape, len() and Count()\n"
   ]
  },
  {
   "cell_type": "code",
   "execution_count": 107,
   "metadata": {},
   "outputs": [
    {
     "data": {
      "text/plain": [
       "129"
      ]
     },
     "execution_count": 107,
     "metadata": {},
     "output_type": "execute_result"
    }
   ],
   "source": [
    "# Although size (shape and len) will still give us the number of elements:\n",
    "Inscriptos2019['Legajo'].size"
   ]
  },
  {
   "cell_type": "code",
   "execution_count": 108,
   "metadata": {},
   "outputs": [
    {
     "data": {
      "text/plain": [
       "129"
      ]
     },
     "execution_count": 108,
     "metadata": {},
     "output_type": "execute_result"
    }
   ],
   "source": [
    "# Count will give us the number of elements with values:\n",
    "Inscriptos2019['Legajo'].count()"
   ]
  },
  {
   "cell_type": "code",
   "execution_count": 286,
   "metadata": {},
   "outputs": [
    {
     "data": {
      "text/plain": [
       "0    False\n",
       "1    False\n",
       "2    False\n",
       "3    False\n",
       "4    False\n",
       "Name: Legajo, dtype: bool"
      ]
     },
     "execution_count": 286,
     "metadata": {},
     "output_type": "execute_result"
    }
   ],
   "source": [
    "Inscriptos2019['Legajo'].isnull().head()"
   ]
  },
  {
   "cell_type": "code",
   "execution_count": 110,
   "metadata": {},
   "outputs": [
    {
     "data": {
      "text/plain": [
       "False"
      ]
     },
     "execution_count": 110,
     "metadata": {},
     "output_type": "execute_result"
    }
   ],
   "source": [
    "Inscriptos2019['Legajo'].hasnans"
   ]
  },
  {
   "cell_type": "code",
   "execution_count": 111,
   "metadata": {},
   "outputs": [
    {
     "data": {
      "text/plain": [
       "Legajo           129\n",
       "Apellido         129\n",
       " Nombre          129\n",
       "Calidad Insc.    129\n",
       "Estado           129\n",
       "Cod. Carrera     127\n",
       "Carrera          127\n",
       "Prioridad        127\n",
       "dtype: int64"
      ]
     },
     "execution_count": 111,
     "metadata": {},
     "output_type": "execute_result"
    }
   ],
   "source": [
    "Inscriptos2019.count()"
   ]
  },
  {
   "cell_type": "code",
   "execution_count": 287,
   "metadata": {},
   "outputs": [
    {
     "data": {
      "text/plain": [
       "0    ALVAREZ ALONSO\n",
       "1     ALVAREZ JULIA\n",
       "2           ALVAREZ\n",
       "3           ALVAREZ\n",
       "4           ALVAREZ\n",
       "Name: Apellido, dtype: object"
      ]
     },
     "execution_count": 287,
     "metadata": {},
     "output_type": "execute_result"
    }
   ],
   "source": [
    "Inscriptos2019_Apellidos = Inscriptos2019['Apellido']\n",
    "Inscriptos2019_Apellidos.head()"
   ]
  },
  {
   "cell_type": "code",
   "execution_count": 113,
   "metadata": {},
   "outputs": [],
   "source": [
    "# Filling Nan with a specific value:\n",
    "\n",
    "Inscriptos2019_sinna = Inscriptos2019.fillna('None')"
   ]
  },
  {
   "cell_type": "code",
   "execution_count": 114,
   "metadata": {},
   "outputs": [
    {
     "data": {
      "text/plain": [
       "Legajo           129\n",
       "Apellido         129\n",
       " Nombre          129\n",
       "Calidad Insc.    129\n",
       "Estado           129\n",
       "Cod. Carrera     129\n",
       "Carrera          129\n",
       "Prioridad        129\n",
       "dtype: int64"
      ]
     },
     "execution_count": 114,
     "metadata": {},
     "output_type": "execute_result"
    }
   ],
   "source": [
    "Inscriptos2019_sinna.count()"
   ]
  },
  {
   "cell_type": "code",
   "execution_count": 115,
   "metadata": {},
   "outputs": [],
   "source": [
    "# removing NaN elements:\n",
    "\n",
    "Inscriptos2019_dropped = Inscriptos2019.dropna()"
   ]
  },
  {
   "cell_type": "code",
   "execution_count": 116,
   "metadata": {},
   "outputs": [
    {
     "data": {
      "text/plain": [
       "Legajo           127\n",
       "Apellido         127\n",
       " Nombre          127\n",
       "Calidad Insc.    127\n",
       "Estado           127\n",
       "Cod. Carrera     127\n",
       "Carrera          127\n",
       "Prioridad        127\n",
       "dtype: int64"
      ]
     },
     "execution_count": 116,
     "metadata": {},
     "output_type": "execute_result"
    }
   ],
   "source": [
    "Inscriptos2019_dropped.count()"
   ]
  },
  {
   "cell_type": "code",
   "execution_count": 117,
   "metadata": {},
   "outputs": [
    {
     "data": {
      "text/plain": [
       "127"
      ]
     },
     "execution_count": 117,
     "metadata": {},
     "output_type": "execute_result"
    }
   ],
   "source": [
    "len(Inscriptos2019_dropped)"
   ]
  },
  {
   "cell_type": "markdown",
   "metadata": {},
   "source": [
    "#### Basic Statistics: min, max, mean, median, std, sum and describe methods\n",
    "\n"
   ]
  },
  {
   "cell_type": "code",
   "execution_count": 118,
   "metadata": {},
   "outputs": [
    {
     "data": {
      "text/plain": [
       "(75890, 103118, 96188.2015503876, 98230.0, 5713.493296273312, 12408278)"
      ]
     },
     "execution_count": 118,
     "metadata": {},
     "output_type": "execute_result"
    }
   ],
   "source": [
    "Inscripciones2019_legajo.min(),Inscripciones2019_legajo.max(),Inscripciones2019_legajo.mean(),Inscripciones2019_legajo.median(),Inscripciones2019_legajo.std(),Inscripciones2019_legajo.sum()"
   ]
  },
  {
   "cell_type": "code",
   "execution_count": 119,
   "metadata": {},
   "outputs": [
    {
     "data": {
      "text/plain": [
       "count       129.000000\n",
       "mean      96188.201550\n",
       "std        5713.493296\n",
       "min       75890.000000\n",
       "25%       93738.000000\n",
       "50%       98230.000000\n",
       "75%      100327.000000\n",
       "max      103118.000000\n",
       "Name: Legajo, dtype: float64"
      ]
     },
     "execution_count": 119,
     "metadata": {},
     "output_type": "execute_result"
    }
   ],
   "source": [
    "Inscripciones2019_legajo.describe()"
   ]
  },
  {
   "cell_type": "markdown",
   "metadata": {},
   "source": [
    "we can also use _describe_ in an object serie:\n"
   ]
  },
  {
   "cell_type": "code",
   "execution_count": 120,
   "metadata": {},
   "outputs": [
    {
     "data": {
      "text/plain": [
       "count         129\n",
       "unique        126\n",
       "top       ALVAREZ\n",
       "freq            3\n",
       "Name: Apellido, dtype: object"
      ]
     },
     "execution_count": 120,
     "metadata": {},
     "output_type": "execute_result"
    }
   ],
   "source": [
    "Inscripciones2019_apellido.describe()"
   ]
  },
  {
   "cell_type": "markdown",
   "metadata": {},
   "source": [
    "### Operators on a Series"
   ]
  },
  {
   "cell_type": "code",
   "execution_count": 288,
   "metadata": {},
   "outputs": [
    {
     "data": {
      "text/plain": [
       "0    28.0\n",
       "1    41.0\n",
       "2    55.0\n",
       "3    53.0\n",
       "4    93.0\n",
       "Name: Prioridad, dtype: float32"
      ]
     },
     "execution_count": 288,
     "metadata": {},
     "output_type": "execute_result"
    }
   ],
   "source": [
    "Inscriptos2019['Prioridad'].head()"
   ]
  },
  {
   "cell_type": "code",
   "execution_count": 122,
   "metadata": {},
   "outputs": [
    {
     "data": {
      "text/plain": [
       "count    127.000000\n",
       "mean      55.393701\n",
       "std       29.871725\n",
       "min        2.000000\n",
       "25%       30.000000\n",
       "50%       55.000000\n",
       "75%       83.500000\n",
       "max      106.000000\n",
       "Name: Prioridad, dtype: float64"
      ]
     },
     "execution_count": 122,
     "metadata": {},
     "output_type": "execute_result"
    }
   ],
   "source": [
    "Inscriptos2019['Prioridad'].describe()"
   ]
  },
  {
   "cell_type": "markdown",
   "metadata": {},
   "source": [
    "####  Let´s imagine we want to modify the scale, and make it to 10 (by duplicating it, not exactly right but let´s imagine just for this example...) we need to multiply it by 2\n",
    "\n"
   ]
  },
  {
   "cell_type": "code",
   "execution_count": 289,
   "metadata": {},
   "outputs": [
    {
     "data": {
      "text/plain": [
       "0     56.0\n",
       "1     82.0\n",
       "2    110.0\n",
       "3    106.0\n",
       "4    186.0\n",
       "Name: Prioridad, dtype: float32"
      ]
     },
     "execution_count": 289,
     "metadata": {},
     "output_type": "execute_result"
    }
   ],
   "source": [
    "(Inscriptos2019['Prioridad'] * 2).head()"
   ]
  },
  {
   "cell_type": "markdown",
   "metadata": {},
   "source": [
    "If we multiply a series it will return another series, with that operation applied to each of the elemnts. We can also use other operators as sum (+), minus (-), division (//), and exponentiation (**). Note that consecutive division operators (//) is used for floor division and the percent sign (%) for the modulus operator, which returns the remainder after a division.\n",
    "\n",
    "We can also use comparison opperators, like __greater than__ (>), __less than__ (<), __greater than or equal to__ (>=), __less than or equal to__ (<=), __equal to__ (==), and __not equal to__ (!=). These also return a seris, where each elemen is True or False based on the result of the comparison. "
   ]
  },
  {
   "cell_type": "code",
   "execution_count": 124,
   "metadata": {},
   "outputs": [
    {
     "data": {
      "text/plain": [
       "True     93\n",
       "False    36\n",
       "Name: Prioridad, dtype: int64"
      ]
     },
     "execution_count": 124,
     "metadata": {},
     "output_type": "execute_result"
    }
   ],
   "source": [
    "(Inscriptos2019['Prioridad']>30).value_counts()"
   ]
  },
  {
   "cell_type": "markdown",
   "metadata": {},
   "source": [
    "#### For every operator, there is also a method that does the same thing:\n",
    "\n",
    "#### Arithmetic\n",
    "\n",
    "* instead of +, -, *, /, //, %, **   We can use: add, sub, mul, div, floordiv, mod, pow \n",
    "\n",
    "#### Comparison \n",
    "\n",
    "* Instead of <, >, <=, >=, ==, !=  We can use:  lt, gt, le, ge, eq, ne\n",
    "\n"
   ]
  },
  {
   "cell_type": "code",
   "execution_count": 125,
   "metadata": {},
   "outputs": [
    {
     "data": {
      "text/plain": [
       "True     93\n",
       "False    36\n",
       "Name: Prioridad, dtype: int64"
      ]
     },
     "execution_count": 125,
     "metadata": {},
     "output_type": "execute_result"
    }
   ],
   "source": [
    "Inscriptos2019['Prioridad'].gt(30).value_counts()"
   ]
  },
  {
   "cell_type": "markdown",
   "metadata": {},
   "source": [
    "### Chaining Series Methods Together\n",
    "\n",
    "#### As methods usually return other series or dataframes, it is possible to concatenate two or more methods.\n",
    "\n",
    "* We use dot (.) to concatenate methods\n",
    "* We use back-slash (\\\\) to continue the sentence in the following line\n",
    "* To facilitate reading, we try to use only one method per line\n",
    "* We can also use parentheses to indicate the whole sentense\n"
   ]
  },
  {
   "cell_type": "markdown",
   "metadata": {},
   "source": [
    "Let´s say we want to count the NaN values on Prioridad, we can do it using isnll() and sum() methods:"
   ]
  },
  {
   "cell_type": "code",
   "execution_count": 126,
   "metadata": {},
   "outputs": [
    {
     "data": {
      "text/plain": [
       "2"
      ]
     },
     "execution_count": 126,
     "metadata": {},
     "output_type": "execute_result"
    }
   ],
   "source": [
    "Inscriptos2019['Prioridad'].isnull().sum()"
   ]
  },
  {
   "cell_type": "markdown",
   "metadata": {},
   "source": [
    "Or the average of NaN with mean()"
   ]
  },
  {
   "cell_type": "code",
   "execution_count": 127,
   "metadata": {},
   "outputs": [
    {
     "data": {
      "text/plain": [
       "0.015503875968992248"
      ]
     },
     "execution_count": 127,
     "metadata": {},
     "output_type": "execute_result"
    }
   ],
   "source": [
    "Inscriptos2019['Prioridad'].isnull().mean()"
   ]
  },
  {
   "cell_type": "markdown",
   "metadata": {},
   "source": [
    "To split the line in two different lines, we can use \\"
   ]
  },
  {
   "cell_type": "code",
   "execution_count": 128,
   "metadata": {},
   "outputs": [
    {
     "data": {
      "text/plain": [
       "0.015503875968992248"
      ]
     },
     "execution_count": 128,
     "metadata": {},
     "output_type": "execute_result"
    }
   ],
   "source": [
    "Inscriptos2019['Prioridad'].isnull()\\\n",
    "    .mean()"
   ]
  },
  {
   "cell_type": "code",
   "execution_count": 129,
   "metadata": {},
   "outputs": [
    {
     "data": {
      "text/html": [
       "<div>\n",
       "<style scoped>\n",
       "    .dataframe tbody tr th:only-of-type {\n",
       "        vertical-align: middle;\n",
       "    }\n",
       "\n",
       "    .dataframe tbody tr th {\n",
       "        vertical-align: top;\n",
       "    }\n",
       "\n",
       "    .dataframe thead th {\n",
       "        text-align: right;\n",
       "    }\n",
       "</style>\n",
       "<table border=\"1\" class=\"dataframe\">\n",
       "  <thead>\n",
       "    <tr style=\"text-align: right;\">\n",
       "      <th></th>\n",
       "      <th>Apellido</th>\n",
       "      <th>Nombre</th>\n",
       "      <th>Calidad</th>\n",
       "    </tr>\n",
       "  </thead>\n",
       "  <tbody>\n",
       "    <tr>\n",
       "      <th>0</th>\n",
       "      <td>D´ANDREA</td>\n",
       "      <td>MARIA FLORENCIA</td>\n",
       "      <td>Oyente</td>\n",
       "    </tr>\n",
       "    <tr>\n",
       "      <th>1</th>\n",
       "      <td>SAUCEDO</td>\n",
       "      <td>JIMENA</td>\n",
       "      <td>Oyente</td>\n",
       "    </tr>\n",
       "    <tr>\n",
       "      <th>2</th>\n",
       "      <td>DOMBROVSKY</td>\n",
       "      <td>NILDA</td>\n",
       "      <td>Oyente</td>\n",
       "    </tr>\n",
       "    <tr>\n",
       "      <th>3</th>\n",
       "      <td>MAZZEO</td>\n",
       "      <td>ANTONELLA</td>\n",
       "      <td>Oyente</td>\n",
       "    </tr>\n",
       "    <tr>\n",
       "      <th>4</th>\n",
       "      <td>LISOUSKI</td>\n",
       "      <td>XIMENA</td>\n",
       "      <td>Oyente</td>\n",
       "    </tr>\n",
       "  </tbody>\n",
       "</table>\n",
       "</div>"
      ],
      "text/plain": [
       "     Apellido            Nombre Calidad\n",
       "0    D´ANDREA   MARIA FLORENCIA  Oyente\n",
       "1     SAUCEDO            JIMENA  Oyente\n",
       "2  DOMBROVSKY             NILDA  Oyente\n",
       "3      MAZZEO         ANTONELLA  Oyente\n",
       "4    LISOUSKI            XIMENA  Oyente"
      ]
     },
     "execution_count": 129,
     "metadata": {},
     "output_type": "execute_result"
    }
   ],
   "source": [
    "Oyentes2019 = pd.read_csv('Data/Inscriptos-Datos/Inscriptos-Datos2019-Oyentes.csv', encoding='latin-1')\n",
    "Oyentes2019.head()"
   ]
  },
  {
   "cell_type": "code",
   "execution_count": 130,
   "metadata": {},
   "outputs": [
    {
     "data": {
      "text/plain": [
       "44"
      ]
     },
     "execution_count": 130,
     "metadata": {},
     "output_type": "execute_result"
    }
   ],
   "source": [
    "len(Oyentes2019)"
   ]
  },
  {
   "cell_type": "code",
   "execution_count": 131,
   "metadata": {},
   "outputs": [
    {
     "data": {
      "text/plain": [
       "129"
      ]
     },
     "execution_count": 131,
     "metadata": {},
     "output_type": "execute_result"
    }
   ],
   "source": [
    "len(Inscriptos2019)"
   ]
  },
  {
   "cell_type": "markdown",
   "metadata": {},
   "source": [
    "### Indexes\n",
    "\n",
    "* Indexes provide a label for each row\n",
    "* If no index is explicitly provided, a RangeIndex is created with labels starting in 0 \n",
    "####   \n"
   ]
  },
  {
   "cell_type": "markdown",
   "metadata": {},
   "source": [
    "If we go back to our example, Inscriptos did have a __RangeIndex__:"
   ]
  },
  {
   "cell_type": "code",
   "execution_count": 290,
   "metadata": {},
   "outputs": [
    {
     "data": {
      "text/html": [
       "<div>\n",
       "<style scoped>\n",
       "    .dataframe tbody tr th:only-of-type {\n",
       "        vertical-align: middle;\n",
       "    }\n",
       "\n",
       "    .dataframe tbody tr th {\n",
       "        vertical-align: top;\n",
       "    }\n",
       "\n",
       "    .dataframe thead th {\n",
       "        text-align: right;\n",
       "    }\n",
       "</style>\n",
       "<table border=\"1\" class=\"dataframe\">\n",
       "  <thead>\n",
       "    <tr style=\"text-align: right;\">\n",
       "      <th></th>\n",
       "      <th>Legajo</th>\n",
       "      <th>Apellido</th>\n",
       "      <th>Nombre</th>\n",
       "      <th>Presentes</th>\n",
       "      <th>Calidad Insc.</th>\n",
       "      <th>Estado</th>\n",
       "      <th>Cod. Carrera</th>\n",
       "      <th>Carrera</th>\n",
       "      <th>Prioridad</th>\n",
       "    </tr>\n",
       "  </thead>\n",
       "  <tbody>\n",
       "    <tr>\n",
       "      <th>0</th>\n",
       "      <td>99266</td>\n",
       "      <td>ALVAREZ ALONSO</td>\n",
       "      <td>FEDERICO MATIAS</td>\n",
       "      <td>0</td>\n",
       "      <td>Regular</td>\n",
       "      <td>Pendiente</td>\n",
       "      <td>10.0</td>\n",
       "      <td>Ingeniería en Informática</td>\n",
       "      <td>28.0</td>\n",
       "    </tr>\n",
       "    <tr>\n",
       "      <th>1</th>\n",
       "      <td>99522</td>\n",
       "      <td>ALVAREZ JULIA</td>\n",
       "      <td>SANTIAGO</td>\n",
       "      <td>0</td>\n",
       "      <td>Regular</td>\n",
       "      <td>Pendiente</td>\n",
       "      <td>10.0</td>\n",
       "      <td>Ingeniería en Informática</td>\n",
       "      <td>41.0</td>\n",
       "    </tr>\n",
       "    <tr>\n",
       "      <th>2</th>\n",
       "      <td>99373</td>\n",
       "      <td>ALVAREZ</td>\n",
       "      <td>FERNANDO GABRIEL</td>\n",
       "      <td>0</td>\n",
       "      <td>Regular</td>\n",
       "      <td>Pendiente</td>\n",
       "      <td>10.0</td>\n",
       "      <td>Ingeniería en Informática</td>\n",
       "      <td>55.0</td>\n",
       "    </tr>\n",
       "    <tr>\n",
       "      <th>3</th>\n",
       "      <td>98359</td>\n",
       "      <td>ALVAREZ</td>\n",
       "      <td>GONZALO EZEQUIEL</td>\n",
       "      <td>0</td>\n",
       "      <td>Regular</td>\n",
       "      <td>Pendiente</td>\n",
       "      <td>10.0</td>\n",
       "      <td>Ingeniería en Informática</td>\n",
       "      <td>53.0</td>\n",
       "    </tr>\n",
       "    <tr>\n",
       "      <th>4</th>\n",
       "      <td>90928</td>\n",
       "      <td>ALVAREZ</td>\n",
       "      <td>NATALIA NAYLA</td>\n",
       "      <td>0</td>\n",
       "      <td>Regular</td>\n",
       "      <td>Pendiente</td>\n",
       "      <td>10.0</td>\n",
       "      <td>Ingeniería en Informática</td>\n",
       "      <td>93.0</td>\n",
       "    </tr>\n",
       "  </tbody>\n",
       "</table>\n",
       "</div>"
      ],
      "text/plain": [
       "   Legajo        Apellido             Nombre  Presentes Calidad Insc.  \\\n",
       "0   99266  ALVAREZ ALONSO    FEDERICO MATIAS          0       Regular   \n",
       "1   99522   ALVAREZ JULIA           SANTIAGO          0       Regular   \n",
       "2   99373         ALVAREZ   FERNANDO GABRIEL          0       Regular   \n",
       "3   98359         ALVAREZ   GONZALO EZEQUIEL          0       Regular   \n",
       "4   90928         ALVAREZ      NATALIA NAYLA          0       Regular   \n",
       "\n",
       "      Estado Cod. Carrera                    Carrera  Prioridad  \n",
       "0  Pendiente         10.0  Ingeniería en Informática       28.0  \n",
       "1  Pendiente         10.0  Ingeniería en Informática       41.0  \n",
       "2  Pendiente         10.0  Ingeniería en Informática       55.0  \n",
       "3  Pendiente         10.0  Ingeniería en Informática       53.0  \n",
       "4  Pendiente         10.0  Ingeniería en Informática       93.0  "
      ]
     },
     "execution_count": 290,
     "metadata": {},
     "output_type": "execute_result"
    }
   ],
   "source": [
    "Inscriptos2019.head()"
   ]
  },
  {
   "cell_type": "markdown",
   "metadata": {},
   "source": [
    "We can change the index and use business Id instead, using the set_index method:\n"
   ]
  },
  {
   "cell_type": "code",
   "execution_count": 291,
   "metadata": {},
   "outputs": [
    {
     "data": {
      "text/html": [
       "<div>\n",
       "<style scoped>\n",
       "    .dataframe tbody tr th:only-of-type {\n",
       "        vertical-align: middle;\n",
       "    }\n",
       "\n",
       "    .dataframe tbody tr th {\n",
       "        vertical-align: top;\n",
       "    }\n",
       "\n",
       "    .dataframe thead th {\n",
       "        text-align: right;\n",
       "    }\n",
       "</style>\n",
       "<table border=\"1\" class=\"dataframe\">\n",
       "  <thead>\n",
       "    <tr style=\"text-align: right;\">\n",
       "      <th></th>\n",
       "      <th>Apellido</th>\n",
       "      <th>Nombre</th>\n",
       "      <th>Presentes</th>\n",
       "      <th>Calidad Insc.</th>\n",
       "      <th>Estado</th>\n",
       "      <th>Cod. Carrera</th>\n",
       "      <th>Carrera</th>\n",
       "      <th>Prioridad</th>\n",
       "    </tr>\n",
       "    <tr>\n",
       "      <th>Legajo</th>\n",
       "      <th></th>\n",
       "      <th></th>\n",
       "      <th></th>\n",
       "      <th></th>\n",
       "      <th></th>\n",
       "      <th></th>\n",
       "      <th></th>\n",
       "      <th></th>\n",
       "    </tr>\n",
       "  </thead>\n",
       "  <tbody>\n",
       "    <tr>\n",
       "      <th>99266</th>\n",
       "      <td>ALVAREZ ALONSO</td>\n",
       "      <td>FEDERICO MATIAS</td>\n",
       "      <td>0</td>\n",
       "      <td>Regular</td>\n",
       "      <td>Pendiente</td>\n",
       "      <td>10.0</td>\n",
       "      <td>Ingeniería en Informática</td>\n",
       "      <td>28.0</td>\n",
       "    </tr>\n",
       "    <tr>\n",
       "      <th>99522</th>\n",
       "      <td>ALVAREZ JULIA</td>\n",
       "      <td>SANTIAGO</td>\n",
       "      <td>0</td>\n",
       "      <td>Regular</td>\n",
       "      <td>Pendiente</td>\n",
       "      <td>10.0</td>\n",
       "      <td>Ingeniería en Informática</td>\n",
       "      <td>41.0</td>\n",
       "    </tr>\n",
       "    <tr>\n",
       "      <th>99373</th>\n",
       "      <td>ALVAREZ</td>\n",
       "      <td>FERNANDO GABRIEL</td>\n",
       "      <td>0</td>\n",
       "      <td>Regular</td>\n",
       "      <td>Pendiente</td>\n",
       "      <td>10.0</td>\n",
       "      <td>Ingeniería en Informática</td>\n",
       "      <td>55.0</td>\n",
       "    </tr>\n",
       "    <tr>\n",
       "      <th>98359</th>\n",
       "      <td>ALVAREZ</td>\n",
       "      <td>GONZALO EZEQUIEL</td>\n",
       "      <td>0</td>\n",
       "      <td>Regular</td>\n",
       "      <td>Pendiente</td>\n",
       "      <td>10.0</td>\n",
       "      <td>Ingeniería en Informática</td>\n",
       "      <td>53.0</td>\n",
       "    </tr>\n",
       "    <tr>\n",
       "      <th>90928</th>\n",
       "      <td>ALVAREZ</td>\n",
       "      <td>NATALIA NAYLA</td>\n",
       "      <td>0</td>\n",
       "      <td>Regular</td>\n",
       "      <td>Pendiente</td>\n",
       "      <td>10.0</td>\n",
       "      <td>Ingeniería en Informática</td>\n",
       "      <td>93.0</td>\n",
       "    </tr>\n",
       "  </tbody>\n",
       "</table>\n",
       "</div>"
      ],
      "text/plain": [
       "              Apellido             Nombre  Presentes Calidad Insc.     Estado  \\\n",
       "Legajo                                                                          \n",
       "99266   ALVAREZ ALONSO    FEDERICO MATIAS          0       Regular  Pendiente   \n",
       "99522    ALVAREZ JULIA           SANTIAGO          0       Regular  Pendiente   \n",
       "99373          ALVAREZ   FERNANDO GABRIEL          0       Regular  Pendiente   \n",
       "98359          ALVAREZ   GONZALO EZEQUIEL          0       Regular  Pendiente   \n",
       "90928          ALVAREZ      NATALIA NAYLA          0       Regular  Pendiente   \n",
       "\n",
       "       Cod. Carrera                    Carrera  Prioridad  \n",
       "Legajo                                                     \n",
       "99266          10.0  Ingeniería en Informática       28.0  \n",
       "99522          10.0  Ingeniería en Informática       41.0  \n",
       "99373          10.0  Ingeniería en Informática       55.0  \n",
       "98359          10.0  Ingeniería en Informática       53.0  \n",
       "90928          10.0  Ingeniería en Informática       93.0  "
      ]
     },
     "execution_count": 291,
     "metadata": {},
     "output_type": "execute_result"
    }
   ],
   "source": [
    "Inscriptos_byPadron = Inscriptos2019.set_index('Legajo')\n",
    "Inscriptos_byPadron.head()"
   ]
  },
  {
   "cell_type": "code",
   "execution_count": 134,
   "metadata": {},
   "outputs": [
    {
     "data": {
      "text/html": [
       "<div>\n",
       "<style scoped>\n",
       "    .dataframe tbody tr th:only-of-type {\n",
       "        vertical-align: middle;\n",
       "    }\n",
       "\n",
       "    .dataframe tbody tr th {\n",
       "        vertical-align: top;\n",
       "    }\n",
       "\n",
       "    .dataframe thead th {\n",
       "        text-align: right;\n",
       "    }\n",
       "</style>\n",
       "<table border=\"1\" class=\"dataframe\">\n",
       "  <thead>\n",
       "    <tr style=\"text-align: right;\">\n",
       "      <th></th>\n",
       "      <th>Apellido</th>\n",
       "      <th>Nombre</th>\n",
       "      <th>Calidad Insc.</th>\n",
       "      <th>Estado</th>\n",
       "      <th>Cod. Carrera</th>\n",
       "      <th>Carrera</th>\n",
       "      <th>Prioridad</th>\n",
       "    </tr>\n",
       "    <tr>\n",
       "      <th>Legajo</th>\n",
       "      <th></th>\n",
       "      <th></th>\n",
       "      <th></th>\n",
       "      <th></th>\n",
       "      <th></th>\n",
       "      <th></th>\n",
       "      <th></th>\n",
       "    </tr>\n",
       "  </thead>\n",
       "  <tbody>\n",
       "    <tr>\n",
       "      <th>99266</th>\n",
       "      <td>ALVAREZ ALONSO</td>\n",
       "      <td>FEDERICO MATIAS</td>\n",
       "      <td>Regular</td>\n",
       "      <td>Pendiente</td>\n",
       "      <td>10.0</td>\n",
       "      <td>Ingeniería en Informática</td>\n",
       "      <td>28.0</td>\n",
       "    </tr>\n",
       "    <tr>\n",
       "      <th>99522</th>\n",
       "      <td>ALVAREZ JULIA</td>\n",
       "      <td>SANTIAGO</td>\n",
       "      <td>Regular</td>\n",
       "      <td>Pendiente</td>\n",
       "      <td>10.0</td>\n",
       "      <td>Ingeniería en Informática</td>\n",
       "      <td>41.0</td>\n",
       "    </tr>\n",
       "    <tr>\n",
       "      <th>99373</th>\n",
       "      <td>ALVAREZ</td>\n",
       "      <td>FERNANDO GABRIEL</td>\n",
       "      <td>Regular</td>\n",
       "      <td>Pendiente</td>\n",
       "      <td>10.0</td>\n",
       "      <td>Ingeniería en Informática</td>\n",
       "      <td>55.0</td>\n",
       "    </tr>\n",
       "    <tr>\n",
       "      <th>98359</th>\n",
       "      <td>ALVAREZ</td>\n",
       "      <td>GONZALO EZEQUIEL</td>\n",
       "      <td>Regular</td>\n",
       "      <td>Pendiente</td>\n",
       "      <td>10.0</td>\n",
       "      <td>Ingeniería en Informática</td>\n",
       "      <td>53.0</td>\n",
       "    </tr>\n",
       "    <tr>\n",
       "      <th>90928</th>\n",
       "      <td>ALVAREZ</td>\n",
       "      <td>NATALIA NAYLA</td>\n",
       "      <td>Regular</td>\n",
       "      <td>Pendiente</td>\n",
       "      <td>10.0</td>\n",
       "      <td>Ingeniería en Informática</td>\n",
       "      <td>93.0</td>\n",
       "    </tr>\n",
       "  </tbody>\n",
       "</table>\n",
       "</div>"
      ],
      "text/plain": [
       "              Apellido             Nombre Calidad Insc.     Estado  \\\n",
       "Legajo                                                               \n",
       "99266   ALVAREZ ALONSO    FEDERICO MATIAS       Regular  Pendiente   \n",
       "99522    ALVAREZ JULIA           SANTIAGO       Regular  Pendiente   \n",
       "99373          ALVAREZ   FERNANDO GABRIEL       Regular  Pendiente   \n",
       "98359          ALVAREZ   GONZALO EZEQUIEL       Regular  Pendiente   \n",
       "90928          ALVAREZ      NATALIA NAYLA       Regular  Pendiente   \n",
       "\n",
       "        Cod. Carrera                    Carrera  Prioridad  \n",
       "Legajo                                                      \n",
       "99266           10.0  Ingeniería en Informática       28.0  \n",
       "99522           10.0  Ingeniería en Informática       41.0  \n",
       "99373           10.0  Ingeniería en Informática       55.0  \n",
       "98359           10.0  Ingeniería en Informática       53.0  \n",
       "90928           10.0  Ingeniería en Informática       93.0  "
      ]
     },
     "execution_count": 134,
     "metadata": {},
     "output_type": "execute_result"
    }
   ],
   "source": [
    "Inscriptos_byPadron = pd.read_csv('Data/Inscriptos-Datos/Inscriptos-Datos2019-Regulares.csv',index_col='Legajo', encoding='latin-1')\n",
    "Inscriptos_byPadron.head()"
   ]
  },
  {
   "cell_type": "markdown",
   "metadata": {},
   "source": [
    "We can eliminate the index using the reset_index method:\n"
   ]
  },
  {
   "cell_type": "code",
   "execution_count": 292,
   "metadata": {},
   "outputs": [
    {
     "data": {
      "text/html": [
       "<div>\n",
       "<style scoped>\n",
       "    .dataframe tbody tr th:only-of-type {\n",
       "        vertical-align: middle;\n",
       "    }\n",
       "\n",
       "    .dataframe tbody tr th {\n",
       "        vertical-align: top;\n",
       "    }\n",
       "\n",
       "    .dataframe thead th {\n",
       "        text-align: right;\n",
       "    }\n",
       "</style>\n",
       "<table border=\"1\" class=\"dataframe\">\n",
       "  <thead>\n",
       "    <tr style=\"text-align: right;\">\n",
       "      <th></th>\n",
       "      <th>Legajo</th>\n",
       "      <th>Apellido</th>\n",
       "      <th>Nombre</th>\n",
       "      <th>Presentes</th>\n",
       "      <th>Calidad Insc.</th>\n",
       "      <th>Estado</th>\n",
       "      <th>Cod. Carrera</th>\n",
       "      <th>Carrera</th>\n",
       "      <th>Prioridad</th>\n",
       "    </tr>\n",
       "  </thead>\n",
       "  <tbody>\n",
       "    <tr>\n",
       "      <th>0</th>\n",
       "      <td>99266</td>\n",
       "      <td>ALVAREZ ALONSO</td>\n",
       "      <td>FEDERICO MATIAS</td>\n",
       "      <td>0</td>\n",
       "      <td>Regular</td>\n",
       "      <td>Pendiente</td>\n",
       "      <td>10.0</td>\n",
       "      <td>Ingeniería en Informática</td>\n",
       "      <td>28.0</td>\n",
       "    </tr>\n",
       "    <tr>\n",
       "      <th>1</th>\n",
       "      <td>99522</td>\n",
       "      <td>ALVAREZ JULIA</td>\n",
       "      <td>SANTIAGO</td>\n",
       "      <td>0</td>\n",
       "      <td>Regular</td>\n",
       "      <td>Pendiente</td>\n",
       "      <td>10.0</td>\n",
       "      <td>Ingeniería en Informática</td>\n",
       "      <td>41.0</td>\n",
       "    </tr>\n",
       "    <tr>\n",
       "      <th>2</th>\n",
       "      <td>99373</td>\n",
       "      <td>ALVAREZ</td>\n",
       "      <td>FERNANDO GABRIEL</td>\n",
       "      <td>0</td>\n",
       "      <td>Regular</td>\n",
       "      <td>Pendiente</td>\n",
       "      <td>10.0</td>\n",
       "      <td>Ingeniería en Informática</td>\n",
       "      <td>55.0</td>\n",
       "    </tr>\n",
       "    <tr>\n",
       "      <th>3</th>\n",
       "      <td>98359</td>\n",
       "      <td>ALVAREZ</td>\n",
       "      <td>GONZALO EZEQUIEL</td>\n",
       "      <td>0</td>\n",
       "      <td>Regular</td>\n",
       "      <td>Pendiente</td>\n",
       "      <td>10.0</td>\n",
       "      <td>Ingeniería en Informática</td>\n",
       "      <td>53.0</td>\n",
       "    </tr>\n",
       "    <tr>\n",
       "      <th>4</th>\n",
       "      <td>90928</td>\n",
       "      <td>ALVAREZ</td>\n",
       "      <td>NATALIA NAYLA</td>\n",
       "      <td>0</td>\n",
       "      <td>Regular</td>\n",
       "      <td>Pendiente</td>\n",
       "      <td>10.0</td>\n",
       "      <td>Ingeniería en Informática</td>\n",
       "      <td>93.0</td>\n",
       "    </tr>\n",
       "  </tbody>\n",
       "</table>\n",
       "</div>"
      ],
      "text/plain": [
       "   Legajo        Apellido             Nombre  Presentes Calidad Insc.  \\\n",
       "0   99266  ALVAREZ ALONSO    FEDERICO MATIAS          0       Regular   \n",
       "1   99522   ALVAREZ JULIA           SANTIAGO          0       Regular   \n",
       "2   99373         ALVAREZ   FERNANDO GABRIEL          0       Regular   \n",
       "3   98359         ALVAREZ   GONZALO EZEQUIEL          0       Regular   \n",
       "4   90928         ALVAREZ      NATALIA NAYLA          0       Regular   \n",
       "\n",
       "      Estado Cod. Carrera                    Carrera  Prioridad  \n",
       "0  Pendiente         10.0  Ingeniería en Informática       28.0  \n",
       "1  Pendiente         10.0  Ingeniería en Informática       41.0  \n",
       "2  Pendiente         10.0  Ingeniería en Informática       55.0  \n",
       "3  Pendiente         10.0  Ingeniería en Informática       53.0  \n",
       "4  Pendiente         10.0  Ingeniería en Informática       93.0  "
      ]
     },
     "execution_count": 292,
     "metadata": {},
     "output_type": "execute_result"
    }
   ],
   "source": [
    "Inscriptos_byPadron.reset_index().head()"
   ]
  },
  {
   "cell_type": "markdown",
   "metadata": {},
   "source": [
    "#### In both cases we can see that business_id is set as the DataFrame index, and there is no business_id column. If we want to still have a business_id column we can use set_index with the parameter drop = False"
   ]
  },
  {
   "cell_type": "code",
   "execution_count": 293,
   "metadata": {},
   "outputs": [
    {
     "data": {
      "text/html": [
       "<div>\n",
       "<style scoped>\n",
       "    .dataframe tbody tr th:only-of-type {\n",
       "        vertical-align: middle;\n",
       "    }\n",
       "\n",
       "    .dataframe tbody tr th {\n",
       "        vertical-align: top;\n",
       "    }\n",
       "\n",
       "    .dataframe thead th {\n",
       "        text-align: right;\n",
       "    }\n",
       "</style>\n",
       "<table border=\"1\" class=\"dataframe\">\n",
       "  <thead>\n",
       "    <tr style=\"text-align: right;\">\n",
       "      <th></th>\n",
       "      <th>Legajo</th>\n",
       "      <th>Apellido</th>\n",
       "      <th>Nombre</th>\n",
       "      <th>Presentes</th>\n",
       "      <th>Calidad Insc.</th>\n",
       "      <th>Estado</th>\n",
       "      <th>Cod. Carrera</th>\n",
       "      <th>Carrera</th>\n",
       "      <th>Prioridad</th>\n",
       "    </tr>\n",
       "    <tr>\n",
       "      <th>Legajo</th>\n",
       "      <th></th>\n",
       "      <th></th>\n",
       "      <th></th>\n",
       "      <th></th>\n",
       "      <th></th>\n",
       "      <th></th>\n",
       "      <th></th>\n",
       "      <th></th>\n",
       "      <th></th>\n",
       "    </tr>\n",
       "  </thead>\n",
       "  <tbody>\n",
       "    <tr>\n",
       "      <th>99266</th>\n",
       "      <td>99266</td>\n",
       "      <td>ALVAREZ ALONSO</td>\n",
       "      <td>FEDERICO MATIAS</td>\n",
       "      <td>0</td>\n",
       "      <td>Regular</td>\n",
       "      <td>Pendiente</td>\n",
       "      <td>10.0</td>\n",
       "      <td>Ingeniería en Informática</td>\n",
       "      <td>28.0</td>\n",
       "    </tr>\n",
       "    <tr>\n",
       "      <th>99522</th>\n",
       "      <td>99522</td>\n",
       "      <td>ALVAREZ JULIA</td>\n",
       "      <td>SANTIAGO</td>\n",
       "      <td>0</td>\n",
       "      <td>Regular</td>\n",
       "      <td>Pendiente</td>\n",
       "      <td>10.0</td>\n",
       "      <td>Ingeniería en Informática</td>\n",
       "      <td>41.0</td>\n",
       "    </tr>\n",
       "    <tr>\n",
       "      <th>99373</th>\n",
       "      <td>99373</td>\n",
       "      <td>ALVAREZ</td>\n",
       "      <td>FERNANDO GABRIEL</td>\n",
       "      <td>0</td>\n",
       "      <td>Regular</td>\n",
       "      <td>Pendiente</td>\n",
       "      <td>10.0</td>\n",
       "      <td>Ingeniería en Informática</td>\n",
       "      <td>55.0</td>\n",
       "    </tr>\n",
       "    <tr>\n",
       "      <th>98359</th>\n",
       "      <td>98359</td>\n",
       "      <td>ALVAREZ</td>\n",
       "      <td>GONZALO EZEQUIEL</td>\n",
       "      <td>0</td>\n",
       "      <td>Regular</td>\n",
       "      <td>Pendiente</td>\n",
       "      <td>10.0</td>\n",
       "      <td>Ingeniería en Informática</td>\n",
       "      <td>53.0</td>\n",
       "    </tr>\n",
       "    <tr>\n",
       "      <th>90928</th>\n",
       "      <td>90928</td>\n",
       "      <td>ALVAREZ</td>\n",
       "      <td>NATALIA NAYLA</td>\n",
       "      <td>0</td>\n",
       "      <td>Regular</td>\n",
       "      <td>Pendiente</td>\n",
       "      <td>10.0</td>\n",
       "      <td>Ingeniería en Informática</td>\n",
       "      <td>93.0</td>\n",
       "    </tr>\n",
       "  </tbody>\n",
       "</table>\n",
       "</div>"
      ],
      "text/plain": [
       "        Legajo        Apellido             Nombre  Presentes Calidad Insc.  \\\n",
       "Legajo                                                                       \n",
       "99266    99266  ALVAREZ ALONSO    FEDERICO MATIAS          0       Regular   \n",
       "99522    99522   ALVAREZ JULIA           SANTIAGO          0       Regular   \n",
       "99373    99373         ALVAREZ   FERNANDO GABRIEL          0       Regular   \n",
       "98359    98359         ALVAREZ   GONZALO EZEQUIEL          0       Regular   \n",
       "90928    90928         ALVAREZ      NATALIA NAYLA          0       Regular   \n",
       "\n",
       "           Estado Cod. Carrera                    Carrera  Prioridad  \n",
       "Legajo                                                                \n",
       "99266   Pendiente         10.0  Ingeniería en Informática       28.0  \n",
       "99522   Pendiente         10.0  Ingeniería en Informática       41.0  \n",
       "99373   Pendiente         10.0  Ingeniería en Informática       55.0  \n",
       "98359   Pendiente         10.0  Ingeniería en Informática       53.0  \n",
       "90928   Pendiente         10.0  Ingeniería en Informática       93.0  "
      ]
     },
     "execution_count": 293,
     "metadata": {},
     "output_type": "execute_result"
    }
   ],
   "source": [
    "Inscriptos_byPadron = Inscriptos2019.set_index('Legajo',drop=False)\n",
    "Inscriptos_byPadron.head()"
   ]
  },
  {
   "cell_type": "markdown",
   "metadata": {},
   "source": [
    "### Renaming Row and Column Names\n",
    "\n",
    "* To make them more descriptive\n",
    "* To follow a standard\n",
    "* To avoid blanks, and other special characters"
   ]
  },
  {
   "cell_type": "code",
   "execution_count": 259,
   "metadata": {},
   "outputs": [
    {
     "data": {
      "text/html": [
       "<div>\n",
       "<style scoped>\n",
       "    .dataframe tbody tr th:only-of-type {\n",
       "        vertical-align: middle;\n",
       "    }\n",
       "\n",
       "    .dataframe tbody tr th {\n",
       "        vertical-align: top;\n",
       "    }\n",
       "\n",
       "    .dataframe thead th {\n",
       "        text-align: right;\n",
       "    }\n",
       "</style>\n",
       "<table border=\"1\" class=\"dataframe\">\n",
       "  <thead>\n",
       "    <tr style=\"text-align: right;\">\n",
       "      <th></th>\n",
       "      <th>Apellido</th>\n",
       "      <th>Nombre</th>\n",
       "      <th>Calidad Insc.</th>\n",
       "      <th>Estado</th>\n",
       "      <th>Cod. Carrera</th>\n",
       "      <th>Carrera</th>\n",
       "      <th>Prioridad</th>\n",
       "    </tr>\n",
       "    <tr>\n",
       "      <th>Legajo</th>\n",
       "      <th></th>\n",
       "      <th></th>\n",
       "      <th></th>\n",
       "      <th></th>\n",
       "      <th></th>\n",
       "      <th></th>\n",
       "      <th></th>\n",
       "    </tr>\n",
       "  </thead>\n",
       "  <tbody>\n",
       "    <tr>\n",
       "      <th>99266</th>\n",
       "      <td>ALVAREZ ALONSO</td>\n",
       "      <td>FEDERICO MATIAS</td>\n",
       "      <td>Regular</td>\n",
       "      <td>Pendiente</td>\n",
       "      <td>10.0</td>\n",
       "      <td>Ingeniería en Informática</td>\n",
       "      <td>28.0</td>\n",
       "    </tr>\n",
       "    <tr>\n",
       "      <th>99522</th>\n",
       "      <td>ALVAREZ JULIA</td>\n",
       "      <td>SANTIAGO</td>\n",
       "      <td>Regular</td>\n",
       "      <td>Pendiente</td>\n",
       "      <td>10.0</td>\n",
       "      <td>Ingeniería en Informática</td>\n",
       "      <td>41.0</td>\n",
       "    </tr>\n",
       "    <tr>\n",
       "      <th>99373</th>\n",
       "      <td>ALVAREZ</td>\n",
       "      <td>FERNANDO GABRIEL</td>\n",
       "      <td>Regular</td>\n",
       "      <td>Pendiente</td>\n",
       "      <td>10.0</td>\n",
       "      <td>Ingeniería en Informática</td>\n",
       "      <td>55.0</td>\n",
       "    </tr>\n",
       "    <tr>\n",
       "      <th>98359</th>\n",
       "      <td>ALVAREZ</td>\n",
       "      <td>GONZALO EZEQUIEL</td>\n",
       "      <td>Regular</td>\n",
       "      <td>Pendiente</td>\n",
       "      <td>10.0</td>\n",
       "      <td>Ingeniería en Informática</td>\n",
       "      <td>53.0</td>\n",
       "    </tr>\n",
       "    <tr>\n",
       "      <th>90928</th>\n",
       "      <td>ALVAREZ</td>\n",
       "      <td>NATALIA NAYLA</td>\n",
       "      <td>Regular</td>\n",
       "      <td>Pendiente</td>\n",
       "      <td>10.0</td>\n",
       "      <td>Ingeniería en Informática</td>\n",
       "      <td>93.0</td>\n",
       "    </tr>\n",
       "  </tbody>\n",
       "</table>\n",
       "</div>"
      ],
      "text/plain": [
       "              Apellido             Nombre Calidad Insc.     Estado  \\\n",
       "Legajo                                                               \n",
       "99266   ALVAREZ ALONSO    FEDERICO MATIAS       Regular  Pendiente   \n",
       "99522    ALVAREZ JULIA           SANTIAGO       Regular  Pendiente   \n",
       "99373          ALVAREZ   FERNANDO GABRIEL       Regular  Pendiente   \n",
       "98359          ALVAREZ   GONZALO EZEQUIEL       Regular  Pendiente   \n",
       "90928          ALVAREZ      NATALIA NAYLA       Regular  Pendiente   \n",
       "\n",
       "        Cod. Carrera                    Carrera  Prioridad  \n",
       "Legajo                                                      \n",
       "99266           10.0  Ingeniería en Informática       28.0  \n",
       "99522           10.0  Ingeniería en Informática       41.0  \n",
       "99373           10.0  Ingeniería en Informática       55.0  \n",
       "98359           10.0  Ingeniería en Informática       53.0  \n",
       "90928           10.0  Ingeniería en Informática       93.0  "
      ]
     },
     "execution_count": 259,
     "metadata": {},
     "output_type": "execute_result"
    }
   ],
   "source": [
    "Inscriptos_byPadron = pd.read_csv('Data/Inscriptos-Datos/Inscriptos-Datos2019-Regulares.csv',index_col='Legajo', encoding='latin-1')\n",
    "Inscriptos_byPadron.head()"
   ]
  },
  {
   "cell_type": "code",
   "execution_count": 294,
   "metadata": {},
   "outputs": [
    {
     "data": {
      "text/html": [
       "<div>\n",
       "<style scoped>\n",
       "    .dataframe tbody tr th:only-of-type {\n",
       "        vertical-align: middle;\n",
       "    }\n",
       "\n",
       "    .dataframe tbody tr th {\n",
       "        vertical-align: top;\n",
       "    }\n",
       "\n",
       "    .dataframe thead th {\n",
       "        text-align: right;\n",
       "    }\n",
       "</style>\n",
       "<table border=\"1\" class=\"dataframe\">\n",
       "  <thead>\n",
       "    <tr style=\"text-align: right;\">\n",
       "      <th></th>\n",
       "      <th>Padron</th>\n",
       "      <th>Apellido</th>\n",
       "      <th>Nombre</th>\n",
       "      <th>Presentes</th>\n",
       "      <th>Tipo</th>\n",
       "      <th>Estado</th>\n",
       "      <th>Cod. Carrera</th>\n",
       "      <th>Carrera</th>\n",
       "      <th>Prioridad</th>\n",
       "    </tr>\n",
       "    <tr>\n",
       "      <th>Legajo</th>\n",
       "      <th></th>\n",
       "      <th></th>\n",
       "      <th></th>\n",
       "      <th></th>\n",
       "      <th></th>\n",
       "      <th></th>\n",
       "      <th></th>\n",
       "      <th></th>\n",
       "      <th></th>\n",
       "    </tr>\n",
       "  </thead>\n",
       "  <tbody>\n",
       "    <tr>\n",
       "      <th>99266</th>\n",
       "      <td>99266</td>\n",
       "      <td>ALVAREZ ALONSO</td>\n",
       "      <td>FEDERICO MATIAS</td>\n",
       "      <td>0</td>\n",
       "      <td>Regular</td>\n",
       "      <td>Pendiente</td>\n",
       "      <td>10.0</td>\n",
       "      <td>Ingeniería en Informática</td>\n",
       "      <td>28.0</td>\n",
       "    </tr>\n",
       "    <tr>\n",
       "      <th>99522</th>\n",
       "      <td>99522</td>\n",
       "      <td>ALVAREZ JULIA</td>\n",
       "      <td>SANTIAGO</td>\n",
       "      <td>0</td>\n",
       "      <td>Regular</td>\n",
       "      <td>Pendiente</td>\n",
       "      <td>10.0</td>\n",
       "      <td>Ingeniería en Informática</td>\n",
       "      <td>41.0</td>\n",
       "    </tr>\n",
       "    <tr>\n",
       "      <th>99373</th>\n",
       "      <td>99373</td>\n",
       "      <td>ALVAREZ</td>\n",
       "      <td>FERNANDO GABRIEL</td>\n",
       "      <td>0</td>\n",
       "      <td>Regular</td>\n",
       "      <td>Pendiente</td>\n",
       "      <td>10.0</td>\n",
       "      <td>Ingeniería en Informática</td>\n",
       "      <td>55.0</td>\n",
       "    </tr>\n",
       "    <tr>\n",
       "      <th>98359</th>\n",
       "      <td>98359</td>\n",
       "      <td>ALVAREZ</td>\n",
       "      <td>GONZALO EZEQUIEL</td>\n",
       "      <td>0</td>\n",
       "      <td>Regular</td>\n",
       "      <td>Pendiente</td>\n",
       "      <td>10.0</td>\n",
       "      <td>Ingeniería en Informática</td>\n",
       "      <td>53.0</td>\n",
       "    </tr>\n",
       "    <tr>\n",
       "      <th>90928</th>\n",
       "      <td>90928</td>\n",
       "      <td>ALVAREZ</td>\n",
       "      <td>NATALIA NAYLA</td>\n",
       "      <td>0</td>\n",
       "      <td>Regular</td>\n",
       "      <td>Pendiente</td>\n",
       "      <td>10.0</td>\n",
       "      <td>Ingeniería en Informática</td>\n",
       "      <td>93.0</td>\n",
       "    </tr>\n",
       "  </tbody>\n",
       "</table>\n",
       "</div>"
      ],
      "text/plain": [
       "        Padron        Apellido             Nombre  Presentes     Tipo  \\\n",
       "Legajo                                                                  \n",
       "99266    99266  ALVAREZ ALONSO    FEDERICO MATIAS          0  Regular   \n",
       "99522    99522   ALVAREZ JULIA           SANTIAGO          0  Regular   \n",
       "99373    99373         ALVAREZ   FERNANDO GABRIEL          0  Regular   \n",
       "98359    98359         ALVAREZ   GONZALO EZEQUIEL          0  Regular   \n",
       "90928    90928         ALVAREZ      NATALIA NAYLA          0  Regular   \n",
       "\n",
       "           Estado Cod. Carrera                    Carrera  Prioridad  \n",
       "Legajo                                                                \n",
       "99266   Pendiente         10.0  Ingeniería en Informática       28.0  \n",
       "99522   Pendiente         10.0  Ingeniería en Informática       41.0  \n",
       "99373   Pendiente         10.0  Ingeniería en Informática       55.0  \n",
       "98359   Pendiente         10.0  Ingeniería en Informática       53.0  \n",
       "90928   Pendiente         10.0  Ingeniería en Informática       93.0  "
      ]
     },
     "execution_count": 294,
     "metadata": {},
     "output_type": "execute_result"
    }
   ],
   "source": [
    "idx_rename={'99266':'99265'}\n",
    "col_rename={'Calidad Insc.':'Tipo','Legajo':'Padron'}\n",
    "Inscriptos_byPadron_renamed=Inscriptos_byPadron.rename(index=idx_rename, columns=col_rename)\n",
    "Inscriptos_byPadron_renamed.head()"
   ]
  },
  {
   "cell_type": "markdown",
   "metadata": {},
   "source": [
    "There are other ways to rename the index or column. Any list of values can be assigned as an index, as soon as it has the right number of elements. "
   ]
  },
  {
   "cell_type": "code",
   "execution_count": 295,
   "metadata": {},
   "outputs": [
    {
     "data": {
      "text/html": [
       "<div>\n",
       "<style scoped>\n",
       "    .dataframe tbody tr th:only-of-type {\n",
       "        vertical-align: middle;\n",
       "    }\n",
       "\n",
       "    .dataframe tbody tr th {\n",
       "        vertical-align: top;\n",
       "    }\n",
       "\n",
       "    .dataframe thead th {\n",
       "        text-align: right;\n",
       "    }\n",
       "</style>\n",
       "<table border=\"1\" class=\"dataframe\">\n",
       "  <thead>\n",
       "    <tr style=\"text-align: right;\">\n",
       "      <th></th>\n",
       "      <th>Legajo</th>\n",
       "      <th>Apellido</th>\n",
       "      <th>Nombre</th>\n",
       "      <th>Presentes</th>\n",
       "      <th>Cod_Carrera</th>\n",
       "      <th>Estado</th>\n",
       "      <th>Cod. Carrera</th>\n",
       "      <th>Carrera</th>\n",
       "      <th>Prioridad</th>\n",
       "    </tr>\n",
       "  </thead>\n",
       "  <tbody>\n",
       "    <tr>\n",
       "      <th>11111</th>\n",
       "      <td>99266</td>\n",
       "      <td>ALVAREZ ALONSO</td>\n",
       "      <td>FEDERICO MATIAS</td>\n",
       "      <td>0</td>\n",
       "      <td>Regular</td>\n",
       "      <td>Pendiente</td>\n",
       "      <td>10.0</td>\n",
       "      <td>Ingeniería en Informática</td>\n",
       "      <td>28.0</td>\n",
       "    </tr>\n",
       "    <tr>\n",
       "      <th>99522</th>\n",
       "      <td>99522</td>\n",
       "      <td>ALVAREZ JULIA</td>\n",
       "      <td>SANTIAGO</td>\n",
       "      <td>0</td>\n",
       "      <td>Regular</td>\n",
       "      <td>Pendiente</td>\n",
       "      <td>10.0</td>\n",
       "      <td>Ingeniería en Informática</td>\n",
       "      <td>41.0</td>\n",
       "    </tr>\n",
       "    <tr>\n",
       "      <th>99373</th>\n",
       "      <td>99373</td>\n",
       "      <td>ALVAREZ</td>\n",
       "      <td>FERNANDO GABRIEL</td>\n",
       "      <td>0</td>\n",
       "      <td>Regular</td>\n",
       "      <td>Pendiente</td>\n",
       "      <td>10.0</td>\n",
       "      <td>Ingeniería en Informática</td>\n",
       "      <td>55.0</td>\n",
       "    </tr>\n",
       "    <tr>\n",
       "      <th>98359</th>\n",
       "      <td>98359</td>\n",
       "      <td>ALVAREZ</td>\n",
       "      <td>GONZALO EZEQUIEL</td>\n",
       "      <td>0</td>\n",
       "      <td>Regular</td>\n",
       "      <td>Pendiente</td>\n",
       "      <td>10.0</td>\n",
       "      <td>Ingeniería en Informática</td>\n",
       "      <td>53.0</td>\n",
       "    </tr>\n",
       "    <tr>\n",
       "      <th>90928</th>\n",
       "      <td>90928</td>\n",
       "      <td>ALVAREZ</td>\n",
       "      <td>NATALIA NAYLA</td>\n",
       "      <td>0</td>\n",
       "      <td>Regular</td>\n",
       "      <td>Pendiente</td>\n",
       "      <td>10.0</td>\n",
       "      <td>Ingeniería en Informática</td>\n",
       "      <td>93.0</td>\n",
       "    </tr>\n",
       "  </tbody>\n",
       "</table>\n",
       "</div>"
      ],
      "text/plain": [
       "       Legajo        Apellido             Nombre  Presentes Cod_Carrera  \\\n",
       "11111   99266  ALVAREZ ALONSO    FEDERICO MATIAS          0     Regular   \n",
       "99522   99522   ALVAREZ JULIA           SANTIAGO          0     Regular   \n",
       "99373   99373         ALVAREZ   FERNANDO GABRIEL          0     Regular   \n",
       "98359   98359         ALVAREZ   GONZALO EZEQUIEL          0     Regular   \n",
       "90928   90928         ALVAREZ      NATALIA NAYLA          0     Regular   \n",
       "\n",
       "          Estado Cod. Carrera                    Carrera  Prioridad  \n",
       "11111  Pendiente         10.0  Ingeniería en Informática       28.0  \n",
       "99522  Pendiente         10.0  Ingeniería en Informática       41.0  \n",
       "99373  Pendiente         10.0  Ingeniería en Informática       55.0  \n",
       "98359  Pendiente         10.0  Ingeniería en Informática       53.0  \n",
       "90928  Pendiente         10.0  Ingeniería en Informática       93.0  "
      ]
     },
     "execution_count": 295,
     "metadata": {},
     "output_type": "execute_result"
    }
   ],
   "source": [
    "# We can obtain index and column from business dataframe:\n",
    "Inscriptos_index=Inscriptos_byPadron.index\n",
    "Inscriptos_columns=Inscriptos_byPadron.columns\n",
    "index_list=Inscriptos_index.tolist()\n",
    "columns_list=Inscriptos_columns.tolist()\n",
    "# And rename one or more elements of the lists\n",
    "index_list[0]='11111'\n",
    "columns_list[4]='Cod_Carrera'\n",
    "# Finally we assign it back to the Data Frame\n",
    "Inscriptos_byPadron.index=index_list\n",
    "Inscriptos_byPadron.columns=columns_list\n",
    "Inscriptos_byPadron.head()"
   ]
  },
  {
   "cell_type": "markdown",
   "metadata": {},
   "source": [
    "### Creating and Deleting Columns in a DataFrame\n",
    "\n"
   ]
  },
  {
   "cell_type": "code",
   "execution_count": 296,
   "metadata": {},
   "outputs": [
    {
     "data": {
      "text/html": [
       "<div>\n",
       "<style scoped>\n",
       "    .dataframe tbody tr th:only-of-type {\n",
       "        vertical-align: middle;\n",
       "    }\n",
       "\n",
       "    .dataframe tbody tr th {\n",
       "        vertical-align: top;\n",
       "    }\n",
       "\n",
       "    .dataframe thead th {\n",
       "        text-align: right;\n",
       "    }\n",
       "</style>\n",
       "<table border=\"1\" class=\"dataframe\">\n",
       "  <thead>\n",
       "    <tr style=\"text-align: right;\">\n",
       "      <th></th>\n",
       "      <th>Legajo</th>\n",
       "      <th>Apellido</th>\n",
       "      <th>Nombre</th>\n",
       "      <th>Presentes</th>\n",
       "      <th>Calidad Insc.</th>\n",
       "      <th>Estado</th>\n",
       "      <th>Cod. Carrera</th>\n",
       "      <th>Carrera</th>\n",
       "      <th>Prioridad</th>\n",
       "    </tr>\n",
       "  </thead>\n",
       "  <tbody>\n",
       "    <tr>\n",
       "      <th>0</th>\n",
       "      <td>99266</td>\n",
       "      <td>ALVAREZ ALONSO</td>\n",
       "      <td>FEDERICO MATIAS</td>\n",
       "      <td>0</td>\n",
       "      <td>Regular</td>\n",
       "      <td>Pendiente</td>\n",
       "      <td>10.0</td>\n",
       "      <td>Ingeniería en Informática</td>\n",
       "      <td>28.0</td>\n",
       "    </tr>\n",
       "    <tr>\n",
       "      <th>1</th>\n",
       "      <td>99522</td>\n",
       "      <td>ALVAREZ JULIA</td>\n",
       "      <td>SANTIAGO</td>\n",
       "      <td>0</td>\n",
       "      <td>Regular</td>\n",
       "      <td>Pendiente</td>\n",
       "      <td>10.0</td>\n",
       "      <td>Ingeniería en Informática</td>\n",
       "      <td>41.0</td>\n",
       "    </tr>\n",
       "    <tr>\n",
       "      <th>2</th>\n",
       "      <td>99373</td>\n",
       "      <td>ALVAREZ</td>\n",
       "      <td>FERNANDO GABRIEL</td>\n",
       "      <td>0</td>\n",
       "      <td>Regular</td>\n",
       "      <td>Pendiente</td>\n",
       "      <td>10.0</td>\n",
       "      <td>Ingeniería en Informática</td>\n",
       "      <td>55.0</td>\n",
       "    </tr>\n",
       "    <tr>\n",
       "      <th>3</th>\n",
       "      <td>98359</td>\n",
       "      <td>ALVAREZ</td>\n",
       "      <td>GONZALO EZEQUIEL</td>\n",
       "      <td>0</td>\n",
       "      <td>Regular</td>\n",
       "      <td>Pendiente</td>\n",
       "      <td>10.0</td>\n",
       "      <td>Ingeniería en Informática</td>\n",
       "      <td>53.0</td>\n",
       "    </tr>\n",
       "    <tr>\n",
       "      <th>4</th>\n",
       "      <td>90928</td>\n",
       "      <td>ALVAREZ</td>\n",
       "      <td>NATALIA NAYLA</td>\n",
       "      <td>0</td>\n",
       "      <td>Regular</td>\n",
       "      <td>Pendiente</td>\n",
       "      <td>10.0</td>\n",
       "      <td>Ingeniería en Informática</td>\n",
       "      <td>93.0</td>\n",
       "    </tr>\n",
       "  </tbody>\n",
       "</table>\n",
       "</div>"
      ],
      "text/plain": [
       "   Legajo        Apellido             Nombre  Presentes Calidad Insc.  \\\n",
       "0   99266  ALVAREZ ALONSO    FEDERICO MATIAS          0       Regular   \n",
       "1   99522   ALVAREZ JULIA           SANTIAGO          0       Regular   \n",
       "2   99373         ALVAREZ   FERNANDO GABRIEL          0       Regular   \n",
       "3   98359         ALVAREZ   GONZALO EZEQUIEL          0       Regular   \n",
       "4   90928         ALVAREZ      NATALIA NAYLA          0       Regular   \n",
       "\n",
       "      Estado Cod. Carrera                    Carrera  Prioridad  \n",
       "0  Pendiente         10.0  Ingeniería en Informática       28.0  \n",
       "1  Pendiente         10.0  Ingeniería en Informática       41.0  \n",
       "2  Pendiente         10.0  Ingeniería en Informática       55.0  \n",
       "3  Pendiente         10.0  Ingeniería en Informática       53.0  \n",
       "4  Pendiente         10.0  Ingeniería en Informática       93.0  "
      ]
     },
     "execution_count": 296,
     "metadata": {},
     "output_type": "execute_result"
    }
   ],
   "source": [
    "# We can easily create a new column by assigning values to it:\n",
    "Inscriptos2019['Presentes']=0\n",
    "Inscriptos2019.head()"
   ]
  },
  {
   "cell_type": "markdown",
   "metadata": {},
   "source": [
    "To add a column (at the end) indicating if the business is a top business:"
   ]
  },
  {
   "cell_type": "code",
   "execution_count": 297,
   "metadata": {},
   "outputs": [
    {
     "data": {
      "text/html": [
       "<div>\n",
       "<style scoped>\n",
       "    .dataframe tbody tr th:only-of-type {\n",
       "        vertical-align: middle;\n",
       "    }\n",
       "\n",
       "    .dataframe tbody tr th {\n",
       "        vertical-align: top;\n",
       "    }\n",
       "\n",
       "    .dataframe thead th {\n",
       "        text-align: right;\n",
       "    }\n",
       "</style>\n",
       "<table border=\"1\" class=\"dataframe\">\n",
       "  <thead>\n",
       "    <tr style=\"text-align: right;\">\n",
       "      <th></th>\n",
       "      <th>Legajo</th>\n",
       "      <th>Apellido</th>\n",
       "      <th>Nombre</th>\n",
       "      <th>Presentes</th>\n",
       "      <th>Calidad Insc.</th>\n",
       "      <th>Estado</th>\n",
       "      <th>Cod. Carrera</th>\n",
       "      <th>Carrera</th>\n",
       "      <th>Prioridad</th>\n",
       "      <th>Top_Priority</th>\n",
       "    </tr>\n",
       "  </thead>\n",
       "  <tbody>\n",
       "    <tr>\n",
       "      <th>0</th>\n",
       "      <td>99266</td>\n",
       "      <td>ALVAREZ ALONSO</td>\n",
       "      <td>FEDERICO MATIAS</td>\n",
       "      <td>0</td>\n",
       "      <td>Regular</td>\n",
       "      <td>Pendiente</td>\n",
       "      <td>10.0</td>\n",
       "      <td>Ingeniería en Informática</td>\n",
       "      <td>28.0</td>\n",
       "      <td>False</td>\n",
       "    </tr>\n",
       "    <tr>\n",
       "      <th>1</th>\n",
       "      <td>99522</td>\n",
       "      <td>ALVAREZ JULIA</td>\n",
       "      <td>SANTIAGO</td>\n",
       "      <td>0</td>\n",
       "      <td>Regular</td>\n",
       "      <td>Pendiente</td>\n",
       "      <td>10.0</td>\n",
       "      <td>Ingeniería en Informática</td>\n",
       "      <td>41.0</td>\n",
       "      <td>False</td>\n",
       "    </tr>\n",
       "    <tr>\n",
       "      <th>2</th>\n",
       "      <td>99373</td>\n",
       "      <td>ALVAREZ</td>\n",
       "      <td>FERNANDO GABRIEL</td>\n",
       "      <td>0</td>\n",
       "      <td>Regular</td>\n",
       "      <td>Pendiente</td>\n",
       "      <td>10.0</td>\n",
       "      <td>Ingeniería en Informática</td>\n",
       "      <td>55.0</td>\n",
       "      <td>False</td>\n",
       "    </tr>\n",
       "    <tr>\n",
       "      <th>3</th>\n",
       "      <td>98359</td>\n",
       "      <td>ALVAREZ</td>\n",
       "      <td>GONZALO EZEQUIEL</td>\n",
       "      <td>0</td>\n",
       "      <td>Regular</td>\n",
       "      <td>Pendiente</td>\n",
       "      <td>10.0</td>\n",
       "      <td>Ingeniería en Informática</td>\n",
       "      <td>53.0</td>\n",
       "      <td>False</td>\n",
       "    </tr>\n",
       "    <tr>\n",
       "      <th>4</th>\n",
       "      <td>90928</td>\n",
       "      <td>ALVAREZ</td>\n",
       "      <td>NATALIA NAYLA</td>\n",
       "      <td>0</td>\n",
       "      <td>Regular</td>\n",
       "      <td>Pendiente</td>\n",
       "      <td>10.0</td>\n",
       "      <td>Ingeniería en Informática</td>\n",
       "      <td>93.0</td>\n",
       "      <td>False</td>\n",
       "    </tr>\n",
       "  </tbody>\n",
       "</table>\n",
       "</div>"
      ],
      "text/plain": [
       "   Legajo        Apellido             Nombre  Presentes Calidad Insc.  \\\n",
       "0   99266  ALVAREZ ALONSO    FEDERICO MATIAS          0       Regular   \n",
       "1   99522   ALVAREZ JULIA           SANTIAGO          0       Regular   \n",
       "2   99373         ALVAREZ   FERNANDO GABRIEL          0       Regular   \n",
       "3   98359         ALVAREZ   GONZALO EZEQUIEL          0       Regular   \n",
       "4   90928         ALVAREZ      NATALIA NAYLA          0       Regular   \n",
       "\n",
       "      Estado Cod. Carrera                    Carrera  Prioridad  Top_Priority  \n",
       "0  Pendiente         10.0  Ingeniería en Informática       28.0         False  \n",
       "1  Pendiente         10.0  Ingeniería en Informática       41.0         False  \n",
       "2  Pendiente         10.0  Ingeniería en Informática       55.0         False  \n",
       "3  Pendiente         10.0  Ingeniería en Informática       53.0         False  \n",
       "4  Pendiente         10.0  Ingeniería en Informática       93.0         False  "
      ]
     },
     "execution_count": 297,
     "metadata": {},
     "output_type": "execute_result"
    }
   ],
   "source": [
    "Inscriptos2019['Top_Priority']=(Inscriptos2019['Prioridad']<25)\n",
    "Inscriptos2019.head()"
   ]
  },
  {
   "cell_type": "code",
   "execution_count": 147,
   "metadata": {},
   "outputs": [
    {
     "data": {
      "text/plain": [
       "Legajo\n",
       "99266    False\n",
       "99522    False\n",
       "99373    False\n",
       "98359    False\n",
       "90928    False\n",
       "Name: Top_Priority, dtype: bool"
      ]
     },
     "execution_count": 147,
     "metadata": {},
     "output_type": "execute_result"
    }
   ],
   "source": [
    "Inscriptos2019.set_index('Legajo')['Top_Priority'].head()"
   ]
  },
  {
   "cell_type": "code",
   "execution_count": 298,
   "metadata": {},
   "outputs": [
    {
     "data": {
      "text/html": [
       "<div>\n",
       "<style scoped>\n",
       "    .dataframe tbody tr th:only-of-type {\n",
       "        vertical-align: middle;\n",
       "    }\n",
       "\n",
       "    .dataframe tbody tr th {\n",
       "        vertical-align: top;\n",
       "    }\n",
       "\n",
       "    .dataframe thead th {\n",
       "        text-align: right;\n",
       "    }\n",
       "</style>\n",
       "<table border=\"1\" class=\"dataframe\">\n",
       "  <thead>\n",
       "    <tr style=\"text-align: right;\">\n",
       "      <th></th>\n",
       "      <th>Legajo</th>\n",
       "      <th>Apellido</th>\n",
       "      <th>Nombre</th>\n",
       "      <th>Calidad Insc.</th>\n",
       "      <th>Estado</th>\n",
       "      <th>Cod. Carrera</th>\n",
       "      <th>Carrera</th>\n",
       "      <th>Prioridad</th>\n",
       "      <th>Top_Priority</th>\n",
       "    </tr>\n",
       "  </thead>\n",
       "  <tbody>\n",
       "    <tr>\n",
       "      <th>0</th>\n",
       "      <td>99266</td>\n",
       "      <td>ALVAREZ ALONSO</td>\n",
       "      <td>FEDERICO MATIAS</td>\n",
       "      <td>Regular</td>\n",
       "      <td>Pendiente</td>\n",
       "      <td>10.0</td>\n",
       "      <td>Ingeniería en Informática</td>\n",
       "      <td>28.0</td>\n",
       "      <td>False</td>\n",
       "    </tr>\n",
       "    <tr>\n",
       "      <th>1</th>\n",
       "      <td>99522</td>\n",
       "      <td>ALVAREZ JULIA</td>\n",
       "      <td>SANTIAGO</td>\n",
       "      <td>Regular</td>\n",
       "      <td>Pendiente</td>\n",
       "      <td>10.0</td>\n",
       "      <td>Ingeniería en Informática</td>\n",
       "      <td>41.0</td>\n",
       "      <td>False</td>\n",
       "    </tr>\n",
       "    <tr>\n",
       "      <th>2</th>\n",
       "      <td>99373</td>\n",
       "      <td>ALVAREZ</td>\n",
       "      <td>FERNANDO GABRIEL</td>\n",
       "      <td>Regular</td>\n",
       "      <td>Pendiente</td>\n",
       "      <td>10.0</td>\n",
       "      <td>Ingeniería en Informática</td>\n",
       "      <td>55.0</td>\n",
       "      <td>False</td>\n",
       "    </tr>\n",
       "    <tr>\n",
       "      <th>3</th>\n",
       "      <td>98359</td>\n",
       "      <td>ALVAREZ</td>\n",
       "      <td>GONZALO EZEQUIEL</td>\n",
       "      <td>Regular</td>\n",
       "      <td>Pendiente</td>\n",
       "      <td>10.0</td>\n",
       "      <td>Ingeniería en Informática</td>\n",
       "      <td>53.0</td>\n",
       "      <td>False</td>\n",
       "    </tr>\n",
       "    <tr>\n",
       "      <th>4</th>\n",
       "      <td>90928</td>\n",
       "      <td>ALVAREZ</td>\n",
       "      <td>NATALIA NAYLA</td>\n",
       "      <td>Regular</td>\n",
       "      <td>Pendiente</td>\n",
       "      <td>10.0</td>\n",
       "      <td>Ingeniería en Informática</td>\n",
       "      <td>93.0</td>\n",
       "      <td>False</td>\n",
       "    </tr>\n",
       "  </tbody>\n",
       "</table>\n",
       "</div>"
      ],
      "text/plain": [
       "   Legajo        Apellido             Nombre Calidad Insc.     Estado  \\\n",
       "0   99266  ALVAREZ ALONSO    FEDERICO MATIAS       Regular  Pendiente   \n",
       "1   99522   ALVAREZ JULIA           SANTIAGO       Regular  Pendiente   \n",
       "2   99373         ALVAREZ   FERNANDO GABRIEL       Regular  Pendiente   \n",
       "3   98359         ALVAREZ   GONZALO EZEQUIEL       Regular  Pendiente   \n",
       "4   90928         ALVAREZ      NATALIA NAYLA       Regular  Pendiente   \n",
       "\n",
       "  Cod. Carrera                    Carrera  Prioridad  Top_Priority  \n",
       "0         10.0  Ingeniería en Informática       28.0         False  \n",
       "1         10.0  Ingeniería en Informática       41.0         False  \n",
       "2         10.0  Ingeniería en Informática       55.0         False  \n",
       "3         10.0  Ingeniería en Informática       53.0         False  \n",
       "4         10.0  Ingeniería en Informática       93.0         False  "
      ]
     },
     "execution_count": 298,
     "metadata": {},
     "output_type": "execute_result"
    }
   ],
   "source": [
    "# We can delete the column just created using the drop method:\n",
    "Inscriptos2019=Inscriptos2019.drop('Presentes',axis='columns')\n",
    "Inscriptos2019.head()"
   ]
  },
  {
   "cell_type": "markdown",
   "metadata": {},
   "source": [
    "If we want to add a column, but in a specific possition, we need to indicate that possition.\n",
    "Let´s add the column after the Name To do that we calculate the possition of the Name and calulate it +1"
   ]
  },
  {
   "cell_type": "code",
   "execution_count": 157,
   "metadata": {},
   "outputs": [
    {
     "data": {
      "text/plain": [
       "3"
      ]
     },
     "execution_count": 157,
     "metadata": {},
     "output_type": "execute_result"
    }
   ],
   "source": [
    "Inscriptos2019_index=Inscriptos2019.columns.get_loc(' Nombre')+1\n",
    "Inscriptos2019_index"
   ]
  },
  {
   "cell_type": "markdown",
   "metadata": {},
   "source": [
    "Now, we use the insert method, indicating the possition we want:"
   ]
  },
  {
   "cell_type": "code",
   "execution_count": 299,
   "metadata": {},
   "outputs": [
    {
     "data": {
      "text/html": [
       "<div>\n",
       "<style scoped>\n",
       "    .dataframe tbody tr th:only-of-type {\n",
       "        vertical-align: middle;\n",
       "    }\n",
       "\n",
       "    .dataframe tbody tr th {\n",
       "        vertical-align: top;\n",
       "    }\n",
       "\n",
       "    .dataframe thead th {\n",
       "        text-align: right;\n",
       "    }\n",
       "</style>\n",
       "<table border=\"1\" class=\"dataframe\">\n",
       "  <thead>\n",
       "    <tr style=\"text-align: right;\">\n",
       "      <th></th>\n",
       "      <th>Legajo</th>\n",
       "      <th>Apellido</th>\n",
       "      <th>Nombre</th>\n",
       "      <th>Presentes</th>\n",
       "      <th>Calidad Insc.</th>\n",
       "      <th>Estado</th>\n",
       "      <th>Cod. Carrera</th>\n",
       "      <th>Carrera</th>\n",
       "      <th>Prioridad</th>\n",
       "      <th>Top_Priority</th>\n",
       "    </tr>\n",
       "  </thead>\n",
       "  <tbody>\n",
       "    <tr>\n",
       "      <th>0</th>\n",
       "      <td>99266</td>\n",
       "      <td>ALVAREZ ALONSO</td>\n",
       "      <td>FEDERICO MATIAS</td>\n",
       "      <td>0</td>\n",
       "      <td>Regular</td>\n",
       "      <td>Pendiente</td>\n",
       "      <td>10.0</td>\n",
       "      <td>Ingeniería en Informática</td>\n",
       "      <td>28.0</td>\n",
       "      <td>False</td>\n",
       "    </tr>\n",
       "    <tr>\n",
       "      <th>1</th>\n",
       "      <td>99522</td>\n",
       "      <td>ALVAREZ JULIA</td>\n",
       "      <td>SANTIAGO</td>\n",
       "      <td>0</td>\n",
       "      <td>Regular</td>\n",
       "      <td>Pendiente</td>\n",
       "      <td>10.0</td>\n",
       "      <td>Ingeniería en Informática</td>\n",
       "      <td>41.0</td>\n",
       "      <td>False</td>\n",
       "    </tr>\n",
       "    <tr>\n",
       "      <th>2</th>\n",
       "      <td>99373</td>\n",
       "      <td>ALVAREZ</td>\n",
       "      <td>FERNANDO GABRIEL</td>\n",
       "      <td>0</td>\n",
       "      <td>Regular</td>\n",
       "      <td>Pendiente</td>\n",
       "      <td>10.0</td>\n",
       "      <td>Ingeniería en Informática</td>\n",
       "      <td>55.0</td>\n",
       "      <td>False</td>\n",
       "    </tr>\n",
       "    <tr>\n",
       "      <th>3</th>\n",
       "      <td>98359</td>\n",
       "      <td>ALVAREZ</td>\n",
       "      <td>GONZALO EZEQUIEL</td>\n",
       "      <td>0</td>\n",
       "      <td>Regular</td>\n",
       "      <td>Pendiente</td>\n",
       "      <td>10.0</td>\n",
       "      <td>Ingeniería en Informática</td>\n",
       "      <td>53.0</td>\n",
       "      <td>False</td>\n",
       "    </tr>\n",
       "    <tr>\n",
       "      <th>4</th>\n",
       "      <td>90928</td>\n",
       "      <td>ALVAREZ</td>\n",
       "      <td>NATALIA NAYLA</td>\n",
       "      <td>0</td>\n",
       "      <td>Regular</td>\n",
       "      <td>Pendiente</td>\n",
       "      <td>10.0</td>\n",
       "      <td>Ingeniería en Informática</td>\n",
       "      <td>93.0</td>\n",
       "      <td>False</td>\n",
       "    </tr>\n",
       "  </tbody>\n",
       "</table>\n",
       "</div>"
      ],
      "text/plain": [
       "   Legajo        Apellido             Nombre  Presentes Calidad Insc.  \\\n",
       "0   99266  ALVAREZ ALONSO    FEDERICO MATIAS          0       Regular   \n",
       "1   99522   ALVAREZ JULIA           SANTIAGO          0       Regular   \n",
       "2   99373         ALVAREZ   FERNANDO GABRIEL          0       Regular   \n",
       "3   98359         ALVAREZ   GONZALO EZEQUIEL          0       Regular   \n",
       "4   90928         ALVAREZ      NATALIA NAYLA          0       Regular   \n",
       "\n",
       "      Estado Cod. Carrera                    Carrera  Prioridad  Top_Priority  \n",
       "0  Pendiente         10.0  Ingeniería en Informática       28.0         False  \n",
       "1  Pendiente         10.0  Ingeniería en Informática       41.0         False  \n",
       "2  Pendiente         10.0  Ingeniería en Informática       55.0         False  \n",
       "3  Pendiente         10.0  Ingeniería en Informática       53.0         False  \n",
       "4  Pendiente         10.0  Ingeniería en Informática       93.0         False  "
      ]
     },
     "execution_count": 299,
     "metadata": {},
     "output_type": "execute_result"
    }
   ],
   "source": [
    "Inscriptos2019.insert(loc=Inscriptos2019_index, column='Presentes', value=0)\n",
    "Inscriptos2019.head()"
   ]
  },
  {
   "cell_type": "markdown",
   "metadata": {},
   "source": [
    " We can delete the new column using drop as before, or using del with the following sintax:"
   ]
  },
  {
   "cell_type": "code",
   "execution_count": 159,
   "metadata": {},
   "outputs": [],
   "source": [
    "del Inscriptos2019['Top_Priority']"
   ]
  },
  {
   "cell_type": "code",
   "execution_count": 300,
   "metadata": {},
   "outputs": [
    {
     "data": {
      "text/html": [
       "<div>\n",
       "<style scoped>\n",
       "    .dataframe tbody tr th:only-of-type {\n",
       "        vertical-align: middle;\n",
       "    }\n",
       "\n",
       "    .dataframe tbody tr th {\n",
       "        vertical-align: top;\n",
       "    }\n",
       "\n",
       "    .dataframe thead th {\n",
       "        text-align: right;\n",
       "    }\n",
       "</style>\n",
       "<table border=\"1\" class=\"dataframe\">\n",
       "  <thead>\n",
       "    <tr style=\"text-align: right;\">\n",
       "      <th></th>\n",
       "      <th>Legajo</th>\n",
       "      <th>Apellido</th>\n",
       "      <th>Nombre</th>\n",
       "      <th>Presentes</th>\n",
       "      <th>Calidad Insc.</th>\n",
       "      <th>Estado</th>\n",
       "      <th>Cod. Carrera</th>\n",
       "      <th>Carrera</th>\n",
       "      <th>Prioridad</th>\n",
       "      <th>Top_Priority</th>\n",
       "    </tr>\n",
       "  </thead>\n",
       "  <tbody>\n",
       "    <tr>\n",
       "      <th>0</th>\n",
       "      <td>99266</td>\n",
       "      <td>ALVAREZ ALONSO</td>\n",
       "      <td>FEDERICO MATIAS</td>\n",
       "      <td>0</td>\n",
       "      <td>Regular</td>\n",
       "      <td>Pendiente</td>\n",
       "      <td>10.0</td>\n",
       "      <td>Ingeniería en Informática</td>\n",
       "      <td>28.0</td>\n",
       "      <td>False</td>\n",
       "    </tr>\n",
       "    <tr>\n",
       "      <th>1</th>\n",
       "      <td>99522</td>\n",
       "      <td>ALVAREZ JULIA</td>\n",
       "      <td>SANTIAGO</td>\n",
       "      <td>0</td>\n",
       "      <td>Regular</td>\n",
       "      <td>Pendiente</td>\n",
       "      <td>10.0</td>\n",
       "      <td>Ingeniería en Informática</td>\n",
       "      <td>41.0</td>\n",
       "      <td>False</td>\n",
       "    </tr>\n",
       "    <tr>\n",
       "      <th>2</th>\n",
       "      <td>99373</td>\n",
       "      <td>ALVAREZ</td>\n",
       "      <td>FERNANDO GABRIEL</td>\n",
       "      <td>0</td>\n",
       "      <td>Regular</td>\n",
       "      <td>Pendiente</td>\n",
       "      <td>10.0</td>\n",
       "      <td>Ingeniería en Informática</td>\n",
       "      <td>55.0</td>\n",
       "      <td>False</td>\n",
       "    </tr>\n",
       "    <tr>\n",
       "      <th>3</th>\n",
       "      <td>98359</td>\n",
       "      <td>ALVAREZ</td>\n",
       "      <td>GONZALO EZEQUIEL</td>\n",
       "      <td>0</td>\n",
       "      <td>Regular</td>\n",
       "      <td>Pendiente</td>\n",
       "      <td>10.0</td>\n",
       "      <td>Ingeniería en Informática</td>\n",
       "      <td>53.0</td>\n",
       "      <td>False</td>\n",
       "    </tr>\n",
       "    <tr>\n",
       "      <th>4</th>\n",
       "      <td>90928</td>\n",
       "      <td>ALVAREZ</td>\n",
       "      <td>NATALIA NAYLA</td>\n",
       "      <td>0</td>\n",
       "      <td>Regular</td>\n",
       "      <td>Pendiente</td>\n",
       "      <td>10.0</td>\n",
       "      <td>Ingeniería en Informática</td>\n",
       "      <td>93.0</td>\n",
       "      <td>False</td>\n",
       "    </tr>\n",
       "  </tbody>\n",
       "</table>\n",
       "</div>"
      ],
      "text/plain": [
       "   Legajo        Apellido             Nombre  Presentes Calidad Insc.  \\\n",
       "0   99266  ALVAREZ ALONSO    FEDERICO MATIAS          0       Regular   \n",
       "1   99522   ALVAREZ JULIA           SANTIAGO          0       Regular   \n",
       "2   99373         ALVAREZ   FERNANDO GABRIEL          0       Regular   \n",
       "3   98359         ALVAREZ   GONZALO EZEQUIEL          0       Regular   \n",
       "4   90928         ALVAREZ      NATALIA NAYLA          0       Regular   \n",
       "\n",
       "      Estado Cod. Carrera                    Carrera  Prioridad  Top_Priority  \n",
       "0  Pendiente         10.0  Ingeniería en Informática       28.0         False  \n",
       "1  Pendiente         10.0  Ingeniería en Informática       41.0         False  \n",
       "2  Pendiente         10.0  Ingeniería en Informática       55.0         False  \n",
       "3  Pendiente         10.0  Ingeniería en Informática       53.0         False  \n",
       "4  Pendiente         10.0  Ingeniería en Informática       93.0         False  "
      ]
     },
     "execution_count": 300,
     "metadata": {},
     "output_type": "execute_result"
    }
   ],
   "source": [
    "Inscriptos2019.head()"
   ]
  },
  {
   "cell_type": "markdown",
   "metadata": {},
   "source": [
    "### Data Frame Operations\n",
    "\n",
    "#### We will now review other methods that apply to Data Frames, how to select multiple rows, how to chain multiple methods, etc"
   ]
  },
  {
   "cell_type": "code",
   "execution_count": 301,
   "metadata": {},
   "outputs": [
    {
     "data": {
      "text/html": [
       "<div>\n",
       "<style scoped>\n",
       "    .dataframe tbody tr th:only-of-type {\n",
       "        vertical-align: middle;\n",
       "    }\n",
       "\n",
       "    .dataframe tbody tr th {\n",
       "        vertical-align: top;\n",
       "    }\n",
       "\n",
       "    .dataframe thead th {\n",
       "        text-align: right;\n",
       "    }\n",
       "</style>\n",
       "<table border=\"1\" class=\"dataframe\">\n",
       "  <thead>\n",
       "    <tr style=\"text-align: right;\">\n",
       "      <th></th>\n",
       "      <th>Legajo</th>\n",
       "      <th>Apellido</th>\n",
       "      <th>Nombre</th>\n",
       "      <th>Calidad Insc.</th>\n",
       "    </tr>\n",
       "  </thead>\n",
       "  <tbody>\n",
       "    <tr>\n",
       "      <th>0</th>\n",
       "      <td>99266</td>\n",
       "      <td>ALVAREZ ALONSO</td>\n",
       "      <td>FEDERICO MATIAS</td>\n",
       "      <td>Regular</td>\n",
       "    </tr>\n",
       "    <tr>\n",
       "      <th>1</th>\n",
       "      <td>99522</td>\n",
       "      <td>ALVAREZ JULIA</td>\n",
       "      <td>SANTIAGO</td>\n",
       "      <td>Regular</td>\n",
       "    </tr>\n",
       "    <tr>\n",
       "      <th>2</th>\n",
       "      <td>99373</td>\n",
       "      <td>ALVAREZ</td>\n",
       "      <td>FERNANDO GABRIEL</td>\n",
       "      <td>Regular</td>\n",
       "    </tr>\n",
       "    <tr>\n",
       "      <th>3</th>\n",
       "      <td>98359</td>\n",
       "      <td>ALVAREZ</td>\n",
       "      <td>GONZALO EZEQUIEL</td>\n",
       "      <td>Regular</td>\n",
       "    </tr>\n",
       "    <tr>\n",
       "      <th>4</th>\n",
       "      <td>90928</td>\n",
       "      <td>ALVAREZ</td>\n",
       "      <td>NATALIA NAYLA</td>\n",
       "      <td>Regular</td>\n",
       "    </tr>\n",
       "  </tbody>\n",
       "</table>\n",
       "</div>"
      ],
      "text/plain": [
       "   Legajo        Apellido             Nombre Calidad Insc.\n",
       "0   99266  ALVAREZ ALONSO    FEDERICO MATIAS       Regular\n",
       "1   99522   ALVAREZ JULIA           SANTIAGO       Regular\n",
       "2   99373         ALVAREZ   FERNANDO GABRIEL       Regular\n",
       "3   98359         ALVAREZ   GONZALO EZEQUIEL       Regular\n",
       "4   90928         ALVAREZ      NATALIA NAYLA       Regular"
      ]
     },
     "execution_count": 301,
     "metadata": {},
     "output_type": "execute_result"
    }
   ],
   "source": [
    "# Similar to what we did when selecting one column, but instead of providing a column name, we will be passing a list of columns:\n",
    "Inscriptos2019_Reduced = Inscriptos2019[['Legajo','Apellido',' Nombre','Calidad Insc.']]\n",
    "Inscriptos2019_Reduced.head()"
   ]
  },
  {
   "cell_type": "markdown",
   "metadata": {},
   "source": [
    "#### Selecting columns with methods"
   ]
  },
  {
   "cell_type": "code",
   "execution_count": 163,
   "metadata": {},
   "outputs": [
    {
     "data": {
      "text/plain": [
       "float64    2\n",
       "int64      2\n",
       "object     5\n",
       "dtype: int64"
      ]
     },
     "execution_count": 163,
     "metadata": {},
     "output_type": "execute_result"
    }
   ],
   "source": [
    "Inscriptos2019.get_dtype_counts()"
   ]
  },
  {
   "cell_type": "code",
   "execution_count": 164,
   "metadata": {},
   "outputs": [
    {
     "data": {
      "text/html": [
       "<div>\n",
       "<style scoped>\n",
       "    .dataframe tbody tr th:only-of-type {\n",
       "        vertical-align: middle;\n",
       "    }\n",
       "\n",
       "    .dataframe tbody tr th {\n",
       "        vertical-align: top;\n",
       "    }\n",
       "\n",
       "    .dataframe thead th {\n",
       "        text-align: right;\n",
       "    }\n",
       "</style>\n",
       "<table border=\"1\" class=\"dataframe\">\n",
       "  <thead>\n",
       "    <tr style=\"text-align: right;\">\n",
       "      <th></th>\n",
       "      <th>Legajo</th>\n",
       "      <th>Presentes</th>\n",
       "      <th>Cod. Carrera</th>\n",
       "      <th>Prioridad</th>\n",
       "    </tr>\n",
       "  </thead>\n",
       "  <tbody>\n",
       "    <tr>\n",
       "      <th>0</th>\n",
       "      <td>99266</td>\n",
       "      <td>0</td>\n",
       "      <td>10.0</td>\n",
       "      <td>28.0</td>\n",
       "    </tr>\n",
       "    <tr>\n",
       "      <th>1</th>\n",
       "      <td>99522</td>\n",
       "      <td>0</td>\n",
       "      <td>10.0</td>\n",
       "      <td>41.0</td>\n",
       "    </tr>\n",
       "    <tr>\n",
       "      <th>2</th>\n",
       "      <td>99373</td>\n",
       "      <td>0</td>\n",
       "      <td>10.0</td>\n",
       "      <td>55.0</td>\n",
       "    </tr>\n",
       "    <tr>\n",
       "      <th>3</th>\n",
       "      <td>98359</td>\n",
       "      <td>0</td>\n",
       "      <td>10.0</td>\n",
       "      <td>53.0</td>\n",
       "    </tr>\n",
       "    <tr>\n",
       "      <th>4</th>\n",
       "      <td>90928</td>\n",
       "      <td>0</td>\n",
       "      <td>10.0</td>\n",
       "      <td>93.0</td>\n",
       "    </tr>\n",
       "  </tbody>\n",
       "</table>\n",
       "</div>"
      ],
      "text/plain": [
       "   Legajo  Presentes  Cod. Carrera  Prioridad\n",
       "0   99266          0          10.0       28.0\n",
       "1   99522          0          10.0       41.0\n",
       "2   99373          0          10.0       55.0\n",
       "3   98359          0          10.0       53.0\n",
       "4   90928          0          10.0       93.0"
      ]
     },
     "execution_count": 164,
     "metadata": {},
     "output_type": "execute_result"
    }
   ],
   "source": [
    "# we can select colums with a specific data type using the select_dtypes method.\n",
    "# using the parameter include we can indicate the data type we are looking for:\n",
    "Inscriptos2019.select_dtypes(include=['int64','float64']).head()"
   ]
  },
  {
   "cell_type": "markdown",
   "metadata": {},
   "source": [
    "We can also select all numeric columns using include='number':"
   ]
  },
  {
   "cell_type": "code",
   "execution_count": 302,
   "metadata": {},
   "outputs": [
    {
     "data": {
      "text/html": [
       "<div>\n",
       "<style scoped>\n",
       "    .dataframe tbody tr th:only-of-type {\n",
       "        vertical-align: middle;\n",
       "    }\n",
       "\n",
       "    .dataframe tbody tr th {\n",
       "        vertical-align: top;\n",
       "    }\n",
       "\n",
       "    .dataframe thead th {\n",
       "        text-align: right;\n",
       "    }\n",
       "</style>\n",
       "<table border=\"1\" class=\"dataframe\">\n",
       "  <thead>\n",
       "    <tr style=\"text-align: right;\">\n",
       "      <th></th>\n",
       "      <th>Legajo</th>\n",
       "      <th>Presentes</th>\n",
       "      <th>Prioridad</th>\n",
       "    </tr>\n",
       "  </thead>\n",
       "  <tbody>\n",
       "    <tr>\n",
       "      <th>0</th>\n",
       "      <td>99266</td>\n",
       "      <td>0</td>\n",
       "      <td>28.0</td>\n",
       "    </tr>\n",
       "    <tr>\n",
       "      <th>1</th>\n",
       "      <td>99522</td>\n",
       "      <td>0</td>\n",
       "      <td>41.0</td>\n",
       "    </tr>\n",
       "    <tr>\n",
       "      <th>2</th>\n",
       "      <td>99373</td>\n",
       "      <td>0</td>\n",
       "      <td>55.0</td>\n",
       "    </tr>\n",
       "    <tr>\n",
       "      <th>3</th>\n",
       "      <td>98359</td>\n",
       "      <td>0</td>\n",
       "      <td>53.0</td>\n",
       "    </tr>\n",
       "    <tr>\n",
       "      <th>4</th>\n",
       "      <td>90928</td>\n",
       "      <td>0</td>\n",
       "      <td>93.0</td>\n",
       "    </tr>\n",
       "  </tbody>\n",
       "</table>\n",
       "</div>"
      ],
      "text/plain": [
       "   Legajo  Presentes  Prioridad\n",
       "0   99266          0       28.0\n",
       "1   99522          0       41.0\n",
       "2   99373          0       55.0\n",
       "3   98359          0       53.0\n",
       "4   90928          0       93.0"
      ]
     },
     "execution_count": 302,
     "metadata": {},
     "output_type": "execute_result"
    }
   ],
   "source": [
    "Inscriptos2019.select_dtypes(include='number').head()"
   ]
  },
  {
   "cell_type": "markdown",
   "metadata": {},
   "source": [
    "We can also select specific columns by filtering contect on the column names."
   ]
  },
  {
   "cell_type": "code",
   "execution_count": 166,
   "metadata": {},
   "outputs": [
    {
     "data": {
      "text/html": [
       "<div>\n",
       "<style scoped>\n",
       "    .dataframe tbody tr th:only-of-type {\n",
       "        vertical-align: middle;\n",
       "    }\n",
       "\n",
       "    .dataframe tbody tr th {\n",
       "        vertical-align: top;\n",
       "    }\n",
       "\n",
       "    .dataframe thead th {\n",
       "        text-align: right;\n",
       "    }\n",
       "</style>\n",
       "<table border=\"1\" class=\"dataframe\">\n",
       "  <thead>\n",
       "    <tr style=\"text-align: right;\">\n",
       "      <th></th>\n",
       "      <th>Cod. Carrera</th>\n",
       "      <th>Carrera</th>\n",
       "    </tr>\n",
       "  </thead>\n",
       "  <tbody>\n",
       "    <tr>\n",
       "      <th>0</th>\n",
       "      <td>10.0</td>\n",
       "      <td>Ingeniería en Informática</td>\n",
       "    </tr>\n",
       "    <tr>\n",
       "      <th>1</th>\n",
       "      <td>10.0</td>\n",
       "      <td>Ingeniería en Informática</td>\n",
       "    </tr>\n",
       "    <tr>\n",
       "      <th>2</th>\n",
       "      <td>10.0</td>\n",
       "      <td>Ingeniería en Informática</td>\n",
       "    </tr>\n",
       "    <tr>\n",
       "      <th>3</th>\n",
       "      <td>10.0</td>\n",
       "      <td>Ingeniería en Informática</td>\n",
       "    </tr>\n",
       "    <tr>\n",
       "      <th>4</th>\n",
       "      <td>10.0</td>\n",
       "      <td>Ingeniería en Informática</td>\n",
       "    </tr>\n",
       "  </tbody>\n",
       "</table>\n",
       "</div>"
      ],
      "text/plain": [
       "   Cod. Carrera                    Carrera\n",
       "0          10.0  Ingeniería en Informática\n",
       "1          10.0  Ingeniería en Informática\n",
       "2          10.0  Ingeniería en Informática\n",
       "3          10.0  Ingeniería en Informática\n",
       "4          10.0  Ingeniería en Informática"
      ]
     },
     "execution_count": 166,
     "metadata": {},
     "output_type": "execute_result"
    }
   ],
   "source": [
    "\n",
    "Inscriptos2019.filter(like='Carrera').head()"
   ]
  },
  {
   "cell_type": "markdown",
   "metadata": {},
   "source": [
    "Filter also allows regular expressions:"
   ]
  },
  {
   "cell_type": "code",
   "execution_count": 168,
   "metadata": {},
   "outputs": [
    {
     "data": {
      "text/html": [
       "<div>\n",
       "<style scoped>\n",
       "    .dataframe tbody tr th:only-of-type {\n",
       "        vertical-align: middle;\n",
       "    }\n",
       "\n",
       "    .dataframe tbody tr th {\n",
       "        vertical-align: top;\n",
       "    }\n",
       "\n",
       "    .dataframe thead th {\n",
       "        text-align: right;\n",
       "    }\n",
       "</style>\n",
       "<table border=\"1\" class=\"dataframe\">\n",
       "  <thead>\n",
       "    <tr style=\"text-align: right;\">\n",
       "      <th></th>\n",
       "      <th>Nombre</th>\n",
       "      <th>Calidad Insc.</th>\n",
       "      <th>Cod. Carrera</th>\n",
       "    </tr>\n",
       "  </thead>\n",
       "  <tbody>\n",
       "    <tr>\n",
       "      <th>0</th>\n",
       "      <td>FEDERICO MATIAS</td>\n",
       "      <td>Regular</td>\n",
       "      <td>10.0</td>\n",
       "    </tr>\n",
       "    <tr>\n",
       "      <th>1</th>\n",
       "      <td>SANTIAGO</td>\n",
       "      <td>Regular</td>\n",
       "      <td>10.0</td>\n",
       "    </tr>\n",
       "    <tr>\n",
       "      <th>2</th>\n",
       "      <td>FERNANDO GABRIEL</td>\n",
       "      <td>Regular</td>\n",
       "      <td>10.0</td>\n",
       "    </tr>\n",
       "    <tr>\n",
       "      <th>3</th>\n",
       "      <td>GONZALO EZEQUIEL</td>\n",
       "      <td>Regular</td>\n",
       "      <td>10.0</td>\n",
       "    </tr>\n",
       "    <tr>\n",
       "      <th>4</th>\n",
       "      <td>NATALIA NAYLA</td>\n",
       "      <td>Regular</td>\n",
       "      <td>10.0</td>\n",
       "    </tr>\n",
       "  </tbody>\n",
       "</table>\n",
       "</div>"
      ],
      "text/plain": [
       "              Nombre Calidad Insc.  Cod. Carrera\n",
       "0    FEDERICO MATIAS       Regular          10.0\n",
       "1           SANTIAGO       Regular          10.0\n",
       "2   FERNANDO GABRIEL       Regular          10.0\n",
       "3   GONZALO EZEQUIEL       Regular          10.0\n",
       "4      NATALIA NAYLA       Regular          10.0"
      ]
     },
     "execution_count": 168,
     "metadata": {},
     "output_type": "execute_result"
    }
   ],
   "source": [
    "Inscriptos2019.filter(regex='\\ ').head()"
   ]
  },
  {
   "cell_type": "code",
   "execution_count": 303,
   "metadata": {},
   "outputs": [
    {
     "data": {
      "text/html": [
       "<div>\n",
       "<style scoped>\n",
       "    .dataframe tbody tr th:only-of-type {\n",
       "        vertical-align: middle;\n",
       "    }\n",
       "\n",
       "    .dataframe tbody tr th {\n",
       "        vertical-align: top;\n",
       "    }\n",
       "\n",
       "    .dataframe thead th {\n",
       "        text-align: right;\n",
       "    }\n",
       "</style>\n",
       "<table border=\"1\" class=\"dataframe\">\n",
       "  <thead>\n",
       "    <tr style=\"text-align: right;\">\n",
       "      <th></th>\n",
       "      <th>Legajo</th>\n",
       "    </tr>\n",
       "  </thead>\n",
       "  <tbody>\n",
       "    <tr>\n",
       "      <th>0</th>\n",
       "      <td>99266</td>\n",
       "    </tr>\n",
       "    <tr>\n",
       "      <th>1</th>\n",
       "      <td>99522</td>\n",
       "    </tr>\n",
       "    <tr>\n",
       "      <th>2</th>\n",
       "      <td>99373</td>\n",
       "    </tr>\n",
       "    <tr>\n",
       "      <th>3</th>\n",
       "      <td>98359</td>\n",
       "    </tr>\n",
       "    <tr>\n",
       "      <th>4</th>\n",
       "      <td>90928</td>\n",
       "    </tr>\n",
       "  </tbody>\n",
       "</table>\n",
       "</div>"
      ],
      "text/plain": [
       "   Legajo\n",
       "0   99266\n",
       "1   99522\n",
       "2   99373\n",
       "3   98359\n",
       "4   90928"
      ]
     },
     "execution_count": 303,
     "metadata": {},
     "output_type": "execute_result"
    }
   ],
   "source": [
    "# Lastly, using items parameter we can indicate the list of columns to select:\n",
    "Inscriptos2019.filter(items=['Legajo']).head()"
   ]
  },
  {
   "cell_type": "markdown",
   "metadata": {},
   "source": [
    "### Ordering Columns\n"
   ]
  },
  {
   "cell_type": "code",
   "execution_count": 170,
   "metadata": {},
   "outputs": [
    {
     "data": {
      "text/plain": [
       "Index(['Legajo', 'Apellido', ' Nombre', 'Presentes', 'Calidad Insc.', 'Estado',\n",
       "       'Cod. Carrera', 'Carrera', 'Prioridad'],\n",
       "      dtype='object')"
      ]
     },
     "execution_count": 170,
     "metadata": {},
     "output_type": "execute_result"
    }
   ],
   "source": [
    "Inscriptos2019.columns"
   ]
  },
  {
   "cell_type": "code",
   "execution_count": 171,
   "metadata": {},
   "outputs": [
    {
     "data": {
      "text/html": [
       "<div>\n",
       "<style scoped>\n",
       "    .dataframe tbody tr th:only-of-type {\n",
       "        vertical-align: middle;\n",
       "    }\n",
       "\n",
       "    .dataframe tbody tr th {\n",
       "        vertical-align: top;\n",
       "    }\n",
       "\n",
       "    .dataframe thead th {\n",
       "        text-align: right;\n",
       "    }\n",
       "</style>\n",
       "<table border=\"1\" class=\"dataframe\">\n",
       "  <thead>\n",
       "    <tr style=\"text-align: right;\">\n",
       "      <th></th>\n",
       "      <th>Legajo</th>\n",
       "      <th>Apellido</th>\n",
       "      <th>Nombre</th>\n",
       "      <th>Presentes</th>\n",
       "      <th>Cod. Carrera</th>\n",
       "      <th>Carrera</th>\n",
       "      <th>Prioridad</th>\n",
       "      <th>Calidad Insc.</th>\n",
       "      <th>Estado</th>\n",
       "    </tr>\n",
       "  </thead>\n",
       "  <tbody>\n",
       "    <tr>\n",
       "      <th>0</th>\n",
       "      <td>99266</td>\n",
       "      <td>ALVAREZ ALONSO</td>\n",
       "      <td>FEDERICO MATIAS</td>\n",
       "      <td>0</td>\n",
       "      <td>10.0</td>\n",
       "      <td>Ingeniería en Informática</td>\n",
       "      <td>28.0</td>\n",
       "      <td>Regular</td>\n",
       "      <td>Pendiente</td>\n",
       "    </tr>\n",
       "    <tr>\n",
       "      <th>1</th>\n",
       "      <td>99522</td>\n",
       "      <td>ALVAREZ JULIA</td>\n",
       "      <td>SANTIAGO</td>\n",
       "      <td>0</td>\n",
       "      <td>10.0</td>\n",
       "      <td>Ingeniería en Informática</td>\n",
       "      <td>41.0</td>\n",
       "      <td>Regular</td>\n",
       "      <td>Pendiente</td>\n",
       "    </tr>\n",
       "    <tr>\n",
       "      <th>2</th>\n",
       "      <td>99373</td>\n",
       "      <td>ALVAREZ</td>\n",
       "      <td>FERNANDO GABRIEL</td>\n",
       "      <td>0</td>\n",
       "      <td>10.0</td>\n",
       "      <td>Ingeniería en Informática</td>\n",
       "      <td>55.0</td>\n",
       "      <td>Regular</td>\n",
       "      <td>Pendiente</td>\n",
       "    </tr>\n",
       "    <tr>\n",
       "      <th>3</th>\n",
       "      <td>98359</td>\n",
       "      <td>ALVAREZ</td>\n",
       "      <td>GONZALO EZEQUIEL</td>\n",
       "      <td>0</td>\n",
       "      <td>10.0</td>\n",
       "      <td>Ingeniería en Informática</td>\n",
       "      <td>53.0</td>\n",
       "      <td>Regular</td>\n",
       "      <td>Pendiente</td>\n",
       "    </tr>\n",
       "    <tr>\n",
       "      <th>4</th>\n",
       "      <td>90928</td>\n",
       "      <td>ALVAREZ</td>\n",
       "      <td>NATALIA NAYLA</td>\n",
       "      <td>0</td>\n",
       "      <td>10.0</td>\n",
       "      <td>Ingeniería en Informática</td>\n",
       "      <td>93.0</td>\n",
       "      <td>Regular</td>\n",
       "      <td>Pendiente</td>\n",
       "    </tr>\n",
       "  </tbody>\n",
       "</table>\n",
       "</div>"
      ],
      "text/plain": [
       "   Legajo        Apellido             Nombre  Presentes  Cod. Carrera  \\\n",
       "0   99266  ALVAREZ ALONSO    FEDERICO MATIAS          0          10.0   \n",
       "1   99522   ALVAREZ JULIA           SANTIAGO          0          10.0   \n",
       "2   99373         ALVAREZ   FERNANDO GABRIEL          0          10.0   \n",
       "3   98359         ALVAREZ   GONZALO EZEQUIEL          0          10.0   \n",
       "4   90928         ALVAREZ      NATALIA NAYLA          0          10.0   \n",
       "\n",
       "                     Carrera  Prioridad Calidad Insc.     Estado  \n",
       "0  Ingeniería en Informática       28.0       Regular  Pendiente  \n",
       "1  Ingeniería en Informática       41.0       Regular  Pendiente  \n",
       "2  Ingeniería en Informática       55.0       Regular  Pendiente  \n",
       "3  Ingeniería en Informática       53.0       Regular  Pendiente  \n",
       "4  Ingeniería en Informática       93.0       Regular  Pendiente  "
      ]
     },
     "execution_count": 171,
     "metadata": {},
     "output_type": "execute_result"
    }
   ],
   "source": [
    "new_col_order = ['Legajo', 'Apellido', ' Nombre', 'Presentes', 'Cod. Carrera', 'Carrera', 'Prioridad', 'Calidad Insc.', 'Estado']\n",
    "\n",
    "Inscriptos2019_NewColOrder = Inscriptos2019[new_col_order]\n",
    "Inscriptos2019_NewColOrder.head()"
   ]
  },
  {
   "cell_type": "markdown",
   "metadata": {},
   "source": [
    "### DataFrame Attributes"
   ]
  },
  {
   "cell_type": "code",
   "execution_count": 172,
   "metadata": {},
   "outputs": [
    {
     "data": {
      "text/plain": [
       "(129, 9)"
      ]
     },
     "execution_count": 172,
     "metadata": {},
     "output_type": "execute_result"
    }
   ],
   "source": [
    "Inscriptos2019.shape"
   ]
  },
  {
   "cell_type": "code",
   "execution_count": 173,
   "metadata": {},
   "outputs": [
    {
     "data": {
      "text/plain": [
       "1161"
      ]
     },
     "execution_count": 173,
     "metadata": {},
     "output_type": "execute_result"
    }
   ],
   "source": [
    "Inscriptos2019.size"
   ]
  },
  {
   "cell_type": "code",
   "execution_count": 174,
   "metadata": {},
   "outputs": [
    {
     "data": {
      "text/plain": [
       "2"
      ]
     },
     "execution_count": 174,
     "metadata": {},
     "output_type": "execute_result"
    }
   ],
   "source": [
    "Inscriptos2019.ndim"
   ]
  },
  {
   "cell_type": "code",
   "execution_count": 175,
   "metadata": {},
   "outputs": [
    {
     "data": {
      "text/plain": [
       "129"
      ]
     },
     "execution_count": 175,
     "metadata": {},
     "output_type": "execute_result"
    }
   ],
   "source": [
    "len(Inscriptos2019)"
   ]
  },
  {
   "cell_type": "code",
   "execution_count": 176,
   "metadata": {},
   "outputs": [
    {
     "data": {
      "text/plain": [
       "Legajo           129\n",
       "Apellido         129\n",
       " Nombre          129\n",
       "Presentes        129\n",
       "Calidad Insc.    129\n",
       "Estado           129\n",
       "Cod. Carrera     127\n",
       "Carrera          127\n",
       "Prioridad        127\n",
       "dtype: int64"
      ]
     },
     "execution_count": 176,
     "metadata": {},
     "output_type": "execute_result"
    }
   ],
   "source": [
    "Inscriptos2019.count()"
   ]
  },
  {
   "cell_type": "code",
   "execution_count": 177,
   "metadata": {},
   "outputs": [
    {
     "data": {
      "text/plain": [
       "Legajo                      75890\n",
       "Apellido                  ALVAREZ\n",
       " Nombre           AGUSTIN GABRIEL\n",
       "Presentes                       0\n",
       "Calidad Insc.             Regular\n",
       "Estado                  Pendiente\n",
       "Cod. Carrera                    9\n",
       "Prioridad                       2\n",
       "dtype: object"
      ]
     },
     "execution_count": 177,
     "metadata": {},
     "output_type": "execute_result"
    }
   ],
   "source": [
    "Inscriptos2019.min()"
   ]
  },
  {
   "cell_type": "code",
   "execution_count": 179,
   "metadata": {},
   "outputs": [
    {
     "name": "stderr",
     "output_type": "stream",
     "text": [
      "C:\\ProgramData\\Anaconda3\\lib\\site-packages\\numpy\\core\\_methods.py:29: RuntimeWarning: invalid value encountered in reduce\n",
      "  return umr_minimum(a, axis, None, out, keepdims)\n"
     ]
    },
    {
     "data": {
      "text/plain": [
       "Legajo                      75890\n",
       "Apellido                  ALVAREZ\n",
       " Nombre           AGUSTIN GABRIEL\n",
       "Presentes                       0\n",
       "Calidad Insc.             Regular\n",
       "Estado                  Pendiente\n",
       "Cod. Carrera                  NaN\n",
       "Prioridad                     NaN\n",
       "dtype: object"
      ]
     },
     "execution_count": 179,
     "metadata": {},
     "output_type": "execute_result"
    }
   ],
   "source": [
    "Inscriptos2019.min(skipna=False)"
   ]
  },
  {
   "cell_type": "markdown",
   "metadata": {},
   "source": [
    "We could calculate the _mean()_ of all numeric columns by doing business.mean() but we have latitude and longitude, so we better eliminate them from the example and calculate it for __stars__ and __review_count only__"
   ]
  },
  {
   "cell_type": "code",
   "execution_count": 181,
   "metadata": {},
   "outputs": [
    {
     "data": {
      "text/plain": [
       "Legajo          96188.201550\n",
       "Presentes           0.000000\n",
       "Cod. Carrera        9.622047\n",
       "Prioridad          55.393701\n",
       "dtype: float64"
      ]
     },
     "execution_count": 181,
     "metadata": {},
     "output_type": "execute_result"
    }
   ],
   "source": [
    "Inscriptos2019.mean()"
   ]
  },
  {
   "cell_type": "code",
   "execution_count": 184,
   "metadata": {},
   "outputs": [
    {
     "data": {
      "text/plain": [
       "Presentes     0.000000\n",
       "Prioridad    55.393701\n",
       "dtype: float64"
      ]
     },
     "execution_count": 184,
     "metadata": {},
     "output_type": "execute_result"
    }
   ],
   "source": [
    "Inscriptos2019[['Presentes','Prioridad']].mean()"
   ]
  },
  {
   "cell_type": "markdown",
   "metadata": {},
   "source": [
    "Same as before, if we don't indicate anything, it will do it for __all numeric columns__, but we don´t want to do a describe of latitude and longitude columns..."
   ]
  },
  {
   "cell_type": "code",
   "execution_count": 185,
   "metadata": {},
   "outputs": [
    {
     "data": {
      "text/html": [
       "<div>\n",
       "<style scoped>\n",
       "    .dataframe tbody tr th:only-of-type {\n",
       "        vertical-align: middle;\n",
       "    }\n",
       "\n",
       "    .dataframe tbody tr th {\n",
       "        vertical-align: top;\n",
       "    }\n",
       "\n",
       "    .dataframe thead th {\n",
       "        text-align: right;\n",
       "    }\n",
       "</style>\n",
       "<table border=\"1\" class=\"dataframe\">\n",
       "  <thead>\n",
       "    <tr style=\"text-align: right;\">\n",
       "      <th></th>\n",
       "      <th>Presentes</th>\n",
       "      <th>Prioridad</th>\n",
       "    </tr>\n",
       "  </thead>\n",
       "  <tbody>\n",
       "    <tr>\n",
       "      <th>count</th>\n",
       "      <td>129.0</td>\n",
       "      <td>127.000000</td>\n",
       "    </tr>\n",
       "    <tr>\n",
       "      <th>mean</th>\n",
       "      <td>0.0</td>\n",
       "      <td>55.393701</td>\n",
       "    </tr>\n",
       "    <tr>\n",
       "      <th>std</th>\n",
       "      <td>0.0</td>\n",
       "      <td>29.871725</td>\n",
       "    </tr>\n",
       "    <tr>\n",
       "      <th>min</th>\n",
       "      <td>0.0</td>\n",
       "      <td>2.000000</td>\n",
       "    </tr>\n",
       "    <tr>\n",
       "      <th>25%</th>\n",
       "      <td>0.0</td>\n",
       "      <td>30.000000</td>\n",
       "    </tr>\n",
       "    <tr>\n",
       "      <th>50%</th>\n",
       "      <td>0.0</td>\n",
       "      <td>55.000000</td>\n",
       "    </tr>\n",
       "    <tr>\n",
       "      <th>75%</th>\n",
       "      <td>0.0</td>\n",
       "      <td>83.500000</td>\n",
       "    </tr>\n",
       "    <tr>\n",
       "      <th>max</th>\n",
       "      <td>0.0</td>\n",
       "      <td>106.000000</td>\n",
       "    </tr>\n",
       "  </tbody>\n",
       "</table>\n",
       "</div>"
      ],
      "text/plain": [
       "       Presentes   Prioridad\n",
       "count      129.0  127.000000\n",
       "mean         0.0   55.393701\n",
       "std          0.0   29.871725\n",
       "min          0.0    2.000000\n",
       "25%          0.0   30.000000\n",
       "50%          0.0   55.000000\n",
       "75%          0.0   83.500000\n",
       "max          0.0  106.000000"
      ]
     },
     "execution_count": 185,
     "metadata": {},
     "output_type": "execute_result"
    }
   ],
   "source": [
    "Inscriptos2019[['Presentes','Prioridad']].describe()"
   ]
  },
  {
   "cell_type": "code",
   "execution_count": 186,
   "metadata": {},
   "outputs": [
    {
     "data": {
      "text/html": [
       "<div>\n",
       "<style scoped>\n",
       "    .dataframe tbody tr th:only-of-type {\n",
       "        vertical-align: middle;\n",
       "    }\n",
       "\n",
       "    .dataframe tbody tr th {\n",
       "        vertical-align: top;\n",
       "    }\n",
       "\n",
       "    .dataframe thead th {\n",
       "        text-align: right;\n",
       "    }\n",
       "</style>\n",
       "<table border=\"1\" class=\"dataframe\">\n",
       "  <thead>\n",
       "    <tr style=\"text-align: right;\">\n",
       "      <th></th>\n",
       "      <th>Presentes</th>\n",
       "      <th>Prioridad</th>\n",
       "    </tr>\n",
       "  </thead>\n",
       "  <tbody>\n",
       "    <tr>\n",
       "      <th>count</th>\n",
       "      <td>129.0</td>\n",
       "      <td>127.000000</td>\n",
       "    </tr>\n",
       "    <tr>\n",
       "      <th>mean</th>\n",
       "      <td>0.0</td>\n",
       "      <td>55.393701</td>\n",
       "    </tr>\n",
       "    <tr>\n",
       "      <th>std</th>\n",
       "      <td>0.0</td>\n",
       "      <td>29.871725</td>\n",
       "    </tr>\n",
       "    <tr>\n",
       "      <th>min</th>\n",
       "      <td>0.0</td>\n",
       "      <td>2.000000</td>\n",
       "    </tr>\n",
       "    <tr>\n",
       "      <th>5%</th>\n",
       "      <td>0.0</td>\n",
       "      <td>9.000000</td>\n",
       "    </tr>\n",
       "    <tr>\n",
       "      <th>45%</th>\n",
       "      <td>0.0</td>\n",
       "      <td>49.100000</td>\n",
       "    </tr>\n",
       "    <tr>\n",
       "      <th>50%</th>\n",
       "      <td>0.0</td>\n",
       "      <td>55.000000</td>\n",
       "    </tr>\n",
       "    <tr>\n",
       "      <th>90%</th>\n",
       "      <td>0.0</td>\n",
       "      <td>97.000000</td>\n",
       "    </tr>\n",
       "    <tr>\n",
       "      <th>max</th>\n",
       "      <td>0.0</td>\n",
       "      <td>106.000000</td>\n",
       "    </tr>\n",
       "  </tbody>\n",
       "</table>\n",
       "</div>"
      ],
      "text/plain": [
       "       Presentes   Prioridad\n",
       "count      129.0  127.000000\n",
       "mean         0.0   55.393701\n",
       "std          0.0   29.871725\n",
       "min          0.0    2.000000\n",
       "5%           0.0    9.000000\n",
       "45%          0.0   49.100000\n",
       "50%          0.0   55.000000\n",
       "90%          0.0   97.000000\n",
       "max          0.0  106.000000"
      ]
     },
     "execution_count": 186,
     "metadata": {},
     "output_type": "execute_result"
    }
   ],
   "source": [
    "Inscriptos2019[['Presentes','Prioridad']].describe(percentiles=[.05, .45, .90])"
   ]
  },
  {
   "cell_type": "markdown",
   "metadata": {},
   "source": [
    "### Chaining Data Frame Methods"
   ]
  },
  {
   "cell_type": "code",
   "execution_count": 187,
   "metadata": {},
   "outputs": [
    {
     "data": {
      "text/html": [
       "<div>\n",
       "<style scoped>\n",
       "    .dataframe tbody tr th:only-of-type {\n",
       "        vertical-align: middle;\n",
       "    }\n",
       "\n",
       "    .dataframe tbody tr th {\n",
       "        vertical-align: top;\n",
       "    }\n",
       "\n",
       "    .dataframe thead th {\n",
       "        text-align: right;\n",
       "    }\n",
       "</style>\n",
       "<table border=\"1\" class=\"dataframe\">\n",
       "  <thead>\n",
       "    <tr style=\"text-align: right;\">\n",
       "      <th></th>\n",
       "      <th>Legajo</th>\n",
       "      <th>Apellido</th>\n",
       "      <th>Nombre</th>\n",
       "      <th>Presentes</th>\n",
       "      <th>Calidad Insc.</th>\n",
       "      <th>Estado</th>\n",
       "      <th>Cod. Carrera</th>\n",
       "      <th>Carrera</th>\n",
       "      <th>Prioridad</th>\n",
       "    </tr>\n",
       "  </thead>\n",
       "  <tbody>\n",
       "    <tr>\n",
       "      <th>0</th>\n",
       "      <td>False</td>\n",
       "      <td>False</td>\n",
       "      <td>False</td>\n",
       "      <td>False</td>\n",
       "      <td>False</td>\n",
       "      <td>False</td>\n",
       "      <td>False</td>\n",
       "      <td>False</td>\n",
       "      <td>False</td>\n",
       "    </tr>\n",
       "    <tr>\n",
       "      <th>1</th>\n",
       "      <td>False</td>\n",
       "      <td>False</td>\n",
       "      <td>False</td>\n",
       "      <td>False</td>\n",
       "      <td>False</td>\n",
       "      <td>False</td>\n",
       "      <td>False</td>\n",
       "      <td>False</td>\n",
       "      <td>False</td>\n",
       "    </tr>\n",
       "    <tr>\n",
       "      <th>2</th>\n",
       "      <td>False</td>\n",
       "      <td>False</td>\n",
       "      <td>False</td>\n",
       "      <td>False</td>\n",
       "      <td>False</td>\n",
       "      <td>False</td>\n",
       "      <td>False</td>\n",
       "      <td>False</td>\n",
       "      <td>False</td>\n",
       "    </tr>\n",
       "    <tr>\n",
       "      <th>3</th>\n",
       "      <td>False</td>\n",
       "      <td>False</td>\n",
       "      <td>False</td>\n",
       "      <td>False</td>\n",
       "      <td>False</td>\n",
       "      <td>False</td>\n",
       "      <td>False</td>\n",
       "      <td>False</td>\n",
       "      <td>False</td>\n",
       "    </tr>\n",
       "    <tr>\n",
       "      <th>4</th>\n",
       "      <td>False</td>\n",
       "      <td>False</td>\n",
       "      <td>False</td>\n",
       "      <td>False</td>\n",
       "      <td>False</td>\n",
       "      <td>False</td>\n",
       "      <td>False</td>\n",
       "      <td>False</td>\n",
       "      <td>False</td>\n",
       "    </tr>\n",
       "  </tbody>\n",
       "</table>\n",
       "</div>"
      ],
      "text/plain": [
       "   Legajo  Apellido   Nombre  Presentes  Calidad Insc.  Estado  Cod. Carrera  \\\n",
       "0   False     False    False      False          False   False         False   \n",
       "1   False     False    False      False          False   False         False   \n",
       "2   False     False    False      False          False   False         False   \n",
       "3   False     False    False      False          False   False         False   \n",
       "4   False     False    False      False          False   False         False   \n",
       "\n",
       "   Carrera  Prioridad  \n",
       "0    False      False  \n",
       "1    False      False  \n",
       "2    False      False  \n",
       "3    False      False  \n",
       "4    False      False  "
      ]
     },
     "execution_count": 187,
     "metadata": {},
     "output_type": "execute_result"
    }
   ],
   "source": [
    "# Let´s see if the values of a data frame are null. The isnull method returns a data frame with the same structure as the original one, but with bool values indicating if that specific value is null or not in the original data frame.\n",
    "Inscriptos2019.isnull().head()"
   ]
  },
  {
   "cell_type": "markdown",
   "metadata": {},
   "source": [
    "True/False values can be sum, and interpreted as 1/0s. Because of that, the following methods will return the number of nulls in each column.\n"
   ]
  },
  {
   "cell_type": "code",
   "execution_count": 189,
   "metadata": {},
   "outputs": [
    {
     "data": {
      "text/plain": [
       "Legajo           0\n",
       "Apellido         0\n",
       " Nombre          0\n",
       "Presentes        0\n",
       "Calidad Insc.    0\n",
       "Estado           0\n",
       "Cod. Carrera     2\n",
       "Carrera          2\n",
       "Prioridad        2\n",
       "dtype: int64"
      ]
     },
     "execution_count": 189,
     "metadata": {},
     "output_type": "execute_result"
    }
   ],
   "source": [
    "Inscriptos2019.isnull().sum()"
   ]
  },
  {
   "cell_type": "markdown",
   "metadata": {},
   "source": [
    "If we do count, we can see it gives the opposite result, the number of values that are not null in each column:\n"
   ]
  },
  {
   "cell_type": "code",
   "execution_count": 190,
   "metadata": {},
   "outputs": [
    {
     "data": {
      "text/plain": [
       "Legajo           129\n",
       "Apellido         129\n",
       " Nombre          129\n",
       "Presentes        129\n",
       "Calidad Insc.    129\n",
       "Estado           129\n",
       "Cod. Carrera     127\n",
       "Carrera          127\n",
       "Prioridad        127\n",
       "dtype: int64"
      ]
     },
     "execution_count": 190,
     "metadata": {},
     "output_type": "execute_result"
    }
   ],
   "source": [
    "Inscriptos2019.count()"
   ]
  },
  {
   "cell_type": "markdown",
   "metadata": {},
   "source": [
    "If we want to sum the sum result, we will be adding the elements in a series, and returning a number with the total number of nulls in the data frame:\n"
   ]
  },
  {
   "cell_type": "code",
   "execution_count": 191,
   "metadata": {},
   "outputs": [
    {
     "data": {
      "text/plain": [
       "6"
      ]
     },
     "execution_count": 191,
     "metadata": {},
     "output_type": "execute_result"
    }
   ],
   "source": [
    "Inscriptos2019.isnull().sum().sum()"
   ]
  },
  {
   "cell_type": "markdown",
   "metadata": {},
   "source": [
    "With the following sequence, we can see if there is any null value in the data frame (if we don´t need to know the exact number)\n"
   ]
  },
  {
   "cell_type": "code",
   "execution_count": 192,
   "metadata": {},
   "outputs": [
    {
     "data": {
      "text/plain": [
       "True"
      ]
     },
     "execution_count": 192,
     "metadata": {},
     "output_type": "execute_result"
    }
   ],
   "source": [
    "Inscriptos2019.isnull().any().any()"
   ]
  },
  {
   "cell_type": "code",
   "execution_count": 193,
   "metadata": {},
   "outputs": [
    {
     "data": {
      "text/plain": [
       "Legajo                      75890\n",
       "Apellido                  ALVAREZ\n",
       " Nombre           AGUSTIN GABRIEL\n",
       "Presentes                       0\n",
       "Calidad Insc.             Regular\n",
       "Estado                  Pendiente\n",
       "Cod. Carrera                    9\n",
       "Prioridad                       2\n",
       "dtype: object"
      ]
     },
     "execution_count": 193,
     "metadata": {},
     "output_type": "execute_result"
    }
   ],
   "source": [
    "Inscriptos2019.min()"
   ]
  },
  {
   "cell_type": "code",
   "execution_count": 194,
   "metadata": {},
   "outputs": [
    {
     "data": {
      "text/plain": [
       "Legajo          75890.0\n",
       "Presentes           0.0\n",
       "Cod. Carrera        0.0\n",
       "Prioridad           0.0\n",
       "dtype: float64"
      ]
     },
     "execution_count": 194,
     "metadata": {},
     "output_type": "execute_result"
    }
   ],
   "source": [
    "Inscriptos2019.select_dtypes(['number']).fillna(0).min()"
   ]
  },
  {
   "cell_type": "markdown",
   "metadata": {},
   "source": [
    "### Comparing missing values"
   ]
  },
  {
   "cell_type": "code",
   "execution_count": 195,
   "metadata": {},
   "outputs": [
    {
     "data": {
      "text/plain": [
       "False"
      ]
     },
     "execution_count": 195,
     "metadata": {},
     "output_type": "execute_result"
    }
   ],
   "source": [
    "np.nan == np.nan"
   ]
  },
  {
   "cell_type": "code",
   "execution_count": 196,
   "metadata": {},
   "outputs": [
    {
     "data": {
      "text/plain": [
       "True"
      ]
     },
     "execution_count": 196,
     "metadata": {},
     "output_type": "execute_result"
    }
   ],
   "source": [
    "None == None"
   ]
  },
  {
   "cell_type": "code",
   "execution_count": 197,
   "metadata": {},
   "outputs": [
    {
     "data": {
      "text/plain": [
       "False"
      ]
     },
     "execution_count": 197,
     "metadata": {},
     "output_type": "execute_result"
    }
   ],
   "source": [
    "np.nan > 10"
   ]
  },
  {
   "cell_type": "code",
   "execution_count": 198,
   "metadata": {},
   "outputs": [
    {
     "data": {
      "text/plain": [
       "False"
      ]
     },
     "execution_count": 198,
     "metadata": {},
     "output_type": "execute_result"
    }
   ],
   "source": [
    "np.nan < 10"
   ]
  },
  {
   "cell_type": "code",
   "execution_count": 199,
   "metadata": {},
   "outputs": [
    {
     "data": {
      "text/plain": [
       "True"
      ]
     },
     "execution_count": 199,
     "metadata": {},
     "output_type": "execute_result"
    }
   ],
   "source": [
    "np.nan != 10"
   ]
  },
  {
   "cell_type": "markdown",
   "metadata": {},
   "source": [
    "### We saw Nan values will not match equal to any value. Because of this behaviour, the correct way to compare two data frames is using the equals method and not the == operator"
   ]
  },
  {
   "cell_type": "code",
   "execution_count": 304,
   "metadata": {},
   "outputs": [
    {
     "data": {
      "text/plain": [
       "0    True\n",
       "1    True\n",
       "2    True\n",
       "3    True\n",
       "4    True\n",
       "Name: Prioridad, dtype: bool"
      ]
     },
     "execution_count": 304,
     "metadata": {},
     "output_type": "execute_result"
    }
   ],
   "source": [
    "(Inscriptos2019['Prioridad'] == Inscriptos2019['Prioridad']).head()"
   ]
  },
  {
   "cell_type": "code",
   "execution_count": 202,
   "metadata": {},
   "outputs": [
    {
     "data": {
      "text/plain": [
       "True"
      ]
     },
     "execution_count": 202,
     "metadata": {},
     "output_type": "execute_result"
    }
   ],
   "source": [
    "Inscriptos2019['Prioridad'].equals(Inscriptos2019['Prioridad'])"
   ]
  },
  {
   "cell_type": "code",
   "execution_count": 203,
   "metadata": {},
   "outputs": [],
   "source": [
    "from pandas.testing import assert_frame_equal\n",
    "assert_frame_equal(Inscriptos2019,Inscriptos2019)"
   ]
  },
  {
   "cell_type": "markdown",
   "metadata": {},
   "source": [
    "### Beginning Data Analysis\n",
    "\n",
    "#### In order to analyze the data, we need to develop a frame where we will start with certain basic operations:\n",
    "\n",
    "* Exploratory Data Analysis\n",
    "* Developing a data analysis routine \n",
    "* Reducing memory by changing data types \n",
    "* Selecting the smallest of the largest \n",
    "* Selecting the largest of each group by sorting \n",
    "* Replicating nlargest with sort_values \n",
    "* Calculating a trailing stop order price\n"
   ]
  },
  {
   "cell_type": "markdown",
   "metadata": {},
   "source": [
    "Start by obtaining basic summary information of the dataframe:"
   ]
  },
  {
   "cell_type": "code",
   "execution_count": 204,
   "metadata": {},
   "outputs": [
    {
     "data": {
      "text/html": [
       "<div>\n",
       "<style scoped>\n",
       "    .dataframe tbody tr th:only-of-type {\n",
       "        vertical-align: middle;\n",
       "    }\n",
       "\n",
       "    .dataframe tbody tr th {\n",
       "        vertical-align: top;\n",
       "    }\n",
       "\n",
       "    .dataframe thead th {\n",
       "        text-align: right;\n",
       "    }\n",
       "</style>\n",
       "<table border=\"1\" class=\"dataframe\">\n",
       "  <thead>\n",
       "    <tr style=\"text-align: right;\">\n",
       "      <th></th>\n",
       "      <th>Legajo</th>\n",
       "      <th>Apellido</th>\n",
       "      <th>Nombre</th>\n",
       "      <th>Presentes</th>\n",
       "      <th>Calidad Insc.</th>\n",
       "      <th>Estado</th>\n",
       "      <th>Cod. Carrera</th>\n",
       "      <th>Carrera</th>\n",
       "      <th>Prioridad</th>\n",
       "    </tr>\n",
       "  </thead>\n",
       "  <tbody>\n",
       "    <tr>\n",
       "      <th>0</th>\n",
       "      <td>99266</td>\n",
       "      <td>ALVAREZ ALONSO</td>\n",
       "      <td>FEDERICO MATIAS</td>\n",
       "      <td>0</td>\n",
       "      <td>Regular</td>\n",
       "      <td>Pendiente</td>\n",
       "      <td>10.0</td>\n",
       "      <td>Ingeniería en Informática</td>\n",
       "      <td>28.0</td>\n",
       "    </tr>\n",
       "    <tr>\n",
       "      <th>1</th>\n",
       "      <td>99522</td>\n",
       "      <td>ALVAREZ JULIA</td>\n",
       "      <td>SANTIAGO</td>\n",
       "      <td>0</td>\n",
       "      <td>Regular</td>\n",
       "      <td>Pendiente</td>\n",
       "      <td>10.0</td>\n",
       "      <td>Ingeniería en Informática</td>\n",
       "      <td>41.0</td>\n",
       "    </tr>\n",
       "    <tr>\n",
       "      <th>2</th>\n",
       "      <td>99373</td>\n",
       "      <td>ALVAREZ</td>\n",
       "      <td>FERNANDO GABRIEL</td>\n",
       "      <td>0</td>\n",
       "      <td>Regular</td>\n",
       "      <td>Pendiente</td>\n",
       "      <td>10.0</td>\n",
       "      <td>Ingeniería en Informática</td>\n",
       "      <td>55.0</td>\n",
       "    </tr>\n",
       "    <tr>\n",
       "      <th>3</th>\n",
       "      <td>98359</td>\n",
       "      <td>ALVAREZ</td>\n",
       "      <td>GONZALO EZEQUIEL</td>\n",
       "      <td>0</td>\n",
       "      <td>Regular</td>\n",
       "      <td>Pendiente</td>\n",
       "      <td>10.0</td>\n",
       "      <td>Ingeniería en Informática</td>\n",
       "      <td>53.0</td>\n",
       "    </tr>\n",
       "    <tr>\n",
       "      <th>4</th>\n",
       "      <td>90928</td>\n",
       "      <td>ALVAREZ</td>\n",
       "      <td>NATALIA NAYLA</td>\n",
       "      <td>0</td>\n",
       "      <td>Regular</td>\n",
       "      <td>Pendiente</td>\n",
       "      <td>10.0</td>\n",
       "      <td>Ingeniería en Informática</td>\n",
       "      <td>93.0</td>\n",
       "    </tr>\n",
       "  </tbody>\n",
       "</table>\n",
       "</div>"
      ],
      "text/plain": [
       "   Legajo        Apellido             Nombre  Presentes Calidad Insc.  \\\n",
       "0   99266  ALVAREZ ALONSO    FEDERICO MATIAS          0       Regular   \n",
       "1   99522   ALVAREZ JULIA           SANTIAGO          0       Regular   \n",
       "2   99373         ALVAREZ   FERNANDO GABRIEL          0       Regular   \n",
       "3   98359         ALVAREZ   GONZALO EZEQUIEL          0       Regular   \n",
       "4   90928         ALVAREZ      NATALIA NAYLA          0       Regular   \n",
       "\n",
       "      Estado  Cod. Carrera                    Carrera  Prioridad  \n",
       "0  Pendiente          10.0  Ingeniería en Informática       28.0  \n",
       "1  Pendiente          10.0  Ingeniería en Informática       41.0  \n",
       "2  Pendiente          10.0  Ingeniería en Informática       55.0  \n",
       "3  Pendiente          10.0  Ingeniería en Informática       53.0  \n",
       "4  Pendiente          10.0  Ingeniería en Informática       93.0  "
      ]
     },
     "execution_count": 204,
     "metadata": {},
     "output_type": "execute_result"
    }
   ],
   "source": [
    "Inscriptos2019.head()"
   ]
  },
  {
   "cell_type": "code",
   "execution_count": 205,
   "metadata": {},
   "outputs": [
    {
     "data": {
      "text/plain": [
       "(129, 9)"
      ]
     },
     "execution_count": 205,
     "metadata": {},
     "output_type": "execute_result"
    }
   ],
   "source": [
    "Inscriptos2019.shape"
   ]
  },
  {
   "cell_type": "code",
   "execution_count": 206,
   "metadata": {},
   "outputs": [
    {
     "name": "stdout",
     "output_type": "stream",
     "text": [
      "<class 'pandas.core.frame.DataFrame'>\n",
      "RangeIndex: 129 entries, 0 to 128\n",
      "Data columns (total 9 columns):\n",
      "Legajo           129 non-null int64\n",
      "Apellido         129 non-null object\n",
      " Nombre          129 non-null object\n",
      "Presentes        129 non-null int64\n",
      "Calidad Insc.    129 non-null object\n",
      "Estado           129 non-null object\n",
      "Cod. Carrera     127 non-null float64\n",
      "Carrera          127 non-null object\n",
      "Prioridad        127 non-null float64\n",
      "dtypes: float64(2), int64(2), object(5)\n",
      "memory usage: 9.1+ KB\n"
     ]
    }
   ],
   "source": [
    "Inscriptos2019.info()"
   ]
  },
  {
   "cell_type": "code",
   "execution_count": 208,
   "metadata": {},
   "outputs": [
    {
     "data": {
      "text/html": [
       "<div>\n",
       "<style scoped>\n",
       "    .dataframe tbody tr th:only-of-type {\n",
       "        vertical-align: middle;\n",
       "    }\n",
       "\n",
       "    .dataframe tbody tr th {\n",
       "        vertical-align: top;\n",
       "    }\n",
       "\n",
       "    .dataframe thead th {\n",
       "        text-align: right;\n",
       "    }\n",
       "</style>\n",
       "<table border=\"1\" class=\"dataframe\">\n",
       "  <thead>\n",
       "    <tr style=\"text-align: right;\">\n",
       "      <th></th>\n",
       "      <th>Legajo</th>\n",
       "      <th>Presentes</th>\n",
       "      <th>Cod. Carrera</th>\n",
       "      <th>Prioridad</th>\n",
       "    </tr>\n",
       "  </thead>\n",
       "  <tbody>\n",
       "    <tr>\n",
       "      <th>count</th>\n",
       "      <td>129.000000</td>\n",
       "      <td>129.0</td>\n",
       "      <td>127.000000</td>\n",
       "      <td>127.000000</td>\n",
       "    </tr>\n",
       "    <tr>\n",
       "      <th>mean</th>\n",
       "      <td>96188.201550</td>\n",
       "      <td>0.0</td>\n",
       "      <td>9.622047</td>\n",
       "      <td>55.393701</td>\n",
       "    </tr>\n",
       "    <tr>\n",
       "      <th>std</th>\n",
       "      <td>5713.493296</td>\n",
       "      <td>0.0</td>\n",
       "      <td>0.486796</td>\n",
       "      <td>29.871725</td>\n",
       "    </tr>\n",
       "    <tr>\n",
       "      <th>min</th>\n",
       "      <td>75890.000000</td>\n",
       "      <td>0.0</td>\n",
       "      <td>9.000000</td>\n",
       "      <td>2.000000</td>\n",
       "    </tr>\n",
       "    <tr>\n",
       "      <th>25%</th>\n",
       "      <td>93738.000000</td>\n",
       "      <td>0.0</td>\n",
       "      <td>9.000000</td>\n",
       "      <td>30.000000</td>\n",
       "    </tr>\n",
       "    <tr>\n",
       "      <th>50%</th>\n",
       "      <td>98230.000000</td>\n",
       "      <td>0.0</td>\n",
       "      <td>10.000000</td>\n",
       "      <td>55.000000</td>\n",
       "    </tr>\n",
       "    <tr>\n",
       "      <th>75%</th>\n",
       "      <td>100327.000000</td>\n",
       "      <td>0.0</td>\n",
       "      <td>10.000000</td>\n",
       "      <td>83.500000</td>\n",
       "    </tr>\n",
       "    <tr>\n",
       "      <th>max</th>\n",
       "      <td>103118.000000</td>\n",
       "      <td>0.0</td>\n",
       "      <td>10.000000</td>\n",
       "      <td>106.000000</td>\n",
       "    </tr>\n",
       "  </tbody>\n",
       "</table>\n",
       "</div>"
      ],
      "text/plain": [
       "              Legajo  Presentes  Cod. Carrera   Prioridad\n",
       "count     129.000000      129.0    127.000000  127.000000\n",
       "mean    96188.201550        0.0      9.622047   55.393701\n",
       "std      5713.493296        0.0      0.486796   29.871725\n",
       "min     75890.000000        0.0      9.000000    2.000000\n",
       "25%     93738.000000        0.0      9.000000   30.000000\n",
       "50%     98230.000000        0.0     10.000000   55.000000\n",
       "75%    100327.000000        0.0     10.000000   83.500000\n",
       "max    103118.000000        0.0     10.000000  106.000000"
      ]
     },
     "execution_count": 208,
     "metadata": {},
     "output_type": "execute_result"
    }
   ],
   "source": [
    "Inscriptos2019.describe()"
   ]
  },
  {
   "cell_type": "code",
   "execution_count": 209,
   "metadata": {},
   "outputs": [
    {
     "data": {
      "text/html": [
       "<div>\n",
       "<style scoped>\n",
       "    .dataframe tbody tr th:only-of-type {\n",
       "        vertical-align: middle;\n",
       "    }\n",
       "\n",
       "    .dataframe tbody tr th {\n",
       "        vertical-align: top;\n",
       "    }\n",
       "\n",
       "    .dataframe thead th {\n",
       "        text-align: right;\n",
       "    }\n",
       "</style>\n",
       "<table border=\"1\" class=\"dataframe\">\n",
       "  <thead>\n",
       "    <tr style=\"text-align: right;\">\n",
       "      <th></th>\n",
       "      <th>Legajo</th>\n",
       "      <th>Presentes</th>\n",
       "    </tr>\n",
       "  </thead>\n",
       "  <tbody>\n",
       "    <tr>\n",
       "      <th>count</th>\n",
       "      <td>129.000000</td>\n",
       "      <td>129.0</td>\n",
       "    </tr>\n",
       "    <tr>\n",
       "      <th>mean</th>\n",
       "      <td>96188.201550</td>\n",
       "      <td>0.0</td>\n",
       "    </tr>\n",
       "    <tr>\n",
       "      <th>std</th>\n",
       "      <td>5713.493296</td>\n",
       "      <td>0.0</td>\n",
       "    </tr>\n",
       "    <tr>\n",
       "      <th>min</th>\n",
       "      <td>75890.000000</td>\n",
       "      <td>0.0</td>\n",
       "    </tr>\n",
       "    <tr>\n",
       "      <th>25%</th>\n",
       "      <td>93738.000000</td>\n",
       "      <td>0.0</td>\n",
       "    </tr>\n",
       "    <tr>\n",
       "      <th>50%</th>\n",
       "      <td>98230.000000</td>\n",
       "      <td>0.0</td>\n",
       "    </tr>\n",
       "    <tr>\n",
       "      <th>75%</th>\n",
       "      <td>100327.000000</td>\n",
       "      <td>0.0</td>\n",
       "    </tr>\n",
       "    <tr>\n",
       "      <th>max</th>\n",
       "      <td>103118.000000</td>\n",
       "      <td>0.0</td>\n",
       "    </tr>\n",
       "  </tbody>\n",
       "</table>\n",
       "</div>"
      ],
      "text/plain": [
       "              Legajo  Presentes\n",
       "count     129.000000      129.0\n",
       "mean    96188.201550        0.0\n",
       "std      5713.493296        0.0\n",
       "min     75890.000000        0.0\n",
       "25%     93738.000000        0.0\n",
       "50%     98230.000000        0.0\n",
       "75%    100327.000000        0.0\n",
       "max    103118.000000        0.0"
      ]
     },
     "execution_count": 209,
     "metadata": {},
     "output_type": "execute_result"
    }
   ],
   "source": [
    "Inscriptos2019.describe(include=np.int64)"
   ]
  },
  {
   "cell_type": "code",
   "execution_count": 210,
   "metadata": {},
   "outputs": [
    {
     "data": {
      "text/html": [
       "<div>\n",
       "<style scoped>\n",
       "    .dataframe tbody tr th:only-of-type {\n",
       "        vertical-align: middle;\n",
       "    }\n",
       "\n",
       "    .dataframe tbody tr th {\n",
       "        vertical-align: top;\n",
       "    }\n",
       "\n",
       "    .dataframe thead th {\n",
       "        text-align: right;\n",
       "    }\n",
       "</style>\n",
       "<table border=\"1\" class=\"dataframe\">\n",
       "  <thead>\n",
       "    <tr style=\"text-align: right;\">\n",
       "      <th></th>\n",
       "      <th>count</th>\n",
       "      <th>mean</th>\n",
       "      <th>std</th>\n",
       "      <th>min</th>\n",
       "      <th>1%</th>\n",
       "      <th>5%</th>\n",
       "      <th>15%</th>\n",
       "      <th>25%</th>\n",
       "      <th>45%</th>\n",
       "      <th>50%</th>\n",
       "      <th>65%</th>\n",
       "      <th>75%</th>\n",
       "      <th>95%</th>\n",
       "      <th>max</th>\n",
       "    </tr>\n",
       "  </thead>\n",
       "  <tbody>\n",
       "    <tr>\n",
       "      <th>Legajo</th>\n",
       "      <td>129.0</td>\n",
       "      <td>96188.20155</td>\n",
       "      <td>5713.493296</td>\n",
       "      <td>75890.0</td>\n",
       "      <td>79041.56</td>\n",
       "      <td>83791.8</td>\n",
       "      <td>90446.8</td>\n",
       "      <td>93738.0</td>\n",
       "      <td>97531.8</td>\n",
       "      <td>98230.0</td>\n",
       "      <td>99449.0</td>\n",
       "      <td>100327.0</td>\n",
       "      <td>101936.6</td>\n",
       "      <td>103118.0</td>\n",
       "    </tr>\n",
       "    <tr>\n",
       "      <th>Presentes</th>\n",
       "      <td>129.0</td>\n",
       "      <td>0.00000</td>\n",
       "      <td>0.000000</td>\n",
       "      <td>0.0</td>\n",
       "      <td>0.00</td>\n",
       "      <td>0.0</td>\n",
       "      <td>0.0</td>\n",
       "      <td>0.0</td>\n",
       "      <td>0.0</td>\n",
       "      <td>0.0</td>\n",
       "      <td>0.0</td>\n",
       "      <td>0.0</td>\n",
       "      <td>0.0</td>\n",
       "      <td>0.0</td>\n",
       "    </tr>\n",
       "  </tbody>\n",
       "</table>\n",
       "</div>"
      ],
      "text/plain": [
       "           count         mean          std      min        1%       5%  \\\n",
       "Legajo     129.0  96188.20155  5713.493296  75890.0  79041.56  83791.8   \n",
       "Presentes  129.0      0.00000     0.000000      0.0      0.00      0.0   \n",
       "\n",
       "               15%      25%      45%      50%      65%       75%       95%  \\\n",
       "Legajo     90446.8  93738.0  97531.8  98230.0  99449.0  100327.0  101936.6   \n",
       "Presentes      0.0      0.0      0.0      0.0      0.0       0.0       0.0   \n",
       "\n",
       "                max  \n",
       "Legajo     103118.0  \n",
       "Presentes       0.0  "
      ]
     },
     "execution_count": 210,
     "metadata": {},
     "output_type": "execute_result"
    }
   ],
   "source": [
    "Inscriptos2019.describe(include=np.int64, percentiles=[.01,.05,.15,.25,.45,.65,.75,.95]).T"
   ]
  },
  {
   "cell_type": "markdown",
   "metadata": {},
   "source": [
    "### Understanding (and reducing) memory usage"
   ]
  },
  {
   "cell_type": "code",
   "execution_count": 211,
   "metadata": {},
   "outputs": [
    {
     "data": {
      "text/plain": [
       "Index               80\n",
       "Legajo            1032\n",
       "Apellido          8552\n",
       " Nombre           9444\n",
       "Presentes         1032\n",
       "Calidad Insc.     8256\n",
       "Estado            8514\n",
       "Cod. Carrera      1032\n",
       "Carrera          14054\n",
       "Prioridad         1032\n",
       "dtype: int64"
      ]
     },
     "execution_count": 211,
     "metadata": {},
     "output_type": "execute_result"
    }
   ],
   "source": [
    "Inscriptos2019.memory_usage(deep=True)"
   ]
  },
  {
   "cell_type": "code",
   "execution_count": 214,
   "metadata": {},
   "outputs": [],
   "source": [
    "Inscriptos2019['Presentes']=Inscriptos2019['Presentes'].astype(np.int8)"
   ]
  },
  {
   "cell_type": "code",
   "execution_count": 216,
   "metadata": {},
   "outputs": [],
   "source": [
    "Inscriptos2019['Prioridad']=Inscriptos2019['Prioridad'].astype(np.float32)"
   ]
  },
  {
   "cell_type": "code",
   "execution_count": 217,
   "metadata": {},
   "outputs": [
    {
     "data": {
      "text/plain": [
       "Index               80\n",
       "Legajo            1032\n",
       "Apellido          8552\n",
       " Nombre           9444\n",
       "Presentes          129\n",
       "Calidad Insc.     8256\n",
       "Estado            8514\n",
       "Cod. Carrera      1032\n",
       "Carrera          14054\n",
       "Prioridad          516\n",
       "dtype: int64"
      ]
     },
     "execution_count": 217,
     "metadata": {},
     "output_type": "execute_result"
    }
   ],
   "source": [
    "Inscriptos2019.memory_usage(deep=True)"
   ]
  },
  {
   "cell_type": "markdown",
   "metadata": {},
   "source": [
    "Other thing to review is the number of unique values each column has:\n"
   ]
  },
  {
   "cell_type": "code",
   "execution_count": 218,
   "metadata": {},
   "outputs": [
    {
     "data": {
      "text/plain": [
       "Legajo           129\n",
       "Apellido         126\n",
       " Nombre          121\n",
       "Presentes          1\n",
       "Calidad Insc.      1\n",
       "Estado             1\n",
       "Cod. Carrera       2\n",
       "Carrera            2\n",
       "Prioridad         69\n",
       "dtype: int64"
      ]
     },
     "execution_count": 218,
     "metadata": {},
     "output_type": "execute_result"
    }
   ],
   "source": [
    "Inscriptos2019.nunique()"
   ]
  },
  {
   "cell_type": "code",
   "execution_count": 219,
   "metadata": {},
   "outputs": [],
   "source": [
    "Inscriptos2019['Cod. Carrera']=Inscriptos2019['Cod. Carrera'].astype('category')"
   ]
  },
  {
   "cell_type": "code",
   "execution_count": 220,
   "metadata": {},
   "outputs": [],
   "source": [
    "Inscriptos2019['Carrera']=Inscriptos2019['Carrera'].astype('category')"
   ]
  },
  {
   "cell_type": "code",
   "execution_count": 221,
   "metadata": {},
   "outputs": [
    {
     "data": {
      "text/plain": [
       "Index              80\n",
       "Legajo           1032\n",
       "Apellido         8599\n",
       " Nombre          9711\n",
       "Presentes         129\n",
       "Calidad Insc.    8256\n",
       "Estado           8514\n",
       "Cod. Carrera      225\n",
       "Carrera           432\n",
       "Prioridad         516\n",
       "dtype: int64"
      ]
     },
     "execution_count": 221,
     "metadata": {},
     "output_type": "execute_result"
    }
   ],
   "source": [
    "Inscriptos2019.memory_usage(deep=True)"
   ]
  },
  {
   "cell_type": "code",
   "execution_count": 223,
   "metadata": {},
   "outputs": [
    {
     "data": {
      "text/plain": [
       "Legajo              int64\n",
       "Apellido           object\n",
       " Nombre            object\n",
       "Presentes            int8\n",
       "Calidad Insc.      object\n",
       "Estado             object\n",
       "Cod. Carrera     category\n",
       "Carrera          category\n",
       "Prioridad         float32\n",
       "dtype: object"
      ]
     },
     "execution_count": 223,
     "metadata": {},
     "output_type": "execute_result"
    }
   ],
   "source": [
    "Inscriptos2019.dtypes"
   ]
  },
  {
   "cell_type": "markdown",
   "metadata": {},
   "source": [
    "### Selecting the smallest of the largest\n",
    "#### Using nlargest y nsmallest methods"
   ]
  },
  {
   "cell_type": "code",
   "execution_count": 305,
   "metadata": {},
   "outputs": [
    {
     "data": {
      "text/html": [
       "<div>\n",
       "<style scoped>\n",
       "    .dataframe tbody tr th:only-of-type {\n",
       "        vertical-align: middle;\n",
       "    }\n",
       "\n",
       "    .dataframe tbody tr th {\n",
       "        vertical-align: top;\n",
       "    }\n",
       "\n",
       "    .dataframe thead th {\n",
       "        text-align: right;\n",
       "    }\n",
       "</style>\n",
       "<table border=\"1\" class=\"dataframe\">\n",
       "  <thead>\n",
       "    <tr style=\"text-align: right;\">\n",
       "      <th></th>\n",
       "      <th>Legajo</th>\n",
       "      <th>Apellido</th>\n",
       "      <th>Nombre</th>\n",
       "      <th>Prioridad</th>\n",
       "    </tr>\n",
       "  </thead>\n",
       "  <tbody>\n",
       "    <tr>\n",
       "      <th>0</th>\n",
       "      <td>99266</td>\n",
       "      <td>ALVAREZ ALONSO</td>\n",
       "      <td>FEDERICO MATIAS</td>\n",
       "      <td>28.0</td>\n",
       "    </tr>\n",
       "    <tr>\n",
       "      <th>1</th>\n",
       "      <td>99522</td>\n",
       "      <td>ALVAREZ JULIA</td>\n",
       "      <td>SANTIAGO</td>\n",
       "      <td>41.0</td>\n",
       "    </tr>\n",
       "    <tr>\n",
       "      <th>2</th>\n",
       "      <td>99373</td>\n",
       "      <td>ALVAREZ</td>\n",
       "      <td>FERNANDO GABRIEL</td>\n",
       "      <td>55.0</td>\n",
       "    </tr>\n",
       "    <tr>\n",
       "      <th>3</th>\n",
       "      <td>98359</td>\n",
       "      <td>ALVAREZ</td>\n",
       "      <td>GONZALO EZEQUIEL</td>\n",
       "      <td>53.0</td>\n",
       "    </tr>\n",
       "    <tr>\n",
       "      <th>4</th>\n",
       "      <td>90928</td>\n",
       "      <td>ALVAREZ</td>\n",
       "      <td>NATALIA NAYLA</td>\n",
       "      <td>93.0</td>\n",
       "    </tr>\n",
       "  </tbody>\n",
       "</table>\n",
       "</div>"
      ],
      "text/plain": [
       "   Legajo        Apellido             Nombre  Prioridad\n",
       "0   99266  ALVAREZ ALONSO    FEDERICO MATIAS       28.0\n",
       "1   99522   ALVAREZ JULIA           SANTIAGO       41.0\n",
       "2   99373         ALVAREZ   FERNANDO GABRIEL       55.0\n",
       "3   98359         ALVAREZ   GONZALO EZEQUIEL       53.0\n",
       "4   90928         ALVAREZ      NATALIA NAYLA       93.0"
      ]
     },
     "execution_count": 305,
     "metadata": {},
     "output_type": "execute_result"
    }
   ],
   "source": [
    "Inscriptos2019_Reduced = Inscriptos2019[['Legajo','Apellido',' Nombre','Prioridad']]\n",
    "Inscriptos2019_Reduced.head()"
   ]
  },
  {
   "cell_type": "code",
   "execution_count": 225,
   "metadata": {},
   "outputs": [
    {
     "data": {
      "text/html": [
       "<div>\n",
       "<style scoped>\n",
       "    .dataframe tbody tr th:only-of-type {\n",
       "        vertical-align: middle;\n",
       "    }\n",
       "\n",
       "    .dataframe tbody tr th {\n",
       "        vertical-align: top;\n",
       "    }\n",
       "\n",
       "    .dataframe thead th {\n",
       "        text-align: right;\n",
       "    }\n",
       "</style>\n",
       "<table border=\"1\" class=\"dataframe\">\n",
       "  <thead>\n",
       "    <tr style=\"text-align: right;\">\n",
       "      <th></th>\n",
       "      <th>Legajo</th>\n",
       "      <th>Apellido</th>\n",
       "      <th>Nombre</th>\n",
       "      <th>Prioridad</th>\n",
       "    </tr>\n",
       "  </thead>\n",
       "  <tbody>\n",
       "    <tr>\n",
       "      <th>76</th>\n",
       "      <td>75890</td>\n",
       "      <td>MAGRI</td>\n",
       "      <td>DARIO MAXIMILIANO</td>\n",
       "      <td>106.0</td>\n",
       "    </tr>\n",
       "    <tr>\n",
       "      <th>16</th>\n",
       "      <td>97190</td>\n",
       "      <td>BRAGANTINI</td>\n",
       "      <td>FRANCO JULIAN</td>\n",
       "      <td>105.0</td>\n",
       "    </tr>\n",
       "    <tr>\n",
       "      <th>47</th>\n",
       "      <td>87039</td>\n",
       "      <td>FLORES SOSA</td>\n",
       "      <td>ZORAIDA YURICO</td>\n",
       "      <td>105.0</td>\n",
       "    </tr>\n",
       "    <tr>\n",
       "      <th>97</th>\n",
       "      <td>94254</td>\n",
       "      <td>PEYRANO</td>\n",
       "      <td>DIEGO JAVIER</td>\n",
       "      <td>105.0</td>\n",
       "    </tr>\n",
       "    <tr>\n",
       "      <th>27</th>\n",
       "      <td>93738</td>\n",
       "      <td>CHOQUE CARMONA</td>\n",
       "      <td>LUIS ALBERTO</td>\n",
       "      <td>103.0</td>\n",
       "    </tr>\n",
       "  </tbody>\n",
       "</table>\n",
       "</div>"
      ],
      "text/plain": [
       "    Legajo        Apellido              Nombre  Prioridad\n",
       "76   75890           MAGRI   DARIO MAXIMILIANO      106.0\n",
       "16   97190      BRAGANTINI       FRANCO JULIAN      105.0\n",
       "47   87039     FLORES SOSA      ZORAIDA YURICO      105.0\n",
       "97   94254         PEYRANO        DIEGO JAVIER      105.0\n",
       "27   93738  CHOQUE CARMONA        LUIS ALBERTO      103.0"
      ]
     },
     "execution_count": 225,
     "metadata": {},
     "output_type": "execute_result"
    }
   ],
   "source": [
    "Inscriptos2019_Reduced.nlargest(10,'Prioridad').head()"
   ]
  },
  {
   "cell_type": "code",
   "execution_count": 226,
   "metadata": {},
   "outputs": [
    {
     "data": {
      "text/html": [
       "<div>\n",
       "<style scoped>\n",
       "    .dataframe tbody tr th:only-of-type {\n",
       "        vertical-align: middle;\n",
       "    }\n",
       "\n",
       "    .dataframe tbody tr th {\n",
       "        vertical-align: top;\n",
       "    }\n",
       "\n",
       "    .dataframe thead th {\n",
       "        text-align: right;\n",
       "    }\n",
       "</style>\n",
       "<table border=\"1\" class=\"dataframe\">\n",
       "  <thead>\n",
       "    <tr style=\"text-align: right;\">\n",
       "      <th></th>\n",
       "      <th>Legajo</th>\n",
       "      <th>Apellido</th>\n",
       "      <th>Nombre</th>\n",
       "      <th>Prioridad</th>\n",
       "    </tr>\n",
       "  </thead>\n",
       "  <tbody>\n",
       "    <tr>\n",
       "      <th>69</th>\n",
       "      <td>98432</td>\n",
       "      <td>LA PENNA</td>\n",
       "      <td>MARIANO</td>\n",
       "      <td>2.0</td>\n",
       "    </tr>\n",
       "    <tr>\n",
       "      <th>67</th>\n",
       "      <td>100596</td>\n",
       "      <td>KLER</td>\n",
       "      <td>ALEJANDRO SEBASTIAN</td>\n",
       "      <td>4.0</td>\n",
       "    </tr>\n",
       "    <tr>\n",
       "      <th>60</th>\n",
       "      <td>79979</td>\n",
       "      <td>GONZALEZ</td>\n",
       "      <td>JUAN MANUEL</td>\n",
       "      <td>5.0</td>\n",
       "    </tr>\n",
       "    <tr>\n",
       "      <th>19</th>\n",
       "      <td>89603</td>\n",
       "      <td>BUSTAMANTE</td>\n",
       "      <td>JORGE TOMAS</td>\n",
       "      <td>6.0</td>\n",
       "    </tr>\n",
       "    <tr>\n",
       "      <th>29</th>\n",
       "      <td>94181</td>\n",
       "      <td>COLQUE PARIHUANCOLLO</td>\n",
       "      <td>MICHAEL ARNOLD</td>\n",
       "      <td>9.0</td>\n",
       "    </tr>\n",
       "  </tbody>\n",
       "</table>\n",
       "</div>"
      ],
      "text/plain": [
       "    Legajo              Apellido                Nombre  Prioridad\n",
       "69   98432              LA PENNA               MARIANO        2.0\n",
       "67  100596                  KLER   ALEJANDRO SEBASTIAN        4.0\n",
       "60   79979              GONZALEZ           JUAN MANUEL        5.0\n",
       "19   89603            BUSTAMANTE           JORGE TOMAS        6.0\n",
       "29   94181  COLQUE PARIHUANCOLLO        MICHAEL ARNOLD        9.0"
      ]
     },
     "execution_count": 226,
     "metadata": {},
     "output_type": "execute_result"
    }
   ],
   "source": [
    "Inscriptos2019_Reduced.nsmallest(10,'Prioridad').head()"
   ]
  },
  {
   "cell_type": "code",
   "execution_count": 306,
   "metadata": {},
   "outputs": [
    {
     "data": {
      "text/html": [
       "<div>\n",
       "<style scoped>\n",
       "    .dataframe tbody tr th:only-of-type {\n",
       "        vertical-align: middle;\n",
       "    }\n",
       "\n",
       "    .dataframe tbody tr th {\n",
       "        vertical-align: top;\n",
       "    }\n",
       "\n",
       "    .dataframe thead th {\n",
       "        text-align: right;\n",
       "    }\n",
       "</style>\n",
       "<table border=\"1\" class=\"dataframe\">\n",
       "  <thead>\n",
       "    <tr style=\"text-align: right;\">\n",
       "      <th></th>\n",
       "      <th>Legajo</th>\n",
       "      <th>Apellido</th>\n",
       "      <th>Nombre</th>\n",
       "      <th>Prioridad</th>\n",
       "    </tr>\n",
       "  </thead>\n",
       "  <tbody>\n",
       "    <tr>\n",
       "      <th>76</th>\n",
       "      <td>75890</td>\n",
       "      <td>MAGRI</td>\n",
       "      <td>DARIO MAXIMILIANO</td>\n",
       "      <td>106.0</td>\n",
       "    </tr>\n",
       "    <tr>\n",
       "      <th>47</th>\n",
       "      <td>87039</td>\n",
       "      <td>FLORES SOSA</td>\n",
       "      <td>ZORAIDA YURICO</td>\n",
       "      <td>105.0</td>\n",
       "    </tr>\n",
       "    <tr>\n",
       "      <th>16</th>\n",
       "      <td>97190</td>\n",
       "      <td>BRAGANTINI</td>\n",
       "      <td>FRANCO JULIAN</td>\n",
       "      <td>105.0</td>\n",
       "    </tr>\n",
       "    <tr>\n",
       "      <th>97</th>\n",
       "      <td>94254</td>\n",
       "      <td>PEYRANO</td>\n",
       "      <td>DIEGO JAVIER</td>\n",
       "      <td>105.0</td>\n",
       "    </tr>\n",
       "    <tr>\n",
       "      <th>27</th>\n",
       "      <td>93738</td>\n",
       "      <td>CHOQUE CARMONA</td>\n",
       "      <td>LUIS ALBERTO</td>\n",
       "      <td>103.0</td>\n",
       "    </tr>\n",
       "  </tbody>\n",
       "</table>\n",
       "</div>"
      ],
      "text/plain": [
       "    Legajo        Apellido              Nombre  Prioridad\n",
       "76   75890           MAGRI   DARIO MAXIMILIANO      106.0\n",
       "47   87039     FLORES SOSA      ZORAIDA YURICO      105.0\n",
       "16   97190      BRAGANTINI       FRANCO JULIAN      105.0\n",
       "97   94254         PEYRANO        DIEGO JAVIER      105.0\n",
       "27   93738  CHOQUE CARMONA        LUIS ALBERTO      103.0"
      ]
     },
     "execution_count": 306,
     "metadata": {},
     "output_type": "execute_result"
    }
   ],
   "source": [
    "Inscriptos2019_Reduced.sort_values('Prioridad',ascending=False).head()"
   ]
  },
  {
   "cell_type": "code",
   "execution_count": 307,
   "metadata": {},
   "outputs": [
    {
     "data": {
      "text/html": [
       "<div>\n",
       "<style scoped>\n",
       "    .dataframe tbody tr th:only-of-type {\n",
       "        vertical-align: middle;\n",
       "    }\n",
       "\n",
       "    .dataframe tbody tr th {\n",
       "        vertical-align: top;\n",
       "    }\n",
       "\n",
       "    .dataframe thead th {\n",
       "        text-align: right;\n",
       "    }\n",
       "</style>\n",
       "<table border=\"1\" class=\"dataframe\">\n",
       "  <thead>\n",
       "    <tr style=\"text-align: right;\">\n",
       "      <th></th>\n",
       "      <th>Legajo</th>\n",
       "      <th>Apellido</th>\n",
       "      <th>Nombre</th>\n",
       "      <th>Prioridad</th>\n",
       "    </tr>\n",
       "  </thead>\n",
       "  <tbody>\n",
       "    <tr>\n",
       "      <th>69</th>\n",
       "      <td>98432</td>\n",
       "      <td>LA PENNA</td>\n",
       "      <td>MARIANO</td>\n",
       "      <td>2.0</td>\n",
       "    </tr>\n",
       "    <tr>\n",
       "      <th>67</th>\n",
       "      <td>100596</td>\n",
       "      <td>KLER</td>\n",
       "      <td>ALEJANDRO SEBASTIAN</td>\n",
       "      <td>4.0</td>\n",
       "    </tr>\n",
       "    <tr>\n",
       "      <th>60</th>\n",
       "      <td>79979</td>\n",
       "      <td>GONZALEZ</td>\n",
       "      <td>JUAN MANUEL</td>\n",
       "      <td>5.0</td>\n",
       "    </tr>\n",
       "    <tr>\n",
       "      <th>19</th>\n",
       "      <td>89603</td>\n",
       "      <td>BUSTAMANTE</td>\n",
       "      <td>JORGE TOMAS</td>\n",
       "      <td>6.0</td>\n",
       "    </tr>\n",
       "    <tr>\n",
       "      <th>108</th>\n",
       "      <td>98535</td>\n",
       "      <td>ROSAS</td>\n",
       "      <td>MARTIN ALEJANDRO</td>\n",
       "      <td>9.0</td>\n",
       "    </tr>\n",
       "  </tbody>\n",
       "</table>\n",
       "</div>"
      ],
      "text/plain": [
       "     Legajo    Apellido                Nombre  Prioridad\n",
       "69    98432    LA PENNA               MARIANO        2.0\n",
       "67   100596        KLER   ALEJANDRO SEBASTIAN        4.0\n",
       "60    79979    GONZALEZ           JUAN MANUEL        5.0\n",
       "19    89603  BUSTAMANTE           JORGE TOMAS        6.0\n",
       "108   98535       ROSAS      MARTIN ALEJANDRO        9.0"
      ]
     },
     "execution_count": 307,
     "metadata": {},
     "output_type": "execute_result"
    }
   ],
   "source": [
    "Inscriptos2019_Reduced.sort_values('Prioridad').head()"
   ]
  },
  {
   "cell_type": "markdown",
   "metadata": {},
   "source": [
    "### Selecting subsets of data\n",
    "\n",
    "* Selecting Series data \n",
    "* Selecting DataFrame rows \n",
    "* Selecting DataFrame rows and columns simultaneously \n",
    "* Selecting data with both integers and labels \n",
    "* Speeding up scalar selection \n",
    "* Slicing rows lazily Slicing lexicographically"
   ]
  },
  {
   "cell_type": "code",
   "execution_count": 229,
   "metadata": {},
   "outputs": [
    {
     "data": {
      "text/html": [
       "<div>\n",
       "<style scoped>\n",
       "    .dataframe tbody tr th:only-of-type {\n",
       "        vertical-align: middle;\n",
       "    }\n",
       "\n",
       "    .dataframe tbody tr th {\n",
       "        vertical-align: top;\n",
       "    }\n",
       "\n",
       "    .dataframe thead th {\n",
       "        text-align: right;\n",
       "    }\n",
       "</style>\n",
       "<table border=\"1\" class=\"dataframe\">\n",
       "  <thead>\n",
       "    <tr style=\"text-align: right;\">\n",
       "      <th></th>\n",
       "      <th>Legajo</th>\n",
       "      <th>Apellido</th>\n",
       "      <th>Nombre</th>\n",
       "      <th>Presentes</th>\n",
       "      <th>Calidad Insc.</th>\n",
       "      <th>Estado</th>\n",
       "      <th>Cod. Carrera</th>\n",
       "      <th>Carrera</th>\n",
       "      <th>Prioridad</th>\n",
       "    </tr>\n",
       "  </thead>\n",
       "  <tbody>\n",
       "    <tr>\n",
       "      <th>0</th>\n",
       "      <td>99266</td>\n",
       "      <td>ALVAREZ ALONSO</td>\n",
       "      <td>FEDERICO MATIAS</td>\n",
       "      <td>0</td>\n",
       "      <td>Regular</td>\n",
       "      <td>Pendiente</td>\n",
       "      <td>10.0</td>\n",
       "      <td>Ingeniería en Informática</td>\n",
       "      <td>28.0</td>\n",
       "    </tr>\n",
       "    <tr>\n",
       "      <th>1</th>\n",
       "      <td>99522</td>\n",
       "      <td>ALVAREZ JULIA</td>\n",
       "      <td>SANTIAGO</td>\n",
       "      <td>0</td>\n",
       "      <td>Regular</td>\n",
       "      <td>Pendiente</td>\n",
       "      <td>10.0</td>\n",
       "      <td>Ingeniería en Informática</td>\n",
       "      <td>41.0</td>\n",
       "    </tr>\n",
       "    <tr>\n",
       "      <th>2</th>\n",
       "      <td>99373</td>\n",
       "      <td>ALVAREZ</td>\n",
       "      <td>FERNANDO GABRIEL</td>\n",
       "      <td>0</td>\n",
       "      <td>Regular</td>\n",
       "      <td>Pendiente</td>\n",
       "      <td>10.0</td>\n",
       "      <td>Ingeniería en Informática</td>\n",
       "      <td>55.0</td>\n",
       "    </tr>\n",
       "    <tr>\n",
       "      <th>3</th>\n",
       "      <td>98359</td>\n",
       "      <td>ALVAREZ</td>\n",
       "      <td>GONZALO EZEQUIEL</td>\n",
       "      <td>0</td>\n",
       "      <td>Regular</td>\n",
       "      <td>Pendiente</td>\n",
       "      <td>10.0</td>\n",
       "      <td>Ingeniería en Informática</td>\n",
       "      <td>53.0</td>\n",
       "    </tr>\n",
       "    <tr>\n",
       "      <th>4</th>\n",
       "      <td>90928</td>\n",
       "      <td>ALVAREZ</td>\n",
       "      <td>NATALIA NAYLA</td>\n",
       "      <td>0</td>\n",
       "      <td>Regular</td>\n",
       "      <td>Pendiente</td>\n",
       "      <td>10.0</td>\n",
       "      <td>Ingeniería en Informática</td>\n",
       "      <td>93.0</td>\n",
       "    </tr>\n",
       "  </tbody>\n",
       "</table>\n",
       "</div>"
      ],
      "text/plain": [
       "   Legajo        Apellido             Nombre  Presentes Calidad Insc.  \\\n",
       "0   99266  ALVAREZ ALONSO    FEDERICO MATIAS          0       Regular   \n",
       "1   99522   ALVAREZ JULIA           SANTIAGO          0       Regular   \n",
       "2   99373         ALVAREZ   FERNANDO GABRIEL          0       Regular   \n",
       "3   98359         ALVAREZ   GONZALO EZEQUIEL          0       Regular   \n",
       "4   90928         ALVAREZ      NATALIA NAYLA          0       Regular   \n",
       "\n",
       "      Estado Cod. Carrera                    Carrera  Prioridad  \n",
       "0  Pendiente         10.0  Ingeniería en Informática       28.0  \n",
       "1  Pendiente         10.0  Ingeniería en Informática       41.0  \n",
       "2  Pendiente         10.0  Ingeniería en Informática       55.0  \n",
       "3  Pendiente         10.0  Ingeniería en Informática       53.0  \n",
       "4  Pendiente         10.0  Ingeniería en Informática       93.0  "
      ]
     },
     "execution_count": 229,
     "metadata": {},
     "output_type": "execute_result"
    }
   ],
   "source": [
    "Inscriptos2019.head()"
   ]
  },
  {
   "cell_type": "code",
   "execution_count": 230,
   "metadata": {},
   "outputs": [
    {
     "data": {
      "text/plain": [
       "Legajo                               98359\n",
       "Apellido                           ALVAREZ\n",
       " Nombre                   GONZALO EZEQUIEL\n",
       "Presentes                                0\n",
       "Calidad Insc.                      Regular\n",
       "Estado                           Pendiente\n",
       "Cod. Carrera                            10\n",
       "Carrera          Ingeniería en Informática\n",
       "Prioridad                               53\n",
       "Name: 3, dtype: object"
      ]
     },
     "execution_count": 230,
     "metadata": {},
     "output_type": "execute_result"
    }
   ],
   "source": [
    "Inscriptos2019.iloc[3]"
   ]
  },
  {
   "cell_type": "code",
   "execution_count": 231,
   "metadata": {},
   "outputs": [
    {
     "data": {
      "text/html": [
       "<div>\n",
       "<style scoped>\n",
       "    .dataframe tbody tr th:only-of-type {\n",
       "        vertical-align: middle;\n",
       "    }\n",
       "\n",
       "    .dataframe tbody tr th {\n",
       "        vertical-align: top;\n",
       "    }\n",
       "\n",
       "    .dataframe thead th {\n",
       "        text-align: right;\n",
       "    }\n",
       "</style>\n",
       "<table border=\"1\" class=\"dataframe\">\n",
       "  <thead>\n",
       "    <tr style=\"text-align: right;\">\n",
       "      <th></th>\n",
       "      <th>Legajo</th>\n",
       "      <th>Apellido</th>\n",
       "      <th>Nombre</th>\n",
       "      <th>Presentes</th>\n",
       "      <th>Calidad Insc.</th>\n",
       "      <th>Estado</th>\n",
       "      <th>Cod. Carrera</th>\n",
       "      <th>Carrera</th>\n",
       "      <th>Prioridad</th>\n",
       "    </tr>\n",
       "  </thead>\n",
       "  <tbody>\n",
       "    <tr>\n",
       "      <th>0</th>\n",
       "      <td>99266</td>\n",
       "      <td>ALVAREZ ALONSO</td>\n",
       "      <td>FEDERICO MATIAS</td>\n",
       "      <td>0</td>\n",
       "      <td>Regular</td>\n",
       "      <td>Pendiente</td>\n",
       "      <td>10.0</td>\n",
       "      <td>Ingeniería en Informática</td>\n",
       "      <td>28.0</td>\n",
       "    </tr>\n",
       "    <tr>\n",
       "      <th>1</th>\n",
       "      <td>99522</td>\n",
       "      <td>ALVAREZ JULIA</td>\n",
       "      <td>SANTIAGO</td>\n",
       "      <td>0</td>\n",
       "      <td>Regular</td>\n",
       "      <td>Pendiente</td>\n",
       "      <td>10.0</td>\n",
       "      <td>Ingeniería en Informática</td>\n",
       "      <td>41.0</td>\n",
       "    </tr>\n",
       "    <tr>\n",
       "      <th>2</th>\n",
       "      <td>99373</td>\n",
       "      <td>ALVAREZ</td>\n",
       "      <td>FERNANDO GABRIEL</td>\n",
       "      <td>0</td>\n",
       "      <td>Regular</td>\n",
       "      <td>Pendiente</td>\n",
       "      <td>10.0</td>\n",
       "      <td>Ingeniería en Informática</td>\n",
       "      <td>55.0</td>\n",
       "    </tr>\n",
       "    <tr>\n",
       "      <th>3</th>\n",
       "      <td>98359</td>\n",
       "      <td>ALVAREZ</td>\n",
       "      <td>GONZALO EZEQUIEL</td>\n",
       "      <td>0</td>\n",
       "      <td>Regular</td>\n",
       "      <td>Pendiente</td>\n",
       "      <td>10.0</td>\n",
       "      <td>Ingeniería en Informática</td>\n",
       "      <td>53.0</td>\n",
       "    </tr>\n",
       "    <tr>\n",
       "      <th>4</th>\n",
       "      <td>90928</td>\n",
       "      <td>ALVAREZ</td>\n",
       "      <td>NATALIA NAYLA</td>\n",
       "      <td>0</td>\n",
       "      <td>Regular</td>\n",
       "      <td>Pendiente</td>\n",
       "      <td>10.0</td>\n",
       "      <td>Ingeniería en Informática</td>\n",
       "      <td>93.0</td>\n",
       "    </tr>\n",
       "    <tr>\n",
       "      <th>5</th>\n",
       "      <td>93584</td>\n",
       "      <td>AMURRIO</td>\n",
       "      <td>GASTÓN LEONARDO</td>\n",
       "      <td>0</td>\n",
       "      <td>Regular</td>\n",
       "      <td>Pendiente</td>\n",
       "      <td>9.0</td>\n",
       "      <td>Licenciatura en Análisis de Sistemas</td>\n",
       "      <td>85.0</td>\n",
       "    </tr>\n",
       "  </tbody>\n",
       "</table>\n",
       "</div>"
      ],
      "text/plain": [
       "   Legajo        Apellido             Nombre  Presentes Calidad Insc.  \\\n",
       "0   99266  ALVAREZ ALONSO    FEDERICO MATIAS          0       Regular   \n",
       "1   99522   ALVAREZ JULIA           SANTIAGO          0       Regular   \n",
       "2   99373         ALVAREZ   FERNANDO GABRIEL          0       Regular   \n",
       "3   98359         ALVAREZ   GONZALO EZEQUIEL          0       Regular   \n",
       "4   90928         ALVAREZ      NATALIA NAYLA          0       Regular   \n",
       "5   93584         AMURRIO    GASTÓN LEONARDO          0       Regular   \n",
       "\n",
       "      Estado Cod. Carrera                               Carrera  Prioridad  \n",
       "0  Pendiente         10.0             Ingeniería en Informática       28.0  \n",
       "1  Pendiente         10.0             Ingeniería en Informática       41.0  \n",
       "2  Pendiente         10.0             Ingeniería en Informática       55.0  \n",
       "3  Pendiente         10.0             Ingeniería en Informática       53.0  \n",
       "4  Pendiente         10.0             Ingeniería en Informática       93.0  \n",
       "5  Pendiente          9.0  Licenciatura en Análisis de Sistemas       85.0  "
      ]
     },
     "execution_count": 231,
     "metadata": {},
     "output_type": "execute_result"
    }
   ],
   "source": [
    "Inscriptos2019.iloc[0:6]"
   ]
  },
  {
   "cell_type": "code",
   "execution_count": 232,
   "metadata": {},
   "outputs": [
    {
     "data": {
      "text/html": [
       "<div>\n",
       "<style scoped>\n",
       "    .dataframe tbody tr th:only-of-type {\n",
       "        vertical-align: middle;\n",
       "    }\n",
       "\n",
       "    .dataframe tbody tr th {\n",
       "        vertical-align: top;\n",
       "    }\n",
       "\n",
       "    .dataframe thead th {\n",
       "        text-align: right;\n",
       "    }\n",
       "</style>\n",
       "<table border=\"1\" class=\"dataframe\">\n",
       "  <thead>\n",
       "    <tr style=\"text-align: right;\">\n",
       "      <th></th>\n",
       "      <th>Legajo</th>\n",
       "      <th>Apellido</th>\n",
       "      <th>Nombre</th>\n",
       "      <th>Presentes</th>\n",
       "      <th>Calidad Insc.</th>\n",
       "      <th>Estado</th>\n",
       "      <th>Cod. Carrera</th>\n",
       "      <th>Carrera</th>\n",
       "      <th>Prioridad</th>\n",
       "    </tr>\n",
       "  </thead>\n",
       "  <tbody>\n",
       "    <tr>\n",
       "      <th>3</th>\n",
       "      <td>98359</td>\n",
       "      <td>ALVAREZ</td>\n",
       "      <td>GONZALO EZEQUIEL</td>\n",
       "      <td>0</td>\n",
       "      <td>Regular</td>\n",
       "      <td>Pendiente</td>\n",
       "      <td>10.0</td>\n",
       "      <td>Ingeniería en Informática</td>\n",
       "      <td>53.0</td>\n",
       "    </tr>\n",
       "    <tr>\n",
       "      <th>4</th>\n",
       "      <td>90928</td>\n",
       "      <td>ALVAREZ</td>\n",
       "      <td>NATALIA NAYLA</td>\n",
       "      <td>0</td>\n",
       "      <td>Regular</td>\n",
       "      <td>Pendiente</td>\n",
       "      <td>10.0</td>\n",
       "      <td>Ingeniería en Informática</td>\n",
       "      <td>93.0</td>\n",
       "    </tr>\n",
       "    <tr>\n",
       "      <th>5</th>\n",
       "      <td>93584</td>\n",
       "      <td>AMURRIO</td>\n",
       "      <td>GASTÓN LEONARDO</td>\n",
       "      <td>0</td>\n",
       "      <td>Regular</td>\n",
       "      <td>Pendiente</td>\n",
       "      <td>9.0</td>\n",
       "      <td>Licenciatura en Análisis de Sistemas</td>\n",
       "      <td>85.0</td>\n",
       "    </tr>\n",
       "  </tbody>\n",
       "</table>\n",
       "</div>"
      ],
      "text/plain": [
       "   Legajo Apellido             Nombre  Presentes Calidad Insc.     Estado  \\\n",
       "3   98359  ALVAREZ   GONZALO EZEQUIEL          0       Regular  Pendiente   \n",
       "4   90928  ALVAREZ      NATALIA NAYLA          0       Regular  Pendiente   \n",
       "5   93584  AMURRIO    GASTÓN LEONARDO          0       Regular  Pendiente   \n",
       "\n",
       "  Cod. Carrera                               Carrera  Prioridad  \n",
       "3         10.0             Ingeniería en Informática       53.0  \n",
       "4         10.0             Ingeniería en Informática       93.0  \n",
       "5          9.0  Licenciatura en Análisis de Sistemas       85.0  "
      ]
     },
     "execution_count": 232,
     "metadata": {},
     "output_type": "execute_result"
    }
   ],
   "source": [
    "Inscriptos2019.iloc[3:6]"
   ]
  },
  {
   "cell_type": "code",
   "execution_count": 233,
   "metadata": {},
   "outputs": [
    {
     "data": {
      "text/html": [
       "<div>\n",
       "<style scoped>\n",
       "    .dataframe tbody tr th:only-of-type {\n",
       "        vertical-align: middle;\n",
       "    }\n",
       "\n",
       "    .dataframe tbody tr th {\n",
       "        vertical-align: top;\n",
       "    }\n",
       "\n",
       "    .dataframe thead th {\n",
       "        text-align: right;\n",
       "    }\n",
       "</style>\n",
       "<table border=\"1\" class=\"dataframe\">\n",
       "  <thead>\n",
       "    <tr style=\"text-align: right;\">\n",
       "      <th></th>\n",
       "      <th>Legajo</th>\n",
       "      <th>Apellido</th>\n",
       "      <th>Nombre</th>\n",
       "      <th>Presentes</th>\n",
       "      <th>Calidad Insc.</th>\n",
       "      <th>Estado</th>\n",
       "      <th>Cod. Carrera</th>\n",
       "      <th>Carrera</th>\n",
       "      <th>Prioridad</th>\n",
       "    </tr>\n",
       "  </thead>\n",
       "  <tbody>\n",
       "    <tr>\n",
       "      <th>10</th>\n",
       "      <td>99402</td>\n",
       "      <td>BATISTA</td>\n",
       "      <td>GONZALO</td>\n",
       "      <td>0</td>\n",
       "      <td>Regular</td>\n",
       "      <td>Pendiente</td>\n",
       "      <td>9.0</td>\n",
       "      <td>Licenciatura en Análisis de Sistemas</td>\n",
       "      <td>53.0</td>\n",
       "    </tr>\n",
       "    <tr>\n",
       "      <th>12</th>\n",
       "      <td>101135</td>\n",
       "      <td>BEROCH</td>\n",
       "      <td>SANTIAGO</td>\n",
       "      <td>0</td>\n",
       "      <td>Regular</td>\n",
       "      <td>Pendiente</td>\n",
       "      <td>10.0</td>\n",
       "      <td>Ingeniería en Informática</td>\n",
       "      <td>39.0</td>\n",
       "    </tr>\n",
       "    <tr>\n",
       "      <th>14</th>\n",
       "      <td>101076</td>\n",
       "      <td>BONFIL</td>\n",
       "      <td>LUCAS JAVIER</td>\n",
       "      <td>0</td>\n",
       "      <td>Regular</td>\n",
       "      <td>Pendiente</td>\n",
       "      <td>9.0</td>\n",
       "      <td>Licenciatura en Análisis de Sistemas</td>\n",
       "      <td>47.0</td>\n",
       "    </tr>\n",
       "    <tr>\n",
       "      <th>16</th>\n",
       "      <td>97190</td>\n",
       "      <td>BRAGANTINI</td>\n",
       "      <td>FRANCO JULIAN</td>\n",
       "      <td>0</td>\n",
       "      <td>Regular</td>\n",
       "      <td>Pendiente</td>\n",
       "      <td>10.0</td>\n",
       "      <td>Ingeniería en Informática</td>\n",
       "      <td>105.0</td>\n",
       "    </tr>\n",
       "    <tr>\n",
       "      <th>18</th>\n",
       "      <td>101694</td>\n",
       "      <td>BUGLIOT</td>\n",
       "      <td>NICOLAS</td>\n",
       "      <td>0</td>\n",
       "      <td>Regular</td>\n",
       "      <td>Pendiente</td>\n",
       "      <td>9.0</td>\n",
       "      <td>Licenciatura en Análisis de Sistemas</td>\n",
       "      <td>60.0</td>\n",
       "    </tr>\n",
       "  </tbody>\n",
       "</table>\n",
       "</div>"
      ],
      "text/plain": [
       "    Legajo    Apellido          Nombre  Presentes Calidad Insc.     Estado  \\\n",
       "10   99402     BATISTA         GONZALO          0       Regular  Pendiente   \n",
       "12  101135      BEROCH        SANTIAGO          0       Regular  Pendiente   \n",
       "14  101076      BONFIL    LUCAS JAVIER          0       Regular  Pendiente   \n",
       "16   97190  BRAGANTINI   FRANCO JULIAN          0       Regular  Pendiente   \n",
       "18  101694     BUGLIOT         NICOLAS          0       Regular  Pendiente   \n",
       "\n",
       "   Cod. Carrera                               Carrera  Prioridad  \n",
       "10          9.0  Licenciatura en Análisis de Sistemas       53.0  \n",
       "12         10.0             Ingeniería en Informática       39.0  \n",
       "14          9.0  Licenciatura en Análisis de Sistemas       47.0  \n",
       "16         10.0             Ingeniería en Informática      105.0  \n",
       "18          9.0  Licenciatura en Análisis de Sistemas       60.0  "
      ]
     },
     "execution_count": 233,
     "metadata": {},
     "output_type": "execute_result"
    }
   ],
   "source": [
    "Inscriptos2019.iloc[10:20:2]"
   ]
  },
  {
   "cell_type": "code",
   "execution_count": 235,
   "metadata": {},
   "outputs": [
    {
     "data": {
      "text/plain": [
       "Legajo                               98359\n",
       "Apellido                           ALVAREZ\n",
       " Nombre                   GONZALO EZEQUIEL\n",
       "Presentes                                0\n",
       "Calidad Insc.                      Regular\n",
       "Estado                           Pendiente\n",
       "Cod. Carrera                            10\n",
       "Carrera          Ingeniería en Informática\n",
       "Prioridad                               53\n",
       "Name: 3, dtype: object"
      ]
     },
     "execution_count": 235,
     "metadata": {},
     "output_type": "execute_result"
    }
   ],
   "source": [
    "Inscriptos2019.loc[3]"
   ]
  },
  {
   "cell_type": "code",
   "execution_count": 237,
   "metadata": {},
   "outputs": [
    {
     "data": {
      "text/html": [
       "<div>\n",
       "<style scoped>\n",
       "    .dataframe tbody tr th:only-of-type {\n",
       "        vertical-align: middle;\n",
       "    }\n",
       "\n",
       "    .dataframe tbody tr th {\n",
       "        vertical-align: top;\n",
       "    }\n",
       "\n",
       "    .dataframe thead th {\n",
       "        text-align: right;\n",
       "    }\n",
       "</style>\n",
       "<table border=\"1\" class=\"dataframe\">\n",
       "  <thead>\n",
       "    <tr style=\"text-align: right;\">\n",
       "      <th></th>\n",
       "      <th>Legajo</th>\n",
       "      <th>Apellido</th>\n",
       "      <th>Nombre</th>\n",
       "      <th>Presentes</th>\n",
       "      <th>Calidad Insc.</th>\n",
       "      <th>Estado</th>\n",
       "      <th>Cod. Carrera</th>\n",
       "      <th>Carrera</th>\n",
       "      <th>Prioridad</th>\n",
       "    </tr>\n",
       "  </thead>\n",
       "  <tbody>\n",
       "    <tr>\n",
       "      <th>3</th>\n",
       "      <td>98359</td>\n",
       "      <td>ALVAREZ</td>\n",
       "      <td>GONZALO EZEQUIEL</td>\n",
       "      <td>0</td>\n",
       "      <td>Regular</td>\n",
       "      <td>Pendiente</td>\n",
       "      <td>10.0</td>\n",
       "      <td>Ingeniería en Informática</td>\n",
       "      <td>53.0</td>\n",
       "    </tr>\n",
       "    <tr>\n",
       "      <th>5</th>\n",
       "      <td>93584</td>\n",
       "      <td>AMURRIO</td>\n",
       "      <td>GASTÓN LEONARDO</td>\n",
       "      <td>0</td>\n",
       "      <td>Regular</td>\n",
       "      <td>Pendiente</td>\n",
       "      <td>9.0</td>\n",
       "      <td>Licenciatura en Análisis de Sistemas</td>\n",
       "      <td>85.0</td>\n",
       "    </tr>\n",
       "  </tbody>\n",
       "</table>\n",
       "</div>"
      ],
      "text/plain": [
       "   Legajo Apellido             Nombre  Presentes Calidad Insc.     Estado  \\\n",
       "3   98359  ALVAREZ   GONZALO EZEQUIEL          0       Regular  Pendiente   \n",
       "5   93584  AMURRIO    GASTÓN LEONARDO          0       Regular  Pendiente   \n",
       "\n",
       "  Cod. Carrera                               Carrera  Prioridad  \n",
       "3         10.0             Ingeniería en Informática       53.0  \n",
       "5          9.0  Licenciatura en Análisis de Sistemas       85.0  "
      ]
     },
     "execution_count": 237,
     "metadata": {},
     "output_type": "execute_result"
    }
   ],
   "source": [
    "Inscriptos2019.loc[[3,5]]"
   ]
  },
  {
   "cell_type": "markdown",
   "metadata": {},
   "source": [
    "### Selecting Data Frame Columns and Rows simultaneously\n",
    "\n",
    "#### _loc_ and _iloc_ allows us to do it"
   ]
  },
  {
   "cell_type": "code",
   "execution_count": 239,
   "metadata": {},
   "outputs": [
    {
     "data": {
      "text/plain": [
       "' SANTIAGO'"
      ]
     },
     "execution_count": 239,
     "metadata": {},
     "output_type": "execute_result"
    }
   ],
   "source": [
    "Inscriptos2019.iloc[1,2]"
   ]
  },
  {
   "cell_type": "code",
   "execution_count": 240,
   "metadata": {},
   "outputs": [
    {
     "data": {
      "text/html": [
       "<div>\n",
       "<style scoped>\n",
       "    .dataframe tbody tr th:only-of-type {\n",
       "        vertical-align: middle;\n",
       "    }\n",
       "\n",
       "    .dataframe tbody tr th {\n",
       "        vertical-align: top;\n",
       "    }\n",
       "\n",
       "    .dataframe thead th {\n",
       "        text-align: right;\n",
       "    }\n",
       "</style>\n",
       "<table border=\"1\" class=\"dataframe\">\n",
       "  <thead>\n",
       "    <tr style=\"text-align: right;\">\n",
       "      <th></th>\n",
       "      <th>Legajo</th>\n",
       "      <th>Apellido</th>\n",
       "    </tr>\n",
       "  </thead>\n",
       "  <tbody>\n",
       "    <tr>\n",
       "      <th>0</th>\n",
       "      <td>99266</td>\n",
       "      <td>ALVAREZ ALONSO</td>\n",
       "    </tr>\n",
       "  </tbody>\n",
       "</table>\n",
       "</div>"
      ],
      "text/plain": [
       "   Legajo        Apellido\n",
       "0   99266  ALVAREZ ALONSO"
      ]
     },
     "execution_count": 240,
     "metadata": {},
     "output_type": "execute_result"
    }
   ],
   "source": [
    "Inscriptos2019.iloc[:1,:2]"
   ]
  },
  {
   "cell_type": "code",
   "execution_count": 308,
   "metadata": {},
   "outputs": [
    {
     "data": {
      "text/html": [
       "<div>\n",
       "<style scoped>\n",
       "    .dataframe tbody tr th:only-of-type {\n",
       "        vertical-align: middle;\n",
       "    }\n",
       "\n",
       "    .dataframe tbody tr th {\n",
       "        vertical-align: top;\n",
       "    }\n",
       "\n",
       "    .dataframe thead th {\n",
       "        text-align: right;\n",
       "    }\n",
       "</style>\n",
       "<table border=\"1\" class=\"dataframe\">\n",
       "  <thead>\n",
       "    <tr style=\"text-align: right;\">\n",
       "      <th></th>\n",
       "      <th>Apellido</th>\n",
       "      <th>Presentes</th>\n",
       "    </tr>\n",
       "  </thead>\n",
       "  <tbody>\n",
       "    <tr>\n",
       "      <th>0</th>\n",
       "      <td>ALVAREZ ALONSO</td>\n",
       "      <td>0</td>\n",
       "    </tr>\n",
       "    <tr>\n",
       "      <th>1</th>\n",
       "      <td>ALVAREZ JULIA</td>\n",
       "      <td>0</td>\n",
       "    </tr>\n",
       "    <tr>\n",
       "      <th>2</th>\n",
       "      <td>ALVAREZ</td>\n",
       "      <td>0</td>\n",
       "    </tr>\n",
       "    <tr>\n",
       "      <th>3</th>\n",
       "      <td>ALVAREZ</td>\n",
       "      <td>0</td>\n",
       "    </tr>\n",
       "    <tr>\n",
       "      <th>4</th>\n",
       "      <td>ALVAREZ</td>\n",
       "      <td>0</td>\n",
       "    </tr>\n",
       "  </tbody>\n",
       "</table>\n",
       "</div>"
      ],
      "text/plain": [
       "         Apellido  Presentes\n",
       "0  ALVAREZ ALONSO          0\n",
       "1   ALVAREZ JULIA          0\n",
       "2         ALVAREZ          0\n",
       "3         ALVAREZ          0\n",
       "4         ALVAREZ          0"
      ]
     },
     "execution_count": 308,
     "metadata": {},
     "output_type": "execute_result"
    }
   ],
   "source": [
    "Inscriptos2019.iloc[:,[1,3]].head()"
   ]
  },
  {
   "cell_type": "code",
   "execution_count": 309,
   "metadata": {},
   "outputs": [
    {
     "data": {
      "text/html": [
       "<div>\n",
       "<style scoped>\n",
       "    .dataframe tbody tr th:only-of-type {\n",
       "        vertical-align: middle;\n",
       "    }\n",
       "\n",
       "    .dataframe tbody tr th {\n",
       "        vertical-align: top;\n",
       "    }\n",
       "\n",
       "    .dataframe thead th {\n",
       "        text-align: right;\n",
       "    }\n",
       "</style>\n",
       "<table border=\"1\" class=\"dataframe\">\n",
       "  <thead>\n",
       "    <tr style=\"text-align: right;\">\n",
       "      <th></th>\n",
       "      <th>Apellido</th>\n",
       "      <th>Presentes</th>\n",
       "    </tr>\n",
       "  </thead>\n",
       "  <tbody>\n",
       "    <tr>\n",
       "      <th>0</th>\n",
       "      <td>ALVAREZ ALONSO</td>\n",
       "      <td>0</td>\n",
       "    </tr>\n",
       "    <tr>\n",
       "      <th>1</th>\n",
       "      <td>ALVAREZ JULIA</td>\n",
       "      <td>0</td>\n",
       "    </tr>\n",
       "    <tr>\n",
       "      <th>2</th>\n",
       "      <td>ALVAREZ</td>\n",
       "      <td>0</td>\n",
       "    </tr>\n",
       "    <tr>\n",
       "      <th>3</th>\n",
       "      <td>ALVAREZ</td>\n",
       "      <td>0</td>\n",
       "    </tr>\n",
       "    <tr>\n",
       "      <th>4</th>\n",
       "      <td>ALVAREZ</td>\n",
       "      <td>0</td>\n",
       "    </tr>\n",
       "  </tbody>\n",
       "</table>\n",
       "</div>"
      ],
      "text/plain": [
       "         Apellido  Presentes\n",
       "0  ALVAREZ ALONSO          0\n",
       "1   ALVAREZ JULIA          0\n",
       "2         ALVAREZ          0\n",
       "3         ALVAREZ          0\n",
       "4         ALVAREZ          0"
      ]
     },
     "execution_count": 309,
     "metadata": {},
     "output_type": "execute_result"
    }
   ],
   "source": [
    "Inscriptos2019.loc[:,['Apellido','Presentes']].head()"
   ]
  },
  {
   "cell_type": "code",
   "execution_count": 319,
   "metadata": {},
   "outputs": [
    {
     "data": {
      "text/html": [
       "<div>\n",
       "<style scoped>\n",
       "    .dataframe tbody tr th:only-of-type {\n",
       "        vertical-align: middle;\n",
       "    }\n",
       "\n",
       "    .dataframe tbody tr th {\n",
       "        vertical-align: top;\n",
       "    }\n",
       "\n",
       "    .dataframe thead th {\n",
       "        text-align: right;\n",
       "    }\n",
       "</style>\n",
       "<table border=\"1\" class=\"dataframe\">\n",
       "  <thead>\n",
       "    <tr style=\"text-align: right;\">\n",
       "      <th></th>\n",
       "      <th>Apellido</th>\n",
       "      <th>Presentes</th>\n",
       "    </tr>\n",
       "  </thead>\n",
       "  <tbody>\n",
       "    <tr>\n",
       "      <th>2</th>\n",
       "      <td>ALVAREZ</td>\n",
       "      <td>0</td>\n",
       "    </tr>\n",
       "    <tr>\n",
       "      <th>4</th>\n",
       "      <td>ALVAREZ</td>\n",
       "      <td>0</td>\n",
       "    </tr>\n",
       "    <tr>\n",
       "      <th>6</th>\n",
       "      <td>ANCA</td>\n",
       "      <td>0</td>\n",
       "    </tr>\n",
       "    <tr>\n",
       "      <th>8</th>\n",
       "      <td>ARISTEGUI</td>\n",
       "      <td>0</td>\n",
       "    </tr>\n",
       "  </tbody>\n",
       "</table>\n",
       "</div>"
      ],
      "text/plain": [
       "    Apellido  Presentes\n",
       "2    ALVAREZ          0\n",
       "4    ALVAREZ          0\n",
       "6       ANCA          0\n",
       "8  ARISTEGUI          0"
      ]
     },
     "execution_count": 319,
     "metadata": {},
     "output_type": "execute_result"
    }
   ],
   "source": [
    "Inscriptos2019.iloc[2:10:2,[1,3]]"
   ]
  },
  {
   "cell_type": "code",
   "execution_count": 320,
   "metadata": {},
   "outputs": [
    {
     "data": {
      "text/html": [
       "<div>\n",
       "<style scoped>\n",
       "    .dataframe tbody tr th:only-of-type {\n",
       "        vertical-align: middle;\n",
       "    }\n",
       "\n",
       "    .dataframe tbody tr th {\n",
       "        vertical-align: top;\n",
       "    }\n",
       "\n",
       "    .dataframe thead th {\n",
       "        text-align: right;\n",
       "    }\n",
       "</style>\n",
       "<table border=\"1\" class=\"dataframe\">\n",
       "  <thead>\n",
       "    <tr style=\"text-align: right;\">\n",
       "      <th></th>\n",
       "      <th>Apellido</th>\n",
       "      <th>Presentes</th>\n",
       "    </tr>\n",
       "  </thead>\n",
       "  <tbody>\n",
       "    <tr>\n",
       "      <th>2</th>\n",
       "      <td>ALVAREZ</td>\n",
       "      <td>0</td>\n",
       "    </tr>\n",
       "    <tr>\n",
       "      <th>4</th>\n",
       "      <td>ALVAREZ</td>\n",
       "      <td>0</td>\n",
       "    </tr>\n",
       "    <tr>\n",
       "      <th>6</th>\n",
       "      <td>ANCA</td>\n",
       "      <td>0</td>\n",
       "    </tr>\n",
       "    <tr>\n",
       "      <th>8</th>\n",
       "      <td>ARISTEGUI</td>\n",
       "      <td>0</td>\n",
       "    </tr>\n",
       "    <tr>\n",
       "      <th>10</th>\n",
       "      <td>BATISTA</td>\n",
       "      <td>0</td>\n",
       "    </tr>\n",
       "  </tbody>\n",
       "</table>\n",
       "</div>"
      ],
      "text/plain": [
       "     Apellido  Presentes\n",
       "2     ALVAREZ          0\n",
       "4     ALVAREZ          0\n",
       "6        ANCA          0\n",
       "8   ARISTEGUI          0\n",
       "10    BATISTA          0"
      ]
     },
     "execution_count": 320,
     "metadata": {},
     "output_type": "execute_result"
    }
   ],
   "source": [
    "Inscriptos2019.loc[2:10:2,['Apellido','Presentes']]"
   ]
  },
  {
   "cell_type": "code",
   "execution_count": 267,
   "metadata": {},
   "outputs": [
    {
     "data": {
      "text/plain": [
       "79"
      ]
     },
     "execution_count": 267,
     "metadata": {},
     "output_type": "execute_result"
    }
   ],
   "source": [
    "(Inscriptos_byPadron['Cod. Carrera']==10).sum()"
   ]
  },
  {
   "cell_type": "code",
   "execution_count": 268,
   "metadata": {},
   "outputs": [
    {
     "data": {
      "text/plain": [
       "0.6124031007751938"
      ]
     },
     "execution_count": 268,
     "metadata": {},
     "output_type": "execute_result"
    }
   ],
   "source": [
    "(Inscriptos_byPadron['Cod. Carrera']==10).mean()"
   ]
  },
  {
   "cell_type": "code",
   "execution_count": 269,
   "metadata": {},
   "outputs": [
    {
     "data": {
      "text/plain": [
       "True     79\n",
       "False    50\n",
       "Name: Cod. Carrera, dtype: int64"
      ]
     },
     "execution_count": 269,
     "metadata": {},
     "output_type": "execute_result"
    }
   ],
   "source": [
    "(Inscriptos_byPadron['Cod. Carrera']==10).value_counts()"
   ]
  },
  {
   "cell_type": "code",
   "execution_count": 310,
   "metadata": {},
   "outputs": [
    {
     "data": {
      "text/plain": [
       "11111    False\n",
       "99522    False\n",
       "99373    False\n",
       "98359    False\n",
       "90928    False\n",
       "Name: Prioridad, dtype: bool"
      ]
     },
     "execution_count": 310,
     "metadata": {},
     "output_type": "execute_result"
    }
   ],
   "source": [
    "(Inscriptos_byPadron['Prioridad']<25).head()"
   ]
  },
  {
   "cell_type": "code",
   "execution_count": 311,
   "metadata": {},
   "outputs": [
    {
     "data": {
      "text/plain": [
       "11111    False\n",
       "99522    False\n",
       "99373    False\n",
       "98359    False\n",
       "90928    False\n",
       "dtype: bool"
      ]
     },
     "execution_count": 311,
     "metadata": {},
     "output_type": "execute_result"
    }
   ],
   "source": [
    "((Inscriptos_byPadron['Cod. Carrera']==10) & (Inscriptos_byPadron['Prioridad']<25)).head()"
   ]
  },
  {
   "cell_type": "code",
   "execution_count": 313,
   "metadata": {},
   "outputs": [
    {
     "data": {
      "text/plain": [
       "13"
      ]
     },
     "execution_count": 313,
     "metadata": {},
     "output_type": "execute_result"
    }
   ],
   "source": [
    "((Inscriptos_byPadron['Cod. Carrera']==10) & (Inscriptos_byPadron['Prioridad']<25)).sum()"
   ]
  },
  {
   "cell_type": "code",
   "execution_count": 314,
   "metadata": {},
   "outputs": [
    {
     "data": {
      "text/plain": [
       "pandas.core.series.Series"
      ]
     },
     "execution_count": 314,
     "metadata": {},
     "output_type": "execute_result"
    }
   ],
   "source": [
    "type((Inscriptos_byPadron['Cod. Carrera']==10) & (Inscriptos_byPadron['Prioridad']<25))"
   ]
  },
  {
   "cell_type": "code",
   "execution_count": 315,
   "metadata": {},
   "outputs": [],
   "source": [
    "filtro_inscriptos=((Inscriptos_byPadron['Cod. Carrera']==10) & (Inscriptos_byPadron['Prioridad']<25))"
   ]
  },
  {
   "cell_type": "code",
   "execution_count": 316,
   "metadata": {},
   "outputs": [
    {
     "data": {
      "text/html": [
       "<div>\n",
       "<style scoped>\n",
       "    .dataframe tbody tr th:only-of-type {\n",
       "        vertical-align: middle;\n",
       "    }\n",
       "\n",
       "    .dataframe tbody tr th {\n",
       "        vertical-align: top;\n",
       "    }\n",
       "\n",
       "    .dataframe thead th {\n",
       "        text-align: right;\n",
       "    }\n",
       "</style>\n",
       "<table border=\"1\" class=\"dataframe\">\n",
       "  <thead>\n",
       "    <tr style=\"text-align: right;\">\n",
       "      <th></th>\n",
       "      <th>Legajo</th>\n",
       "      <th>Apellido</th>\n",
       "      <th>Nombre</th>\n",
       "      <th>Presentes</th>\n",
       "      <th>Cod_Carrera</th>\n",
       "      <th>Estado</th>\n",
       "      <th>Cod. Carrera</th>\n",
       "      <th>Carrera</th>\n",
       "      <th>Prioridad</th>\n",
       "    </tr>\n",
       "  </thead>\n",
       "  <tbody>\n",
       "    <tr>\n",
       "      <th>95560</th>\n",
       "      <td>95560</td>\n",
       "      <td>CATOLINO</td>\n",
       "      <td>LUCAS</td>\n",
       "      <td>0</td>\n",
       "      <td>Regular</td>\n",
       "      <td>Pendiente</td>\n",
       "      <td>10.0</td>\n",
       "      <td>Ingeniería en Informática</td>\n",
       "      <td>10.0</td>\n",
       "    </tr>\n",
       "    <tr>\n",
       "      <th>94181</th>\n",
       "      <td>94181</td>\n",
       "      <td>COLQUE PARIHUANCOLLO</td>\n",
       "      <td>MICHAEL ARNOLD</td>\n",
       "      <td>0</td>\n",
       "      <td>Regular</td>\n",
       "      <td>Pendiente</td>\n",
       "      <td>10.0</td>\n",
       "      <td>Ingeniería en Informática</td>\n",
       "      <td>9.0</td>\n",
       "    </tr>\n",
       "    <tr>\n",
       "      <th>100016</th>\n",
       "      <td>100016</td>\n",
       "      <td>GAMARRA</td>\n",
       "      <td>ELIANA ANABELLE</td>\n",
       "      <td>0</td>\n",
       "      <td>Regular</td>\n",
       "      <td>Pendiente</td>\n",
       "      <td>10.0</td>\n",
       "      <td>Ingeniería en Informática</td>\n",
       "      <td>9.0</td>\n",
       "    </tr>\n",
       "    <tr>\n",
       "      <th>100608</th>\n",
       "      <td>100608</td>\n",
       "      <td>GIORDANO</td>\n",
       "      <td>FRANCO</td>\n",
       "      <td>0</td>\n",
       "      <td>Regular</td>\n",
       "      <td>Pendiente</td>\n",
       "      <td>10.0</td>\n",
       "      <td>Ingeniería en Informática</td>\n",
       "      <td>18.0</td>\n",
       "    </tr>\n",
       "    <tr>\n",
       "      <th>79979</th>\n",
       "      <td>79979</td>\n",
       "      <td>GONZALEZ</td>\n",
       "      <td>JUAN MANUEL</td>\n",
       "      <td>0</td>\n",
       "      <td>Regular</td>\n",
       "      <td>Pendiente</td>\n",
       "      <td>10.0</td>\n",
       "      <td>Ingeniería en Informática</td>\n",
       "      <td>5.0</td>\n",
       "    </tr>\n",
       "  </tbody>\n",
       "</table>\n",
       "</div>"
      ],
      "text/plain": [
       "        Legajo              Apellido            Nombre  Presentes Cod_Carrera  \\\n",
       "95560    95560              CATOLINO             LUCAS          0     Regular   \n",
       "94181    94181  COLQUE PARIHUANCOLLO    MICHAEL ARNOLD          0     Regular   \n",
       "100016  100016               GAMARRA   ELIANA ANABELLE          0     Regular   \n",
       "100608  100608              GIORDANO            FRANCO          0     Regular   \n",
       "79979    79979              GONZALEZ       JUAN MANUEL          0     Regular   \n",
       "\n",
       "           Estado Cod. Carrera                    Carrera  Prioridad  \n",
       "95560   Pendiente         10.0  Ingeniería en Informática       10.0  \n",
       "94181   Pendiente         10.0  Ingeniería en Informática        9.0  \n",
       "100016  Pendiente         10.0  Ingeniería en Informática        9.0  \n",
       "100608  Pendiente         10.0  Ingeniería en Informática       18.0  \n",
       "79979   Pendiente         10.0  Ingeniería en Informática        5.0  "
      ]
     },
     "execution_count": 316,
     "metadata": {},
     "output_type": "execute_result"
    }
   ],
   "source": [
    "Inscriptos_byPadron[filtro_inscriptos].head()"
   ]
  },
  {
   "cell_type": "code",
   "execution_count": null,
   "metadata": {},
   "outputs": [],
   "source": []
  }
 ],
 "metadata": {
  "kernelspec": {
   "display_name": "Python 3",
   "language": "python",
   "name": "python3"
  },
  "language_info": {
   "codemirror_mode": {
    "name": "ipython",
    "version": 3
   },
   "file_extension": ".py",
   "mimetype": "text/x-python",
   "name": "python",
   "nbconvert_exporter": "python",
   "pygments_lexer": "ipython3",
   "version": "3.6.4"
  }
 },
 "nbformat": 4,
 "nbformat_minor": 2
}
